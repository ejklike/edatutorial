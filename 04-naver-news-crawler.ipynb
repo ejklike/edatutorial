{
 "cells": [
  {
   "cell_type": "markdown",
   "id": "6e3e4a1f-9273-41f6-be12-fd8ba6ddd37a",
   "metadata": {},
   "source": [
    "# 뉴스 자동 수집기 만들기 (`selenium` 사용)"
   ]
  },
  {
   "cell_type": "markdown",
   "id": "3de8db67-e588-446f-bdb8-9d3d9de61803",
   "metadata": {},
   "source": [
    "키워드와 기간이 주어지면 키워드에 해당하는 기간 내 뉴스 검색 결과를 자동으로 수집하는 도구를 만들어보자."
   ]
  },
  {
   "cell_type": "markdown",
   "id": "c3c1bc73-d8bd-4a91-9e37-c86b266d123b",
   "metadata": {},
   "source": [
    "# 스크롤 수만큼 페이지 로딩 후 뉴스 스크랩"
   ]
  },
  {
   "cell_type": "code",
   "execution_count": null,
   "id": "b0e68ec9-1b55-46ab-a633-6bdadf9d5884",
   "metadata": {},
   "outputs": [],
   "source": [
    "def scroll_down(driver, num_scroll=-1):\n",
    "    \"\"\"\n",
    "    페이지 스크롤 다운 (무한 스크롤: num_scroll=-1 입력)\n",
    "    \"\"\"\n",
    "    #스크롤 내리기 이동 전 위치\n",
    "    old_location = driver.execute_script(\"return document.body.scrollHeight\")\n",
    "    scroll_count = 0\n",
    "    \n",
    "    while True:\n",
    "    \t#현재 스크롤의 가장 아래로 내림\n",
    "        driver.execute_script(\"window.scrollTo(0,document.body.scrollHeight)\")\n",
    "        #전체 스크롤이 늘어날 때까지 대기\n",
    "        time.sleep(2)\n",
    "        #늘어난 스크롤 높이\n",
    "        new_location = driver.execute_script(\"return document.body.scrollHeight\")\n",
    "        print('scroll down..')\n",
    "        #늘어난 스크롤 위치와 이동 전 위치 같으면(더 이상 스크롤이 늘어나지 않으면) 종료\n",
    "        if new_location == old_location or scroll_count == num_scroll:\n",
    "        \tbreak\n",
    "        #스크롤 위치값을 수정\n",
    "        old_location = new_location\n",
    "        scroll_count += 1"
   ]
  },
  {
   "cell_type": "markdown",
   "id": "c81006a9-3135-4f6d-a410-bf04017ce903",
   "metadata": {},
   "source": [
    "# 검색 결과 페이지에서 뉴스 메타 정보 수집"
   ]
  },
  {
   "cell_type": "code",
   "execution_count": null,
   "id": "be324bdf-c662-4d0e-9007-690458c526d8",
   "metadata": {},
   "outputs": [],
   "source": [
    "def list_up_news(driver):\n",
    "    \n",
    "    titles, presses, links = [], [], []\n",
    "    title_selector = 'div.news_wrap.api_ani_send > div > div.news_contents > a.news_tit'\n",
    "    press_selector = 'div.news_wrap.api_ani_send > div > div.news_info > div.info_group > a.info.press'\n",
    "\n",
    "    for i in driver.find_elements('css selector', title_selector):\n",
    "        presses.append(i.text.replace('언론사 선정', ''))\n",
    "    \n",
    "    for i in driver.find_elements('css selector', title_selector):\n",
    "        titles.append(i.text)\n",
    "        links.append(i.get_attribute(\"href\"))\n",
    "    \n",
    "    return titles, presses, links"
   ]
  },
  {
   "cell_type": "markdown",
   "id": "86d59aac-26ab-40d8-9927-99f3b0c5d3de",
   "metadata": {},
   "source": [
    "# 뉴스 url마다 접속해서 뉴스 본문 수집"
   ]
  },
  {
   "cell_type": "code",
   "execution_count": null,
   "id": "1e308acd-1ab1-4a7e-99d2-6a192df5624b",
   "metadata": {},
   "outputs": [],
   "source": [
    "from newspaper import ArticleException\n",
    "\n",
    "def collect_news_text(links):\n",
    "    texts = []\n",
    "    \n",
    "    for link in links:\n",
    "        print('기사 url :', link)\n",
    "        try:\n",
    "            # 언어를 한국어로 설정하고 URL을 전달해 Article 클래스의 객체 생성\n",
    "            article = Article(link, language='ko')\n",
    "            # 지정된 웹 페이지를 다운로드\n",
    "            article.download()\n",
    "            # 다운로드한 웹 페이지를 분석하고 필요한 정보를 추출\n",
    "            article.parse()\n",
    "            text = article.text\n",
    "            print('기사 내용 :', text[:100].replace('\\n', ''))\n",
    "            print('')\n",
    "        except ArticleException:\n",
    "            text = None\n",
    "            print('기사 내용 : 에러\\n')\n",
    "            print('')\n",
    "        \n",
    "        texts.append(text)\n",
    "        time.sleep(1)\n",
    "    return texts"
   ]
  },
  {
   "cell_type": "markdown",
   "id": "59b71c3f-c375-4129-adf8-b36623a608a7",
   "metadata": {},
   "source": [
    "# 활용해보기"
   ]
  },
  {
   "cell_type": "code",
   "execution_count": null,
   "id": "5cbfe4fb-2f0d-4dea-9fdc-7eab14c1cc9f",
   "metadata": {},
   "outputs": [],
   "source": [
    "from selenium import webdriver\n",
    "from newspaper import Article\n",
    "import time\n",
    "\n",
    "# 키워드, URL\n",
    "keyword = '비트코인'\n",
    "ds = '2025.03.01'\n",
    "de = '2025.03.02'\n",
    "url = f'https://search.naver.com/search.naver?where=news&query={keyword}&pd=3&ds={ds}&de={de}'\n",
    "\n",
    "# driver\n",
    "driver = webdriver.Chrome()\n",
    "\n",
    "# get page\n",
    "driver.get(url)\n",
    "driver.implicitly_wait(2) # 2초 안에 웹페이지를 load하면 바로 넘어가거나, 2초를 기다림\n",
    "\n",
    "# scroll down\n",
    "scroll_down(driver, num_scroll=3)"
   ]
  },
  {
   "cell_type": "code",
   "execution_count": null,
   "id": "8f1abb43-b525-4d92-aeec-53f277ed5761",
   "metadata": {},
   "outputs": [],
   "source": [
    "titles, presses, links = list_up_news(driver)\n",
    "\n",
    "print(\"가져온 뉴스 수: \", len(titles))\n",
    "print('')\n",
    "\n",
    "for title, press, link in zip(titles, presses, links):\n",
    "    print(\"제목: \", title)\n",
    "    print(\"언론사: \", press)\n",
    "    print(\"주소: \", link)\n",
    "    print()\n"
   ]
  },
  {
   "cell_type": "code",
   "execution_count": null,
   "id": "68ee169c-9b86-4476-b67f-977946f6631b",
   "metadata": {},
   "outputs": [],
   "source": [
    "texts = collect_news_text(links)"
   ]
  },
  {
   "cell_type": "code",
   "execution_count": null,
   "id": "3388622e-99b7-4966-a4be-93f12c2bd4f8",
   "metadata": {},
   "outputs": [],
   "source": [
    "# don't forget to close the driver!\n",
    "driver.close()"
   ]
  }
 ],
 "metadata": {
  "kernelspec": {
   "display_name": "Python 3 (ipykernel)",
   "language": "python",
   "name": "python3"
  },
  "language_info": {
   "codemirror_mode": {
    "name": "ipython",
    "version": 3
   },
   "file_extension": ".py",
   "mimetype": "text/x-python",
   "name": "python",
   "nbconvert_exporter": "python",
   "pygments_lexer": "ipython3",
   "version": "3.12.2"
  }
 },
 "nbformat": 4,
 "nbformat_minor": 5
}
