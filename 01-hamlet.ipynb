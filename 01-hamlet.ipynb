{
 "cells": [
  {
   "cell_type": "markdown",
   "id": "15de9316-63b7-4d2c-8344-d2c74aed48dd",
   "metadata": {},
   "source": [
    "# (Warm-up) Hamlet\n",
    "\n",
    "![](https://is1-ssl.mzstatic.com/image/thumb/Purple62/v4/1c/90/72/1c90727a-8704-c916-19a1-3a2e083a832b/source/256x256bb.jpg)\n",
    "\n",
    "http://shakespeare.mit.edu/hamlet/full.html\n",
    "\n",
    "- Q1. 대사가 가장 많은 등장인물 top 3?\n",
    "- Q2. 가장 많이 등장하는 단어 top 30?"
   ]
  },
  {
   "cell_type": "markdown",
   "id": "953525a6-f5d4-421d-bc84-2bf6ebbfe69d",
   "metadata": {},
   "source": [
    "## 1. 웹에서 연극 햄릿 원문 데이터 가져오기"
   ]
  },
  {
   "cell_type": "code",
   "execution_count": 12,
   "id": "dfc81977-f687-4ac3-8b92-658b892f593b",
   "metadata": {},
   "outputs": [],
   "source": [
    "# Requests 패키지 불러오기\n",
    "import requests"
   ]
  },
  {
   "cell_type": "code",
   "execution_count": 14,
   "id": "bcaea62c-c4d6-4ace-9aa2-3ccf7f4c93ef",
   "metadata": {},
   "outputs": [
    {
     "name": "stdout",
     "output_type": "stream",
     "text": [
      "<Response [200]>\n"
     ]
    }
   ],
   "source": [
    "# 웹사이트에서 데이터 가져오기\n",
    "url = 'http://shakespeare.mit.edu/hamlet/full.html'\n",
    "r = requests.get(url)\n",
    "print(r)"
   ]
  },
  {
   "cell_type": "code",
   "execution_count": 24,
   "id": "8174d744-967b-4e08-8689-1c1c8ebe3ae4",
   "metadata": {},
   "outputs": [
    {
     "data": {
      "text/plain": [
       "requests.models.Response"
      ]
     },
     "execution_count": 24,
     "metadata": {},
     "output_type": "execute_result"
    }
   ],
   "source": [
    "# 타입 확인\n",
    "type(r)"
   ]
  },
  {
   "cell_type": "code",
   "execution_count": 15,
   "id": "f4ecf376-0cbc-4dc7-90d0-18250986c8e8",
   "metadata": {},
   "outputs": [
    {
     "name": "stdout",
     "output_type": "stream",
     "text": [
      "{'Date': 'Mon, 17 Mar 2025 03:55:45 GMT', 'Server': 'Apache', 'Connection': 'close', 'Transfer-Encoding': 'chunked', 'Content-Type': 'text/html'}\n",
      "ISO-8859-1\n"
     ]
    }
   ],
   "source": [
    "# header\n",
    "print(r.headers)\n",
    "# encoding\n",
    "print(r.encoding)"
   ]
  },
  {
   "cell_type": "code",
   "execution_count": 16,
   "id": "90b6bffd-f1d2-4036-89eb-ee8d47b5b006",
   "metadata": {},
   "outputs": [
    {
     "name": "stdout",
     "output_type": "stream",
     "text": [
      "<!DOCTYPE HTML PUBLIC \"-//W3C//DTD HTML 4.0 Transitional//EN\"\n",
      " \"http://www.w3.org/TR/REC-html40/loose.dtd\">\n",
      " <html>\n",
      " <head>\n",
      " <title>Hamlet: Entire Play\n",
      " </title>\n",
      " <meta http-equiv=\"Content-Type\" content=\"text/html; charset=iso-8859-1\">\n",
      " <LINK rel=\"stylesheet\" type=\"text/css\" media=\"screen\"\n",
      "       href=\"/shake.css\">\n",
      " </HEAD>\n",
      " <body bgcolor=\"#ffffff\" text=\"#000000\">\n",
      "\n",
      "<table width=\"100%\" bgcolor=\"#CCF6F6\">\n",
      "<tr><td class=\"play\" align=\"center\">The Tragedy of Hamlet, Prince of Denmark\n",
      "<tr><td class=\"nav\" align=\"center\">\n",
      "      <a href=\"/Shakespeare\">Shakespeare homepage</A> \n",
      "    | <A href=\"/hamlet/\">Hamlet</A> \n",
      "    | Entire play\n",
      "</table>\n",
      "\n",
      "<H3>ACT I</h3>\n",
      "<h3>SCENE I. Elsinore. A platform before the castle.</h3>\n",
      "<p><blockquote>\n",
      "<i>FRANCISCO at his post. Enter to him BERNARDO</i>\n",
      "</blockquote>\n",
      "\n",
      "<A NAME=speech1><b>BERNARDO</b></a>\n",
      "<blockquote>\n",
      "<A NAME=1.1.1>Who's there?</A><br>\n",
      "</blockquote>\n",
      "\n",
      "<A NAME=speech2><b>FRANCISCO</b></a>\n",
      "<blockquote>\n",
      "<A NAME=1.1.2>Nay, answer me: stand, and unfold yoursel\n"
     ]
    }
   ],
   "source": [
    "# 결과 살펴보기\n",
    "print(r.text[:1000])"
   ]
  },
  {
   "cell_type": "markdown",
   "id": "b08aeb42-9918-4df1-af7c-39b8d4b18be4",
   "metadata": {},
   "source": [
    "### (참고) 텍스트 데이터 저장하고 불러오기"
   ]
  },
  {
   "cell_type": "code",
   "execution_count": 17,
   "id": "51e43d38-7bc5-44c9-bf62-a57925712d2f",
   "metadata": {},
   "outputs": [],
   "source": [
    "# 데이터 저장하기\n",
    "fname = 'hamlet.txt'\n",
    "with open(fname, 'w') as fout:\n",
    "    fout.write(r.text)"
   ]
  },
  {
   "cell_type": "code",
   "execution_count": 19,
   "id": "fd4ed6d6-3f93-4152-9377-d73b7a47d2ea",
   "metadata": {},
   "outputs": [
    {
     "name": "stdout",
     "output_type": "stream",
     "text": [
      "<!DOCTYPE HTML PUBLIC \"-//W3C//DTD HTML 4.0 Transitional//EN\"\n",
      " \"http://www.w3.org/TR/REC-html40/loos\n"
     ]
    }
   ],
   "source": [
    "# 저장한 데이터 불러오기\n",
    "with open(fname, 'r') as fin:\n",
    "    data = fin.read()\n",
    "\n",
    "print(data[:100])"
   ]
  },
  {
   "cell_type": "markdown",
   "id": "2b53dbbc-d5ab-4998-a7f2-763885bbde11",
   "metadata": {},
   "source": [
    "## 2. `beautifulsoup` 사용해서 데이터 파싱하기\n",
    "\n",
    "Documentation: https://www.crummy.com/software/BeautifulSoup/bs4/doc/"
   ]
  },
  {
   "cell_type": "code",
   "execution_count": 20,
   "id": "2c483920-0a9a-4bfe-b748-2e2779dccb4f",
   "metadata": {},
   "outputs": [],
   "source": [
    "from bs4 import BeautifulSoup as bsoup"
   ]
  },
  {
   "cell_type": "code",
   "execution_count": 56,
   "id": "d3de9083-715e-4e46-901d-735ee4e9f584",
   "metadata": {},
   "outputs": [
    {
     "data": {
      "text/plain": [
       "bs4.BeautifulSoup"
      ]
     },
     "execution_count": 56,
     "metadata": {},
     "output_type": "execute_result"
    }
   ],
   "source": [
    "# html parser를 사용해 데이터 파싱\n",
    "soup = bsoup(data, 'html.parser')\n",
    "# 타입 확인\n",
    "type(soup)"
   ]
  },
  {
   "cell_type": "code",
   "execution_count": 26,
   "id": "df2362cf-30c4-434f-b271-60d7a3e25e15",
   "metadata": {},
   "outputs": [
    {
     "data": {
      "text/plain": [
       "<head>\n",
       "<title>Hamlet: Entire Play\n",
       " </title>\n",
       "<meta content=\"text/html; charset=utf-8\" http-equiv=\"Content-Type\"/>\n",
       "<link href=\"/shake.css\" media=\"screen\" rel=\"stylesheet\" type=\"text/css\"/>\n",
       "</head>"
      ]
     },
     "execution_count": 26,
     "metadata": {},
     "output_type": "execute_result"
    }
   ],
   "source": [
    "# 데이터의 앞부분 확인\n",
    "soup.head"
   ]
  },
  {
   "cell_type": "markdown",
   "id": "409501b7-1365-4953-807d-b401e503f72a",
   "metadata": {},
   "source": [
    "## 3. 등장인물 부분만 담은 리스트, 대사만 담은 리스트 만들기"
   ]
  },
  {
   "cell_type": "markdown",
   "id": "b7910aa8-0e44-41e1-b969-53f9dde6703f",
   "metadata": {},
   "source": [
    "find_all 메서드 사용하여 파싱한 트리 탐색하기"
   ]
  },
  {
   "cell_type": "code",
   "execution_count": 95,
   "id": "ef9e3b49-c6bb-4d7e-b218-ef317a8fb168",
   "metadata": {},
   "outputs": [],
   "source": [
    "# blockquote 태그 모두 찾아서 리스트로 만들기\n",
    "lines = soup.find_all('blockquote')"
   ]
  },
  {
   "cell_type": "code",
   "execution_count": null,
   "id": "f88ab89e-65db-46ef-88b5-b3dd89b93dba",
   "metadata": {},
   "outputs": [],
   "source": [
    "# 개수 확인\n",
    "print(f'Num of lines: {len(lines)}')"
   ]
  },
  {
   "cell_type": "code",
   "execution_count": null,
   "id": "44ffb8b1-5943-45bf-adb9-ab468e66dd93",
   "metadata": {},
   "outputs": [
    {
     "name": "stdout",
     "output_type": "stream",
     "text": [
      "Num of lines: 1158\n"
     ]
    },
    {
     "data": {
      "text/plain": [
       "[<blockquote>\n",
       " <i>FRANCISCO at his post. Enter to him BERNARDO</i>\n",
       " </blockquote>,\n",
       " <blockquote>\n",
       " <a name=\"1.1.1\">Who's there?</a><br/>\n",
       " </blockquote>,\n",
       " <blockquote>\n",
       " <a name=\"1.1.2\">Nay, answer me: stand, and unfold yourself.</a><br/>\n",
       " </blockquote>]"
      ]
     },
     "execution_count": 60,
     "metadata": {},
     "output_type": "execute_result"
    }
   ],
   "source": [
    "# 데이터 확인\n",
    "lines[:3]"
   ]
  },
  {
   "cell_type": "code",
   "execution_count": 94,
   "id": "a5ebdb7e-cc21-47be-8c18-2655f2bea386",
   "metadata": {},
   "outputs": [],
   "source": [
    "# a 태그 모두 찾아서 리스트로 만들기\n",
    "import re\n",
    "\n",
    "characters = soup.find_all('a', {'name':  re.compile(r'speech\\d')})"
   ]
  },
  {
   "cell_type": "code",
   "execution_count": 90,
   "id": "5814f130-0754-402e-bacd-358ba93e916a",
   "metadata": {},
   "outputs": [
    {
     "name": "stdout",
     "output_type": "stream",
     "text": [
      "Num of characters: 1150\n"
     ]
    }
   ],
   "source": [
    "# 등장인물 데이터 개수 확인\n",
    "print(f'Num of characters: {len(characters)}')"
   ]
  },
  {
   "cell_type": "code",
   "execution_count": 91,
   "id": "3a3439f4-a5a5-4a0a-b8cd-968c714589df",
   "metadata": {},
   "outputs": [
    {
     "data": {
      "text/plain": [
       "[<a name=\"speech1\"><b>BERNARDO</b></a>,\n",
       " <a name=\"speech2\"><b>FRANCISCO</b></a>,\n",
       " <a name=\"speech3\"><b>BERNARDO</b></a>]"
      ]
     },
     "execution_count": 91,
     "metadata": {},
     "output_type": "execute_result"
    }
   ],
   "source": [
    "# 등장이름 데이터 확인\n",
    "characters[:3]"
   ]
  },
  {
   "cell_type": "markdown",
   "id": "0708d4f3-f60f-41ac-8da1-36c5313742aa",
   "metadata": {},
   "source": [
    "## 4. 데이터 전처리"
   ]
  },
  {
   "cell_type": "code",
   "execution_count": 96,
   "id": "16122a4c-05aa-4e43-9221-896dfcc03ae6",
   "metadata": {},
   "outputs": [],
   "source": [
    "lines = [l.text.strip() for l in lines]\n",
    "characters = [c.text.strip() for c in characters]"
   ]
  },
  {
   "cell_type": "markdown",
   "id": "fa66e341-97f6-43dd-8880-e7eceadfd0fb",
   "metadata": {},
   "source": [
    "## 5. 질문에 답하기\n",
    "\n",
    "- Q1. 대사가 가장 많은 등장인물 top 3?\n",
    "- Q2. 가장 많이 등장하는 단어 top 30?"
   ]
  },
  {
   "cell_type": "code",
   "execution_count": 97,
   "id": "8feae523-e01d-420b-bb89-7daae9f983bd",
   "metadata": {},
   "outputs": [
    {
     "data": {
      "text/plain": [
       "Counter({'HAMLET': 359,\n",
       "         'HORATIO': 112,\n",
       "         'KING CLAUDIUS': 102,\n",
       "         'LORD POLONIUS': 86,\n",
       "         'QUEEN GERTRUDE': 69,\n",
       "         'LAERTES': 62,\n",
       "         'OPHELIA': 58,\n",
       "         'ROSENCRANTZ': 48,\n",
       "         'MARCELLUS': 36,\n",
       "         'First Clown': 33,\n",
       "         'GUILDENSTERN': 32,\n",
       "         'OSRIC': 25,\n",
       "         'BERNARDO': 23,\n",
       "         'Ghost': 14,\n",
       "         'REYNALDO': 13,\n",
       "         'Second Clown': 12,\n",
       "         'FRANCISCO': 8,\n",
       "         'First Player': 8,\n",
       "         'Captain': 7,\n",
       "         'PRINCE FORTINBRAS': 6,\n",
       "         'Player Queen': 5,\n",
       "         'All': 4,\n",
       "         'Player King': 4,\n",
       "         'Gentleman': 3,\n",
       "         'Danes': 3,\n",
       "         'Lord': 3,\n",
       "         'VOLTIMAND': 2,\n",
       "         'First Sailor': 2,\n",
       "         'Messenger': 2,\n",
       "         'First Priest': 2,\n",
       "         'CORNELIUS': 1,\n",
       "         'Prologue': 1,\n",
       "         'LUCIANUS': 1,\n",
       "         'ROSENCRANTZ:': 1,\n",
       "         'GUILDENSTERN:': 1,\n",
       "         'Servant': 1,\n",
       "         'First Ambassador': 1})"
      ]
     },
     "execution_count": 97,
     "metadata": {},
     "output_type": "execute_result"
    }
   ],
   "source": [
    "# 대사가 가장 많은 등장인물 top 3?\n",
    "from collections import Counter\n",
    "\n",
    "Counter(characters)"
   ]
  },
  {
   "cell_type": "code",
   "execution_count": 131,
   "id": "5b54b10c-a549-497f-bf09-5195c2150097",
   "metadata": {},
   "outputs": [
    {
     "name": "stdout",
     "output_type": "stream",
     "text": [
      "FRANCISCO at his post. Enter to him BERNARDO\n",
      "Who's there?\n",
      "Nay, answer me: stand, and unfold yourself.\n",
      "Long live the king!\n",
      "Bernardo?\n",
      "He.\n",
      "You come most carefully upon your hour.\n",
      "'Tis now struck twelve; get thee to bed, Francisco.\n",
      "For this relief much thanks: 'tis bitter cold,\n",
      "And I am sick at heart.\n",
      "Have you had quiet guard?\n"
     ]
    },
    {
     "data": {
      "text/plain": [
       "['FRANCISCO',\n",
       " 'at',\n",
       " 'his',\n",
       " 'post',\n",
       " 'Enter',\n",
       " 'to',\n",
       " 'him',\n",
       " 'BERNARDO',\n",
       " 'FRANCISCO at his post Enter to him BERNARDO',\n",
       " 'Who',\n",
       " 's',\n",
       " 'there',\n",
       " 'Who s there ',\n",
       " 'Nay',\n",
       " 'answer',\n",
       " 'me',\n",
       " 'stand',\n",
       " 'and',\n",
       " 'unfold',\n",
       " 'yourself',\n",
       " 'Nay answer me stand and unfold yourself ',\n",
       " 'Long',\n",
       " 'live',\n",
       " 'the',\n",
       " 'king',\n",
       " 'Long live the king ',\n",
       " 'Bernardo',\n",
       " 'Bernardo ',\n",
       " 'He',\n",
       " 'He ',\n",
       " 'You',\n",
       " 'come',\n",
       " 'most',\n",
       " 'carefully',\n",
       " 'upon',\n",
       " 'your',\n",
       " 'hour',\n",
       " 'You come most carefully upon your hour ',\n",
       " 'Tis',\n",
       " 'now',\n",
       " 'struck',\n",
       " 'twelve',\n",
       " 'get',\n",
       " 'thee',\n",
       " 'to',\n",
       " 'bed',\n",
       " 'Francisco',\n",
       " ' Tis now struck twelve get thee to bed Francisco ',\n",
       " 'For',\n",
       " 'this',\n",
       " 'relief',\n",
       " 'much',\n",
       " 'thanks',\n",
       " 'tis',\n",
       " 'bitter',\n",
       " 'cold',\n",
       " 'And',\n",
       " 'I',\n",
       " 'am',\n",
       " 'sick',\n",
       " 'at',\n",
       " 'heart',\n",
       " 'For this relief much thanks tis bitter cold And I am sick at heart ',\n",
       " 'Have',\n",
       " 'you',\n",
       " 'had',\n",
       " 'quiet',\n",
       " 'guard',\n",
       " 'Have you had quiet guard ']"
      ]
     },
     "execution_count": 131,
     "metadata": {},
     "output_type": "execute_result"
    }
   ],
   "source": [
    "# Q2. 가장 많이 등장하는 단어 top 30?\n",
    "\n",
    "words = []\n",
    "for x in lines[:10]:\n",
    "    print(x)\n",
    "    x = re.sub(r'[\\s+|.|,|!|?|;|:|\"|\\']+', ' ', x)\n",
    "    words += x.strip().split(' ')\n",
    "    words += [x]\n",
    "words"
   ]
  }
 ],
 "metadata": {
  "kernelspec": {
   "display_name": "Python 3 (ipykernel)",
   "language": "python",
   "name": "python3"
  },
  "language_info": {
   "codemirror_mode": {
    "name": "ipython",
    "version": 3
   },
   "file_extension": ".py",
   "mimetype": "text/x-python",
   "name": "python",
   "nbconvert_exporter": "python",
   "pygments_lexer": "ipython3",
   "version": "3.12.2"
  }
 },
 "nbformat": 4,
 "nbformat_minor": 5
}
