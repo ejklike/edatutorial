{
 "cells": [
  {
   "cell_type": "markdown",
   "id": "0bca5d4a-1dec-42f6-9e74-e67fcea988da",
   "metadata": {},
   "source": [
    "# 텍스트 데이터 전처리"
   ]
  },
  {
   "cell_type": "markdown",
   "id": "7c198772-bcbc-4b12-8b7a-57e8c0c19ebe",
   "metadata": {},
   "source": [
    "```\n",
    "pip install konlpy\n",
    "pip install kiwipiepy\n",
    "```"
   ]
  },
  {
   "cell_type": "code",
   "execution_count": null,
   "id": "9d59caad-2de1-4c62-9d0a-f8a548cf8c5b",
   "metadata": {},
   "outputs": [],
   "source": []
  },
  {
   "cell_type": "code",
   "execution_count": null,
   "id": "8deaa945-6acd-48b4-a9e1-3e72e7f04552",
   "metadata": {},
   "outputs": [],
   "source": []
  },
  {
   "cell_type": "markdown",
   "id": "5f95ff96-f393-4b83-b7cc-9523341b74c4",
   "metadata": {},
   "source": [
    "## 데이터 불러오기"
   ]
  },
  {
   "cell_type": "code",
   "execution_count": 1,
   "id": "f78371ae-e1d0-41ab-9169-4a73e4f83f42",
   "metadata": {},
   "outputs": [],
   "source": [
    "import pandas as pd\n",
    "\n",
    "df1 = pd.read_csv('./data/lee_all.csv', sep=',', quoting=1)\n",
    "df1['label'] = '이재명'\n",
    "df2 = pd.read_csv('./data/yoon_all.csv', sep=',', quoting=1)\n",
    "df2['label'] = '윤석열'\n",
    "df = pd.concat([df1, df2], axis=0).reset_index(drop=True)"
   ]
  },
  {
   "cell_type": "code",
   "execution_count": 2,
   "id": "99357ad1-3691-4c3d-981f-e50d1eaa8094",
   "metadata": {},
   "outputs": [
    {
     "data": {
      "text/plain": [
       "21660"
      ]
     },
     "execution_count": 2,
     "metadata": {},
     "output_type": "execute_result"
    }
   ],
   "source": [
    "len(df)"
   ]
  },
  {
   "cell_type": "code",
   "execution_count": 3,
   "id": "dd783faa-ee67-4185-aade-9281db3b2481",
   "metadata": {},
   "outputs": [
    {
     "data": {
      "text/html": [
       "<div>\n",
       "<style scoped>\n",
       "    .dataframe tbody tr th:only-of-type {\n",
       "        vertical-align: middle;\n",
       "    }\n",
       "\n",
       "    .dataframe tbody tr th {\n",
       "        vertical-align: top;\n",
       "    }\n",
       "\n",
       "    .dataframe thead th {\n",
       "        text-align: right;\n",
       "    }\n",
       "</style>\n",
       "<table border=\"1\" class=\"dataframe\">\n",
       "  <thead>\n",
       "    <tr style=\"text-align: right;\">\n",
       "      <th></th>\n",
       "      <th>url</th>\n",
       "      <th>press</th>\n",
       "      <th>title</th>\n",
       "      <th>datetime</th>\n",
       "      <th>text</th>\n",
       "      <th>label</th>\n",
       "    </tr>\n",
       "  </thead>\n",
       "  <tbody>\n",
       "    <tr>\n",
       "      <th>18003</th>\n",
       "      <td>http://www.sisafocus.co.kr/news/articleView.ht...</td>\n",
       "      <td>시사포커스</td>\n",
       "      <td>[포토] 젊은 문화예술인들 '윤석열 탄핵 반대' 집회 참가</td>\n",
       "      <td>2025-03-01 11:06:25+09:00</td>\n",
       "      <td>2월 28일 오후 교보빌딩 앞 윤석열 대통령 탄핵반대 문화예술인 광화문 버스킹 전야...</td>\n",
       "      <td>윤석열</td>\n",
       "    </tr>\n",
       "  </tbody>\n",
       "</table>\n",
       "</div>"
      ],
      "text/plain": [
       "                                                     url  press  \\\n",
       "18003  http://www.sisafocus.co.kr/news/articleView.ht...  시사포커스   \n",
       "\n",
       "                                  title                   datetime  \\\n",
       "18003  [포토] 젊은 문화예술인들 '윤석열 탄핵 반대' 집회 참가  2025-03-01 11:06:25+09:00   \n",
       "\n",
       "                                                    text label  \n",
       "18003  2월 28일 오후 교보빌딩 앞 윤석열 대통령 탄핵반대 문화예술인 광화문 버스킹 전야...   윤석열  "
      ]
     },
     "execution_count": 3,
     "metadata": {},
     "output_type": "execute_result"
    }
   ],
   "source": [
    "df.sample()"
   ]
  },
  {
   "cell_type": "markdown",
   "id": "152e9833-f7a1-4df0-8462-cc9d916e43cb",
   "metadata": {},
   "source": [
    "## 중복 뉴스 확인"
   ]
  },
  {
   "cell_type": "code",
   "execution_count": 4,
   "id": "6c84924b-c4ef-408f-8630-7dfb7fed0e3c",
   "metadata": {},
   "outputs": [
    {
     "name": "stdout",
     "output_type": "stream",
     "text": [
      "4964\n"
     ]
    },
    {
     "data": {
      "text/html": [
       "<div>\n",
       "<style scoped>\n",
       "    .dataframe tbody tr th:only-of-type {\n",
       "        vertical-align: middle;\n",
       "    }\n",
       "\n",
       "    .dataframe tbody tr th {\n",
       "        vertical-align: top;\n",
       "    }\n",
       "\n",
       "    .dataframe thead th {\n",
       "        text-align: right;\n",
       "    }\n",
       "</style>\n",
       "<table border=\"1\" class=\"dataframe\">\n",
       "  <thead>\n",
       "    <tr style=\"text-align: right;\">\n",
       "      <th></th>\n",
       "      <th>url</th>\n",
       "      <th>press</th>\n",
       "      <th>title</th>\n",
       "      <th>datetime</th>\n",
       "      <th>text</th>\n",
       "      <th>label</th>\n",
       "    </tr>\n",
       "  </thead>\n",
       "  <tbody>\n",
       "    <tr>\n",
       "      <th>16209</th>\n",
       "      <td>http://andongmbc.co.kr/adboard/NewsView74142</td>\n",
       "      <td>안동MBC</td>\n",
       "      <td>내일 안동에서 윤석열 파면 촉구 11차 문화제</td>\n",
       "      <td>NaN</td>\n",
       "      <td>\\n\\n윤석열 대통령의 파면을 촉구하는\\n\\n안동 시민 문화제가 이번 주말도 열립니...</td>\n",
       "      <td>윤석열</td>\n",
       "    </tr>\n",
       "    <tr>\n",
       "      <th>16242</th>\n",
       "      <td>http://andongmbc.co.kr/adboard/NewsView74142</td>\n",
       "      <td>안동MBC</td>\n",
       "      <td>내일 안동에서 윤석열 파면 촉구 11차 문화제</td>\n",
       "      <td>NaN</td>\n",
       "      <td>\\n\\n윤석열 대통령의 파면을 촉구하는\\n\\n안동 시민 문화제가 이번 주말도 열립니...</td>\n",
       "      <td>윤석열</td>\n",
       "    </tr>\n",
       "    <tr>\n",
       "      <th>1245</th>\n",
       "      <td>http://kor.theasian.asia/archives/371720</td>\n",
       "      <td>아시아엔</td>\n",
       "      <td>'아사히신문' 김형오 전 국회의장 인터뷰 \"한국정치 혼란의 본질은 무엇...</td>\n",
       "      <td>NaN</td>\n",
       "      <td>NaN</td>\n",
       "      <td>이재명</td>\n",
       "    </tr>\n",
       "    <tr>\n",
       "      <th>1302</th>\n",
       "      <td>http://kor.theasian.asia/archives/371720</td>\n",
       "      <td>아시아엔</td>\n",
       "      <td>'아사히신문' 김형오 전 국회의장 인터뷰 \"한국정치 혼란의 본질은 무엇...</td>\n",
       "      <td>NaN</td>\n",
       "      <td>NaN</td>\n",
       "      <td>이재명</td>\n",
       "    </tr>\n",
       "    <tr>\n",
       "      <th>17687</th>\n",
       "      <td>http://kor.theasian.asia/archives/373408</td>\n",
       "      <td>아시아엔</td>\n",
       "      <td>[전문] 윤석열 대통령 헌재 최종 진술 \"잔여 임기 연연 않겠다\"</td>\n",
       "      <td>2025-02-26 00:07:09+00:00</td>\n",
       "      <td>6차 변론 당시 윤석열 대통령\\n\\n\\n\\n윤석열 대통령은 25일 헌법재판소 탄핵 ...</td>\n",
       "      <td>윤석열</td>\n",
       "    </tr>\n",
       "    <tr>\n",
       "      <th>...</th>\n",
       "      <td>...</td>\n",
       "      <td>...</td>\n",
       "      <td>...</td>\n",
       "      <td>...</td>\n",
       "      <td>...</td>\n",
       "      <td>...</td>\n",
       "    </tr>\n",
       "    <tr>\n",
       "      <th>18842</th>\n",
       "      <td>https://www.ytn.co.kr/_ln/0104_202503081801563826</td>\n",
       "      <td>YTN</td>\n",
       "      <td>[속보] 주요 해외언론, 윤석열 대통령 석방 긴급 타전</td>\n",
       "      <td>2025-03-08 18:01:00+09:00</td>\n",
       "      <td>AD\\n\\n주요 해외언론, 윤석열 대통령 석방 긴급 타전\\n\\n\\n\\n◇ 자세한 뉴...</td>\n",
       "      <td>윤석열</td>\n",
       "    </tr>\n",
       "    <tr>\n",
       "      <th>20803</th>\n",
       "      <td>https://www.ytn.co.kr/_ln/0134_202503242037550950</td>\n",
       "      <td>YTN</td>\n",
       "      <td>각하 가능성 줄었다?...한덕수로 본 윤석열 탄핵 선고 [Y녹취록]</td>\n",
       "      <td>2025-03-24 20:37:00+09:00</td>\n",
       "      <td>AD\\n\\n■ 진행 : 이여진 앵커, 정원석 앵커\\n\\n■ 출연 : 이고은 변호사\\...</td>\n",
       "      <td>윤석열</td>\n",
       "    </tr>\n",
       "    <tr>\n",
       "      <th>20756</th>\n",
       "      <td>https://www.ytn.co.kr/_ln/0134_202503242037550950</td>\n",
       "      <td>YTN</td>\n",
       "      <td>각하 가능성 줄었다?...한덕수로 본 윤석열 탄핵 선고 [Y녹취록]</td>\n",
       "      <td>2025-03-24 20:37:00+09:00</td>\n",
       "      <td>AD\\n\\n■ 진행 : 이여진 앵커, 정원석 앵커\\n\\n■ 출연 : 이고은 변호사\\...</td>\n",
       "      <td>윤석열</td>\n",
       "    </tr>\n",
       "    <tr>\n",
       "      <th>15084</th>\n",
       "      <td>https://www.ziksir.com/news/articleView.html?i...</td>\n",
       "      <td>직썰</td>\n",
       "      <td>민주당 \"윤석열의 거짓말, 여인형-홍장원 증언으로 드러나\"</td>\n",
       "      <td>2025-02-05 11:05:54+09:00</td>\n",
       "      <td>더불어민주당 조승래 수석대변인. [연합뉴스]\\n\\n[직썰 / 김봉연 기자] 더불어민...</td>\n",
       "      <td>윤석열</td>\n",
       "    </tr>\n",
       "    <tr>\n",
       "      <th>15122</th>\n",
       "      <td>https://www.ziksir.com/news/articleView.html?i...</td>\n",
       "      <td>직썰</td>\n",
       "      <td>민주당 \"윤석열의 거짓말, 여인형-홍장원 증언으로 드러나\"</td>\n",
       "      <td>2025-02-05 11:05:54+09:00</td>\n",
       "      <td>더불어민주당 조승래 수석대변인. [연합뉴스]\\n\\n[직썰 / 김봉연 기자] 더불어민...</td>\n",
       "      <td>윤석열</td>\n",
       "    </tr>\n",
       "  </tbody>\n",
       "</table>\n",
       "<p>4964 rows × 6 columns</p>\n",
       "</div>"
      ],
      "text/plain": [
       "                                                     url  press  \\\n",
       "16209       http://andongmbc.co.kr/adboard/NewsView74142  안동MBC   \n",
       "16242       http://andongmbc.co.kr/adboard/NewsView74142  안동MBC   \n",
       "1245            http://kor.theasian.asia/archives/371720   아시아엔   \n",
       "1302            http://kor.theasian.asia/archives/371720   아시아엔   \n",
       "17687           http://kor.theasian.asia/archives/373408   아시아엔   \n",
       "...                                                  ...    ...   \n",
       "18842  https://www.ytn.co.kr/_ln/0104_202503081801563826    YTN   \n",
       "20803  https://www.ytn.co.kr/_ln/0134_202503242037550950    YTN   \n",
       "20756  https://www.ytn.co.kr/_ln/0134_202503242037550950    YTN   \n",
       "15084  https://www.ziksir.com/news/articleView.html?i...     직썰   \n",
       "15122  https://www.ziksir.com/news/articleView.html?i...     직썰   \n",
       "\n",
       "                                            title                   datetime  \\\n",
       "16209                   내일 안동에서 윤석열 파면 촉구 11차 문화제                        NaN   \n",
       "16242                   내일 안동에서 윤석열 파면 촉구 11차 문화제                        NaN   \n",
       "1245   '아사히신문' 김형오 전 국회의장 인터뷰 \"한국정치 혼란의 본질은 무엇...                        NaN   \n",
       "1302   '아사히신문' 김형오 전 국회의장 인터뷰 \"한국정치 혼란의 본질은 무엇...                        NaN   \n",
       "17687        [전문] 윤석열 대통령 헌재 최종 진술 \"잔여 임기 연연 않겠다\"  2025-02-26 00:07:09+00:00   \n",
       "...                                           ...                        ...   \n",
       "18842              [속보] 주요 해외언론, 윤석열 대통령 석방 긴급 타전  2025-03-08 18:01:00+09:00   \n",
       "20803       각하 가능성 줄었다?...한덕수로 본 윤석열 탄핵 선고 [Y녹취록]  2025-03-24 20:37:00+09:00   \n",
       "20756       각하 가능성 줄었다?...한덕수로 본 윤석열 탄핵 선고 [Y녹취록]  2025-03-24 20:37:00+09:00   \n",
       "15084            민주당 \"윤석열의 거짓말, 여인형-홍장원 증언으로 드러나\"  2025-02-05 11:05:54+09:00   \n",
       "15122            민주당 \"윤석열의 거짓말, 여인형-홍장원 증언으로 드러나\"  2025-02-05 11:05:54+09:00   \n",
       "\n",
       "                                                    text label  \n",
       "16209  \\n\\n윤석열 대통령의 파면을 촉구하는\\n\\n안동 시민 문화제가 이번 주말도 열립니...   윤석열  \n",
       "16242  \\n\\n윤석열 대통령의 파면을 촉구하는\\n\\n안동 시민 문화제가 이번 주말도 열립니...   윤석열  \n",
       "1245                                                 NaN   이재명  \n",
       "1302                                                 NaN   이재명  \n",
       "17687  6차 변론 당시 윤석열 대통령\\n\\n\\n\\n윤석열 대통령은 25일 헌법재판소 탄핵 ...   윤석열  \n",
       "...                                                  ...   ...  \n",
       "18842  AD\\n\\n주요 해외언론, 윤석열 대통령 석방 긴급 타전\\n\\n\\n\\n◇ 자세한 뉴...   윤석열  \n",
       "20803  AD\\n\\n■ 진행 : 이여진 앵커, 정원석 앵커\\n\\n■ 출연 : 이고은 변호사\\...   윤석열  \n",
       "20756  AD\\n\\n■ 진행 : 이여진 앵커, 정원석 앵커\\n\\n■ 출연 : 이고은 변호사\\...   윤석열  \n",
       "15084  더불어민주당 조승래 수석대변인. [연합뉴스]\\n\\n[직썰 / 김봉연 기자] 더불어민...   윤석열  \n",
       "15122  더불어민주당 조승래 수석대변인. [연합뉴스]\\n\\n[직썰 / 김봉연 기자] 더불어민...   윤석열  \n",
       "\n",
       "[4964 rows x 6 columns]"
      ]
     },
     "execution_count": 4,
     "metadata": {},
     "output_type": "execute_result"
    }
   ],
   "source": [
    "df_dup = df[df.duplicated(subset=['url'], keep=False)]\n",
    "df_dup_sorted = df_dup.sort_values(by='url')\n",
    "print(len(df_dup_sorted))\n",
    "df_dup_sorted"
   ]
  },
  {
   "cell_type": "code",
   "execution_count": 5,
   "id": "a122624d-0fbf-45c0-b972-dcedb8538984",
   "metadata": {},
   "outputs": [
    {
     "data": {
      "text/plain": [
       "label\n",
       "윤석열    2877\n",
       "이재명    2087\n",
       "Name: count, dtype: int64"
      ]
     },
     "execution_count": 5,
     "metadata": {},
     "output_type": "execute_result"
    }
   ],
   "source": [
    "df_dup_sorted.label.value_counts()"
   ]
  },
  {
   "cell_type": "markdown",
   "id": "61bd19bf-00f1-4809-be8a-bd080ef342bf",
   "metadata": {},
   "source": [
    "## 중복 뉴스 제거"
   ]
  },
  {
   "cell_type": "code",
   "execution_count": 6,
   "id": "c05e0b0c-e980-485a-be12-2b347e9bbdfd",
   "metadata": {},
   "outputs": [
    {
     "data": {
      "text/plain": [
       "19054"
      ]
     },
     "execution_count": 6,
     "metadata": {},
     "output_type": "execute_result"
    }
   ],
   "source": [
    "df = df.drop_duplicates('url', keep='first')\n",
    "len(df)"
   ]
  },
  {
   "cell_type": "markdown",
   "id": "c4bd817f-4426-4eb4-9d1d-6b2d57e24bdb",
   "metadata": {},
   "source": [
    "## 내용 없는 뉴스 확인"
   ]
  },
  {
   "cell_type": "code",
   "execution_count": 7,
   "id": "b1d47387-2d4b-43a8-8f1e-6803a582158c",
   "metadata": {},
   "outputs": [
    {
     "data": {
      "text/html": [
       "<div>\n",
       "<style scoped>\n",
       "    .dataframe tbody tr th:only-of-type {\n",
       "        vertical-align: middle;\n",
       "    }\n",
       "\n",
       "    .dataframe tbody tr th {\n",
       "        vertical-align: top;\n",
       "    }\n",
       "\n",
       "    .dataframe thead th {\n",
       "        text-align: right;\n",
       "    }\n",
       "</style>\n",
       "<table border=\"1\" class=\"dataframe\">\n",
       "  <thead>\n",
       "    <tr style=\"text-align: right;\">\n",
       "      <th></th>\n",
       "      <th>url</th>\n",
       "      <th>press</th>\n",
       "      <th>title</th>\n",
       "      <th>datetime</th>\n",
       "      <th>text</th>\n",
       "      <th>label</th>\n",
       "    </tr>\n",
       "  </thead>\n",
       "  <tbody>\n",
       "    <tr>\n",
       "      <th>1</th>\n",
       "      <td>https://news.jtbc.co.kr/article/NB12230072?inf...</td>\n",
       "      <td>JTBC</td>\n",
       "      <td>이재명 35%, 홍준표 8%…범진보 44%, 범보수 33%</td>\n",
       "      <td>NaN</td>\n",
       "      <td>NaN</td>\n",
       "      <td>이재명</td>\n",
       "    </tr>\n",
       "    <tr>\n",
       "      <th>3</th>\n",
       "      <td>https://www.chosun.com/politics/politics_gener...</td>\n",
       "      <td>조선일보</td>\n",
       "      <td>차기 대선후보 조사서 이재명 1위... ‘민주-국힘 격차, 오차범위 내’...</td>\n",
       "      <td>2025-01-01 00:00:00</td>\n",
       "      <td>NaN</td>\n",
       "      <td>이재명</td>\n",
       "    </tr>\n",
       "    <tr>\n",
       "      <th>90</th>\n",
       "      <td>https://biz.chosun.com/policy/politics/2025/01...</td>\n",
       "      <td>조선비즈</td>\n",
       "      <td>李 “지난해 유례없는 어둠 직면… 새로운 미래 열겠다”</td>\n",
       "      <td>2025-01-01 00:00:00</td>\n",
       "      <td>NaN</td>\n",
       "      <td>이재명</td>\n",
       "    </tr>\n",
       "    <tr>\n",
       "      <th>123</th>\n",
       "      <td>https://www.chosun.com/national/court_law/2025...</td>\n",
       "      <td>조선일보</td>\n",
       "      <td>이재명 ‘선거법 위반’ 항소심 23일 시작... 1심 선고 후 두달 만</td>\n",
       "      <td>2025-01-02 00:00:00</td>\n",
       "      <td>NaN</td>\n",
       "      <td>이재명</td>\n",
       "    </tr>\n",
       "    <tr>\n",
       "      <th>135</th>\n",
       "      <td>https://www.chosun.com/opinion/column/2025/01/...</td>\n",
       "      <td>조선일보</td>\n",
       "      <td>[양상훈 칼럼] 이재명 막겠다는 국힘, 다 빗나가는 이유</td>\n",
       "      <td>2025-01-02 00:00:00</td>\n",
       "      <td>NaN</td>\n",
       "      <td>이재명</td>\n",
       "    </tr>\n",
       "  </tbody>\n",
       "</table>\n",
       "</div>"
      ],
      "text/plain": [
       "                                                   url press  \\\n",
       "1    https://news.jtbc.co.kr/article/NB12230072?inf...  JTBC   \n",
       "3    https://www.chosun.com/politics/politics_gener...  조선일보   \n",
       "90   https://biz.chosun.com/policy/politics/2025/01...  조선비즈   \n",
       "123  https://www.chosun.com/national/court_law/2025...  조선일보   \n",
       "135  https://www.chosun.com/opinion/column/2025/01/...  조선일보   \n",
       "\n",
       "                                           title             datetime text  \\\n",
       "1               이재명 35%, 홍준표 8%…범진보 44%, 범보수 33%                  NaN  NaN   \n",
       "3    차기 대선후보 조사서 이재명 1위... ‘민주-국힘 격차, 오차범위 내’...  2025-01-01 00:00:00  NaN   \n",
       "90                李 “지난해 유례없는 어둠 직면… 새로운 미래 열겠다”  2025-01-01 00:00:00  NaN   \n",
       "123      이재명 ‘선거법 위반’ 항소심 23일 시작... 1심 선고 후 두달 만  2025-01-02 00:00:00  NaN   \n",
       "135              [양상훈 칼럼] 이재명 막겠다는 국힘, 다 빗나가는 이유  2025-01-02 00:00:00  NaN   \n",
       "\n",
       "    label  \n",
       "1     이재명  \n",
       "3     이재명  \n",
       "90    이재명  \n",
       "123   이재명  \n",
       "135   이재명  "
      ]
     },
     "execution_count": 7,
     "metadata": {},
     "output_type": "execute_result"
    }
   ],
   "source": [
    "df_null = df[df.text.isna()]\n",
    "df_null.head()"
   ]
  },
  {
   "cell_type": "code",
   "execution_count": 8,
   "id": "193ab683-5b45-417b-ac37-23d3197a3571",
   "metadata": {},
   "outputs": [
    {
     "data": {
      "text/html": [
       "<div>\n",
       "<style scoped>\n",
       "    .dataframe tbody tr th:only-of-type {\n",
       "        vertical-align: middle;\n",
       "    }\n",
       "\n",
       "    .dataframe tbody tr th {\n",
       "        vertical-align: top;\n",
       "    }\n",
       "\n",
       "    .dataframe thead th {\n",
       "        text-align: right;\n",
       "    }\n",
       "</style>\n",
       "<table border=\"1\" class=\"dataframe\">\n",
       "  <thead>\n",
       "    <tr style=\"text-align: right;\">\n",
       "      <th></th>\n",
       "      <th>null_data_count</th>\n",
       "      <th>all_data_count</th>\n",
       "    </tr>\n",
       "    <tr>\n",
       "      <th>press</th>\n",
       "      <th></th>\n",
       "      <th></th>\n",
       "    </tr>\n",
       "  </thead>\n",
       "  <tbody>\n",
       "    <tr>\n",
       "      <th>JTBC</th>\n",
       "      <td>179</td>\n",
       "      <td>179</td>\n",
       "    </tr>\n",
       "    <tr>\n",
       "      <th>조선일보</th>\n",
       "      <td>172</td>\n",
       "      <td>172</td>\n",
       "    </tr>\n",
       "    <tr>\n",
       "      <th>뉴스1</th>\n",
       "      <td>94</td>\n",
       "      <td>1151</td>\n",
       "    </tr>\n",
       "    <tr>\n",
       "      <th>민중의소리</th>\n",
       "      <td>74</td>\n",
       "      <td>74</td>\n",
       "    </tr>\n",
       "    <tr>\n",
       "      <th>이데일리</th>\n",
       "      <td>73</td>\n",
       "      <td>382</td>\n",
       "    </tr>\n",
       "    <tr>\n",
       "      <th>조선비즈</th>\n",
       "      <td>71</td>\n",
       "      <td>71</td>\n",
       "    </tr>\n",
       "    <tr>\n",
       "      <th>스카이데일리</th>\n",
       "      <td>25</td>\n",
       "      <td>25</td>\n",
       "    </tr>\n",
       "    <tr>\n",
       "      <th>TV조선</th>\n",
       "      <td>21</td>\n",
       "      <td>354</td>\n",
       "    </tr>\n",
       "    <tr>\n",
       "      <th>SBS Biz</th>\n",
       "      <td>12</td>\n",
       "      <td>12</td>\n",
       "    </tr>\n",
       "    <tr>\n",
       "      <th>서울경제TV</th>\n",
       "      <td>6</td>\n",
       "      <td>6</td>\n",
       "    </tr>\n",
       "    <tr>\n",
       "      <th>부산MBC</th>\n",
       "      <td>3</td>\n",
       "      <td>3</td>\n",
       "    </tr>\n",
       "    <tr>\n",
       "      <th>가톨릭평화방송·평화신문</th>\n",
       "      <td>3</td>\n",
       "      <td>3</td>\n",
       "    </tr>\n",
       "    <tr>\n",
       "      <th>데일리안</th>\n",
       "      <td>2</td>\n",
       "      <td>245</td>\n",
       "    </tr>\n",
       "    <tr>\n",
       "      <th>대구일보</th>\n",
       "      <td>2</td>\n",
       "      <td>23</td>\n",
       "    </tr>\n",
       "    <tr>\n",
       "      <th>미주중앙일보</th>\n",
       "      <td>2</td>\n",
       "      <td>4</td>\n",
       "    </tr>\n",
       "    <tr>\n",
       "      <th>연합뉴스TV</th>\n",
       "      <td>2</td>\n",
       "      <td>127</td>\n",
       "    </tr>\n",
       "    <tr>\n",
       "      <th>파이낸셜뉴스</th>\n",
       "      <td>2</td>\n",
       "      <td>247</td>\n",
       "    </tr>\n",
       "    <tr>\n",
       "      <th>경향신문</th>\n",
       "      <td>2</td>\n",
       "      <td>693</td>\n",
       "    </tr>\n",
       "    <tr>\n",
       "      <th>뉴스엔</th>\n",
       "      <td>1</td>\n",
       "      <td>1</td>\n",
       "    </tr>\n",
       "    <tr>\n",
       "      <th>한국일보</th>\n",
       "      <td>1</td>\n",
       "      <td>179</td>\n",
       "    </tr>\n",
       "    <tr>\n",
       "      <th>서울신문</th>\n",
       "      <td>1</td>\n",
       "      <td>186</td>\n",
       "    </tr>\n",
       "    <tr>\n",
       "      <th>국민일보</th>\n",
       "      <td>1</td>\n",
       "      <td>150</td>\n",
       "    </tr>\n",
       "    <tr>\n",
       "      <th>아시아엔</th>\n",
       "      <td>1</td>\n",
       "      <td>4</td>\n",
       "    </tr>\n",
       "    <tr>\n",
       "      <th>강원일보</th>\n",
       "      <td>1</td>\n",
       "      <td>92</td>\n",
       "    </tr>\n",
       "  </tbody>\n",
       "</table>\n",
       "</div>"
      ],
      "text/plain": [
       "              null_data_count  all_data_count\n",
       "press                                        \n",
       "JTBC                      179             179\n",
       "조선일보                      172             172\n",
       "뉴스1                        94            1151\n",
       "민중의소리                      74              74\n",
       "이데일리                       73             382\n",
       "조선비즈                       71              71\n",
       "스카이데일리                     25              25\n",
       "TV조선                       21             354\n",
       "SBS Biz                    12              12\n",
       "서울경제TV                      6               6\n",
       "부산MBC                       3               3\n",
       "가톨릭평화방송·평화신문                3               3\n",
       "데일리안                        2             245\n",
       "대구일보                        2              23\n",
       "미주중앙일보                      2               4\n",
       "연합뉴스TV                      2             127\n",
       "파이낸셜뉴스                      2             247\n",
       "경향신문                        2             693\n",
       "뉴스엔                         1               1\n",
       "한국일보                        1             179\n",
       "서울신문                        1             186\n",
       "국민일보                        1             150\n",
       "아시아엔                        1               4\n",
       "강원일보                        1              92"
      ]
     },
     "execution_count": 8,
     "metadata": {},
     "output_type": "execute_result"
    }
   ],
   "source": [
    "df_null_press = df_null.press.value_counts().to_frame()\n",
    "df_press = df.press.value_counts().to_frame()\n",
    "df_press_count = pd.merge(df_null_press, df_press, left_index=True, right_index=True, how='left')\n",
    "df_press_count.columns = ['null_data_count', 'all_data_count']\n",
    "df_press_count"
   ]
  },
  {
   "cell_type": "code",
   "execution_count": 9,
   "id": "8e97ca7e-a163-444f-9f2b-c7a0b7a53721",
   "metadata": {},
   "outputs": [
    {
     "data": {
      "text/plain": [
       "18303"
      ]
     },
     "execution_count": 9,
     "metadata": {},
     "output_type": "execute_result"
    }
   ],
   "source": [
    "df = df.dropna(subset='text')\n",
    "len(df)"
   ]
  },
  {
   "cell_type": "markdown",
   "id": "2b023049-bb38-480b-b139-64c1b8ec0137",
   "metadata": {},
   "source": [
    "## 레이블별 뉴스수 카운트"
   ]
  },
  {
   "cell_type": "code",
   "execution_count": 10,
   "id": "6afcdd89-d25d-4f49-adbd-d861b56c4949",
   "metadata": {},
   "outputs": [
    {
     "data": {
      "text/plain": [
       "label\n",
       "윤석열    8938\n",
       "이재명    9365\n",
       "dtype: int64"
      ]
     },
     "execution_count": 10,
     "metadata": {},
     "output_type": "execute_result"
    }
   ],
   "source": [
    "df.groupby(['label']).size()"
   ]
  },
  {
   "cell_type": "markdown",
   "id": "eb0947a9-727e-482f-aefb-5d64447ec7cb",
   "metadata": {},
   "source": [
    "## 언론사별 뉴스수 카운트"
   ]
  },
  {
   "cell_type": "code",
   "execution_count": 11,
   "id": "f2cec30a-f8aa-4776-91bb-73d50a1ba915",
   "metadata": {},
   "outputs": [
    {
     "data": {
      "text/html": [
       "<div>\n",
       "<style scoped>\n",
       "    .dataframe tbody tr th:only-of-type {\n",
       "        vertical-align: middle;\n",
       "    }\n",
       "\n",
       "    .dataframe tbody tr th {\n",
       "        vertical-align: top;\n",
       "    }\n",
       "\n",
       "    .dataframe thead th {\n",
       "        text-align: right;\n",
       "    }\n",
       "</style>\n",
       "<table border=\"1\" class=\"dataframe\">\n",
       "  <thead>\n",
       "    <tr style=\"text-align: right;\">\n",
       "      <th></th>\n",
       "      <th>0</th>\n",
       "    </tr>\n",
       "    <tr>\n",
       "      <th>press</th>\n",
       "      <th></th>\n",
       "    </tr>\n",
       "  </thead>\n",
       "  <tbody>\n",
       "    <tr>\n",
       "      <th>뉴시스</th>\n",
       "      <td>1734</td>\n",
       "    </tr>\n",
       "    <tr>\n",
       "      <th>한겨레</th>\n",
       "      <td>1057</td>\n",
       "    </tr>\n",
       "    <tr>\n",
       "      <th>뉴스1</th>\n",
       "      <td>1057</td>\n",
       "    </tr>\n",
       "    <tr>\n",
       "      <th>연합뉴스</th>\n",
       "      <td>1033</td>\n",
       "    </tr>\n",
       "    <tr>\n",
       "      <th>오마이뉴스</th>\n",
       "      <td>797</td>\n",
       "    </tr>\n",
       "    <tr>\n",
       "      <th>...</th>\n",
       "      <td>...</td>\n",
       "    </tr>\n",
       "    <tr>\n",
       "      <th>제주매일</th>\n",
       "      <td>1</td>\n",
       "    </tr>\n",
       "    <tr>\n",
       "      <th>스포츠월드</th>\n",
       "      <td>1</td>\n",
       "    </tr>\n",
       "    <tr>\n",
       "      <th>전북중앙</th>\n",
       "      <td>1</td>\n",
       "    </tr>\n",
       "    <tr>\n",
       "      <th>경남신문</th>\n",
       "      <td>1</td>\n",
       "    </tr>\n",
       "    <tr>\n",
       "      <th>월요신문</th>\n",
       "      <td>1</td>\n",
       "    </tr>\n",
       "  </tbody>\n",
       "</table>\n",
       "<p>323 rows × 1 columns</p>\n",
       "</div>"
      ],
      "text/plain": [
       "          0\n",
       "press      \n",
       "뉴시스    1734\n",
       "한겨레    1057\n",
       "뉴스1    1057\n",
       "연합뉴스   1033\n",
       "오마이뉴스   797\n",
       "...     ...\n",
       "제주매일      1\n",
       "스포츠월드     1\n",
       "전북중앙      1\n",
       "경남신문      1\n",
       "월요신문      1\n",
       "\n",
       "[323 rows x 1 columns]"
      ]
     },
     "execution_count": 11,
     "metadata": {},
     "output_type": "execute_result"
    }
   ],
   "source": [
    "df.groupby(['press']).size().sort_values(ascending=False).to_frame()"
   ]
  },
  {
   "cell_type": "markdown",
   "id": "39467acc-6035-4927-a1ec-5f13241fcbaa",
   "metadata": {},
   "source": [
    "## 뉴스 텍스트 길이"
   ]
  },
  {
   "cell_type": "code",
   "execution_count": 12,
   "id": "48a9188d-c15e-4480-9f42-6fb727f935ad",
   "metadata": {},
   "outputs": [],
   "source": [
    "df['len'] = df['text'].apply(lambda x: len(x))"
   ]
  },
  {
   "cell_type": "code",
   "execution_count": 13,
   "id": "dd097069-1639-479c-95e7-dcdf62ef29a0",
   "metadata": {},
   "outputs": [
    {
     "data": {
      "text/html": [
       "<div>\n",
       "<style scoped>\n",
       "    .dataframe tbody tr th:only-of-type {\n",
       "        vertical-align: middle;\n",
       "    }\n",
       "\n",
       "    .dataframe tbody tr th {\n",
       "        vertical-align: top;\n",
       "    }\n",
       "\n",
       "    .dataframe thead th {\n",
       "        text-align: right;\n",
       "    }\n",
       "</style>\n",
       "<table border=\"1\" class=\"dataframe\">\n",
       "  <thead>\n",
       "    <tr style=\"text-align: right;\">\n",
       "      <th></th>\n",
       "      <th>url</th>\n",
       "      <th>press</th>\n",
       "      <th>title</th>\n",
       "      <th>datetime</th>\n",
       "      <th>text</th>\n",
       "      <th>label</th>\n",
       "      <th>len</th>\n",
       "    </tr>\n",
       "  </thead>\n",
       "  <tbody>\n",
       "    <tr>\n",
       "      <th>17770</th>\n",
       "      <td>https://ilyo.co.kr/?ac=article_view&amp;entry_id=4...</td>\n",
       "      <td>일요신문</td>\n",
       "      <td>'분위기 반전' 없었다…윤석열 '최후변론'이 탄핵심판에 미칠 영향</td>\n",
       "      <td>2025-02-27 11:06:00+09:00</td>\n",
       "      <td>윤석열 대통령은 2월 25일 탄핵 심판 최종 변론 기일 최후변론에서 계엄의 정당성을...</td>\n",
       "      <td>윤석열</td>\n",
       "      <td>2597</td>\n",
       "    </tr>\n",
       "  </tbody>\n",
       "</table>\n",
       "</div>"
      ],
      "text/plain": [
       "                                                     url press  \\\n",
       "17770  https://ilyo.co.kr/?ac=article_view&entry_id=4...  일요신문   \n",
       "\n",
       "                                      title                   datetime  \\\n",
       "17770  '분위기 반전' 없었다…윤석열 '최후변론'이 탄핵심판에 미칠 영향  2025-02-27 11:06:00+09:00   \n",
       "\n",
       "                                                    text label   len  \n",
       "17770  윤석열 대통령은 2월 25일 탄핵 심판 최종 변론 기일 최후변론에서 계엄의 정당성을...   윤석열  2597  "
      ]
     },
     "execution_count": 13,
     "metadata": {},
     "output_type": "execute_result"
    }
   ],
   "source": [
    "df.sample()"
   ]
  },
  {
   "cell_type": "markdown",
   "id": "9b903d01-40d5-462f-8cff-e3310a070bbe",
   "metadata": {},
   "source": [
    "## 뉴스 길이 시각화"
   ]
  },
  {
   "cell_type": "code",
   "execution_count": 14,
   "id": "33076cd7-ec79-4f4e-9bae-56960fb7183c",
   "metadata": {},
   "outputs": [
    {
     "data": {
      "text/plain": [
       "<Axes: >"
      ]
     },
     "execution_count": 14,
     "metadata": {},
     "output_type": "execute_result"
    },
    {
     "data": {
      "image/png": "[encoded data removed]",
      "text/plain": [
       "<Figure size 640x480 with 1 Axes>"
      ]
     },
     "metadata": {},
     "output_type": "display_data"
    }
   ],
   "source": [
    "df['len'].hist(bins=100)"
   ]
  },
  {
   "cell_type": "code",
   "execution_count": 15,
   "id": "5a83364c-23db-47b6-ab09-18576a4b8d57",
   "metadata": {
    "scrolled": true
   },
   "outputs": [
    {
     "data": {
      "text/plain": [
       "'[폴리뉴스 대담 김능구 발행인, 정리 서경선 기자] 김능구 폴리뉴스 대표와 홍형식 한길리서치 소장은 12일 서울 여의도 폴리뉴스 폴리TV 스튜디오에서 가진 <민심레이더>에서 윤석열 대통령 석방 전후에 실시된 최근 여론조사에서 나타난 민심 흐름과 국민의힘의 행보를 진단·전망하는 대담을 가졌다.\\n\\n“尹 석방, 국민은 잘못된 결정이라고 보지만 국힘 지지층에선 尹 영향력 더 커져”\\n\\n▲ 김능구> 윤석열 대통령 석방으로 향후 조기 대선은 윤석열 대 이재명, 이재명 대 윤석열의 대선 2라운드 아니겠느냐, 이런 겁니다. 한길리서치 홍형식 소장님의 민심 리포트부터 들어보도록 하겠습니다.\\n\\n△ 홍형식> 저희들이 오늘 발표하는 여론조사를 간단하게 말씀을 드릴게요. 조사 개요는 3월 8~10일까지 3일간 조사를 했고 1,022명 유·무선 조사로 진행된 겁니다. 자세한 내용은 한길리서치 홈페이지나 중앙선거여론조사심의위원회 홈페이지를 참고하시기 바랍니다. 주요 지표만 먼저 말씀드릴게요.\\n\\n정당 지지율을 물어봤더니만 민주당이 39.2%, 국힘이 38.5%입니다. 민주당이 0.7%p 높습니다. 여기서 수치를 잘 읽어야 돼요. 지난 총선에서 정당 지지율을 오독했죠. 정당 지지율을 잘못 읽어서 총선 전망도 잘못했죠. 그게 무슨 이야기냐면 지난 총선 때 보면 민주당과 국민의힘이 비슷했어요. 어떨 땐 국힘당이 앞서기도 했어요. 그래서 국힘당이 앞선다고 전망했는데 문제는 조국혁신당, 새로운미래 등 야 성향의 정당 지지율이 그 당시에도 합하면 한 10%p가 됐습니다. 그걸 빼고 전망한 거죠. 그쪽의 후보들이 나오지를 않는데 당연히 그 지지율은 민주당 지역구 출마하는 후보들을 지지하게 되어 있는데 그걸 더하면 민주당이 한 10% 가까이 앞섰어요. 그런데 그걸 빼고는 백중 또는 때에 따라서는 국힘당이 앞선다고 해석을 해서 전망도 틀렸고, 내가 볼 때는 지금 여당 보수 진영이라고 부정선거의 어떻게 보면 하나의 근거가 되는 것도 그 부분이야. 비슷한 정당 지지율에 대고 왜 민주당한테 완패를 당했느냐, 부정 선거가 있었다. 그건 여론조사를 잘못 읽었기 때문이다. 그러면 국민의힘의 경우는 38.5%의 친보수 성향의 제3당이 있지 않느냐, 개혁신당 이준석당을 이야기할 수가 있는데 그건 국힘당 입장에서는 염치없는 해석이죠. 이준석 내보내놓고 이준석 후보가 출마를 안 하고 당연히 국민의힘 후보를 지지해 줄 것이라고 생각하는 건 김칫국물부터 먼저 마시는 해석이라는 거죠. 그래서 정당 지지율로 차기 대권주자를 전망할 때는 제3당의 지지율과 그 제3당에서 후보를 낼지 안 낼지를 잘 보고 판단해야 된다.\\n\\n그다음 범야권의 차기 대권주자가 어떻게 되느냐, 얼마 전까지, 지난주까지도 보면, 지난달까지도 이렇게 보면 범야권은 이재명 대표의 단독 질주였습니다. 경쟁자가 성립이 안 돼 있죠. 사실상 민주당의 경우는 경선이 무의미한 프리패스 그런 분위기였습니다. 거기에 비해서 국민의힘은 지금까지 분위기를 보면 격차가 좀 벌어져도, 지난달부터 격차가 좀 벌어졌는데 오히려 1월에는 김문수는 거론도 안 했던 인물이에요. 그런데 1월 말경부터 시작해서 2월 들어서면서 김문수가 급부상을 해서 2, 3위와 경쟁을 하는 단계가 아니고 마침 민주당과 같이 김문수가 압도적으로 앞서는, 경선이 의미가 있을까 싶을 정도로 압도적인 지지율로 나옵니다. 김문수가 국민 전체로 보면 24.9%, 유승민이 9.4%, 한동훈이 8.2% 이렇게 나옵니다. 중요한 건 국민의힘 지지층이잖아요. 국민의힘 지지층에서는 김문수가 47.2%가 나와 버립니다. 반면 한동훈이 11.8%, 홍준표가 10.3%, 오세훈이 13.7%. 오세훈이 2등이죠. 그러니까 오세훈, 한동훈, 홍준표 다 합해도 김문수를 못 이겨요. 그만큼 안 돼요. 민주당의 이재명만큼은 아니어도 거의 이재명과 비슷한 양상을 보이고 있다, 이렇게 보여집니다.\\n\\n가상대결에서는 이재명을 놓고서 김문수와 가상대결이면 34.0% 대 47.2%로 13.2%가 앞서는데 속을 들여다보면 5 대 5다. 왜냐, 현 시점의 조사에서 보수의 결집률이 61.8%밖에 안 돼요. 반면 진보 결집률은 84.9%야. 만에 하나 보수가 지금 한 25% 가까이 더 결집을 해버리면 지금 34.0% 대 47.2%면 거의 큰 차가 없어져 버린다. 이렇게 보시면 될 것 같습니다. 반면 오세훈은 가상대결을 열면 23.8% 대 47.9%, 약 20%p 이상 차이가 나서 김문수와 가상대결을 했을 때보다도 격차가 많이 벌어집니다. 홍준표도 마찬가지로 24.9% 대 46.8%로 약 20% 이상 차이가 납니다.\\n\\n그래서 당내 경쟁에서도 그렇고, 가상대결에서도 그렇고 지금 국민의힘 경쟁자들 중에서 김문수가 오세훈, 홍준표를 압도하고 있다, 이렇게 보시면 될 것 같습니다. 이와 관련해서 이런 이야기를 하죠. 오세훈은 김문수나 홍준표에 비해서 훨씬 더 중도층에 외연 확장 가능성이 있다, 이렇게 주장을 하는데 이건 잠재적 가능성을 이야기하는 거예요. 특히 오세훈 시장이 처음 정치에 등장할 때 별명이 엄친아였죠. 엄친아로서 정치에 처음 등장할 때는 이런 잠재적 미래의 가능성을 이야기할 수가 있는데 오 시장은 그로부터 20년 넘게 정치도 하고 현역 시장으로 있기 때문에 그런 잠재력을 갖고만 외연 확장성을 이야기할 수 있는 게 아니고 20년 이상, 특히 서울시장으로 현직에 있으면 그 잠재력을 현재화시켜서 보여줘야 됩니다. 달리 이야기해서 당내 경선에서는 설사 김문수한테 뒤지더라도 가상대결에서는 예를 들어서 이재명한테 훨씬 더 유리하다는 수치가 나오면 외연 확장성이 성립이 되는데 지금 그런 수치를 보여주지 못하고 있습니다.\\n\\n그다음, 현안인 탄핵과 관련된 조사를 해봤더니만 탄핵에 대해서 찬성은 53.6%, 반대가 42.9%, 찬성이 한 10%p 정도 살짝 더 많기는 한데 그럼에도 불구하고 대통령의 탄핵을 위해서는 국민 다수의 공감대가 있어야 된다는 전제를 놓고 본다면 많이 아쉬운 수치가 나오고 있습니다. 헌법재판소에 대한 신뢰도를 물어봤을 때 신뢰도가 52.7%, 신뢰하지 않는다가 43.8%. 역시 탄핵 찬반과 비슷한 수치로 가고 있습니다.\\n\\n이번에 제일 쟁점이 되는 윤석열 대통령의 이번 구속취소, 석방에 대해서 잘한 결정이냐를 물어봤는데 오히려 내가 여러분들한테 \"어떻게 나왔을까요?\" 이렇게 퀴즈를 내고 싶은데 이것도 진영 간에 자기 유리한 식으로 해석을 합니다. 이것이 마치 여론에 큰 영향을 미칠 거로, 특히 보수 진영에서는 큰 기대를 하는데 실제 조사를 해 봤더니만 잘 된 결정, 판결이었다고 이야기하는 것은 44.3%예요. 반면 석방한 것이 잘못되었다, 이게 52.8%예요. 탄핵 찬반하고 비슷하게 갑니다. 그래서 제가 보건데 보수 쪽에서 생각하는 윤석열 대통령의 석방이 탄핵 찬성에 영향을 미친다든가 보수 진영에 유리하게 간다든가, 이런 어떤 해석은 아닐 것 같다, 이렇게 보여집니다.\\n\\n▲ 김능구> 현재 민심에 대해서 이야기를 주셨는데 리얼미터 조사와 갤럽 조사가 있지 않습니까? 리얼미터 조사에서는 탄핵에 대한 의견을 물어보니까 탄핵 찬성이 55.6%, 탄핵 기각, 직무 복귀가 43%, 한 10% 정도 차이가 나요. 2월 3주보다는 3월 2주차가 찬성은 좀 오르고 반대는 좀 낮아져서 지금 차이가 10% 조금 넘는 걸로 나왔고요. 그리고 정권 교체와 정권 연장 부분이 정권교체 50.4% 대 정권연장이 44%. 이건 오히려 좁혀져 있네요, 보니까. 3월 1주차 한국갤럽의 정당 지지도 조사는 40 대 36, 민주당이 지난주보다 2% 올라서 차이가 한 4% 정도 났고...\\n\\n△ 홍형식> 보통 여론조사는 후행지표라고 이야기해요. 어떤 사건이 발생하고 그것이 민심에 반영이 되어서 조사를 하고 수치화시킨 게 여론조사입니다. 그래서 제가 후행지표라고 하는데 윤석열 대통령의 석방이 제가 가설적으로 말씀드렸죠.\\n\\n▲ 김능구> 리얼미터 3월 1주차는 민주당이 41%고 국힘이 42.7%로 오히려 국힘이 이렇게 지지율이 역전하는 현상이 있었고요. 갤럽 조사에서 차기 주자 지지도는 이재명 민주당 대표가 다자대결에서 35%, 중도층에서는 39%. 전체 국민에서 지지 후보 없다는 부동층이 34%에 달했고요. 그런데 20대에서는 이게 60%나 지지 후보가 없다가 나타났고, 30대에서는 45%, 20~30대가 부동층이 높죠. 그러니까 스윙보터라고 이렇게 이야기를 하는 겁니다. 리얼미터, 갤럽 조사도 간단하게 짚어봤습니다.\\n\\n지난번에 홍 소장님이 이야기한 부분을 제가 그 이후에 여러 군데에서도 이야기를 했지만 비상계엄 이후에 12월과 올 초 들어오면서 설 전후까지 2파라고 그랬죠. 그다음에 설 이후에 3파, 1파에서 민주당으로 확 쏠렸다가 2파는 경합으로 됐다가 3파는 다시 국힘의 지지세가 보합 내지는 약세로 가는. 이렇게 이야기를 했는데 지금은 어디에 와 있다고 봅니까?\\n\\n△ 홍형식> 지금은 보합세가 유지가 되고 있죠. 정확하게 얘기하면 2파의 추세가 이어졌다면 국힘당이 우위를 점하는 그런 상황인데 우위로 넘어가는 상황은 오지 않고 보합세가 때에 따라서는 약간 밀리는 그런 세가 그대로 이어지고 있다, 이렇게 보시면 됩니다. 이 3파를 굳이 이야기하면 보합세 그 자체가 지금 3파라고 보시면 될 것 같습니다.\\n\\n▲ 김능구> 그래서 지금 양당 보합세가 이어지고 있다. 3파가 유지되고 있다, 이런데 거기에서 윤석열 대통령의 석방으로 인한 변화가 양쪽 다 별로 없다는 이야기입니까?\\n\\n△ 홍형식> 석방에 대한 변화가 얼마만큼 있는지 정확히는 지금 이 지표를 갖고 설명하기는 어려운데 적어도 조금 전에 말씀드렸던 보수 국힘당에서 기대하는 방향은 아닌 것 같다. 지금 보면 리얼미터 지난주 조사가 끝난 시점이 이게 석방…\\n\\n▲ 김능구> 3월 10일입니다.\\n\\n△ 홍형식> 10일이니까 10일이면 석방 이후에 진행이 됐는데 석방이 이게 만에 하나 반영이 된 상태에서 탄핵의 기각과 인용이 지금 여기 수치대로 나온다면, 즉 탄핵을 인용해야 된다가 52%에서 55.6%로 늘어났다면 적어도 그 직전에 발생했던 윤석열 대통령의 석방은 보수나 윤석열 대통령의 기대와는 다르게…\\n\\n▲ 김능구> 석방 이후인데 탄핵 인용이 더 높아진 거네요.\\n\\n△ 홍형식> 그렇죠, 그러니까 기대했던 것보다는 반대 방향으로 나타나고 있다. 이건 갤럽 조사도 마찬가지예요. 갤럽 조사 날짜가 이게 1주니까 4일, 6일 조사면 이건 반영이 안 됐네요. 그러면 여기 리얼미터 조사만 놓고 본다면 적어도 국민의힘 기대하고는 반대로 나왔다.\\n\\n홍형식 소장은 “(윤석열 대통령 석방이) 국민 일반과 중도층에는 큰 영향을 주지 못했지만 국민의힘 지지층 내에서는 영향력을 상대적으로 더 키워준 상황이 되었다.”라고 말했다.\\n\\n▲ 김능구> 한길리서치 조사는 언제였죠?\\n\\n△ 홍형식> 8~10일입니다.\\n\\n▲ 김능구> 걸쳐 있네.\\n\\n△ 홍형식> 네, 반영해서 한 겁니다.\\n\\n▲ 김능구> 8일에 그게 됐으니까 그게 반영돼서 했다, 그렇죠? 그렇게 되면 이제…\\n\\n△ 홍형식> 그렇게 했음에도 불구하고 구속 석방이 잘 된 결정이다가 44.3%, 잘못된 결정이다가 52.8%예요.\\n\\n▲ 김능구> 그러니까 이것이 석방 자체가 탄핵이나 이런 부분들을 바꾸지는 못했다는 거네요.\\n\\n△ 홍형식> 탄핵 그 자체는 별로 국민의힘이 기대했던 수준은 아닌데 그 판결이 나고 그다음 석방이 되고 나오는 그 과정에서 보여진 모습이, 판결보다도 사실 윤석열 대통령이 실제 석방 때 나오는 그 모습이 여론에 영향을 좀 미친 것 같아요. 그래서 만에 하나 그 판결 이후에 윤석열 대통령이 좀 낮은 자세로 국정 혼란에 대한 책임 이런 부분에 대해서 낮은 자세로 인정하고 사과를 하고, 헌법재판 결과를 겸허히 수용하겠다는 이런 자세를 취했다면 오히려 유리했을 거예요. 그런데 윤 대통령이 그때 석방되는 모습이 승리로써 인식될 수 있는, 승리감의 표정으로 이렇게 해석이 될 수 있는 모습을 보이고, 그런 모습으로 지지층을 자극할 수 있는 그런 모습을 보이다 보니까 지지율이 오히려 마이너스가 아니었을까, 이렇게 보여져요.\\n\\n▲ 김능구> 완전히 개선장군처럼 의기양양했죠, 자기 특유의 주먹, 제스처부터 시작해서. 그러니까 많은 국민들은 아주 허탈해하기도 하고 또 굉장히 불안해서 계엄 이후에 수면을 취하지 못하는 증세가 다시 나타났다, 이런 것들이 언론에 자주 등장하고 있습니다. 그런데 답답한 게 금방 소장님이 이야기한 부분들이 정치를 알고, 지도자가 어떤 모습으로 대중들한테 보여야 되는가를 생각한다면 당연히 겸허하게 해야 되는데 그게 잘 안 되는 모양이죠?\\n\\n△ 홍형식> 제가 개별 정치인 대통령에 대해서 평가하기가 좀 뭐합니다만 일반론적으로 봐서 정치인들은 현 위치에 올 때 자기 방식대로 그 위치에 오다 보니 그 위치가 올 때 보면 국회의원으로서의 위치도 있고 대통령으로서의 위치가 있단 말입니다. 그런데 국회의원으로서 정치하는 행위하고 또는 관료로서 하는 행위, 대통령으로서 하는 행위 그게 달라요. 그런데 거기에 빨리 적응을 하지 못하거나 그게 어떻게 해야 하는지를 잘 모르는 것 같아요. 국회의원하고 대통령이 역할하는 방식은 많이 달라요. 그러다 보니까 대부분 우리나라 대통령이 다 그렇잖아요. 사전에 대통령 해본 적 없지 않습니까? 대통령이 되고 나서 대통령으로서의 국정 운영의 모습을, 국민들이 원하는 모습을 보여줘야 되는데 얼마만큼 대통령들이 그걸 잘 적응하느냐의 문제, 대체적으로 정치를 오래 한 사람들은 그런 부분에 좀 능하다, 이렇게 보시면 될 거예요. 그런데 윤석열 대통령은 그런 사전에 경험할 수 있는 기간이 없었기 때문에 아마 좀 더 우리가 기대했던 모습을 보기가 어렵지 않나 그렇습니다.\\n\\n▲ 김능구> 어쨌든 윤 석방 이후에 그것이 윤 대통령이나 국힘 혹은 보수한테 기대했던 부분들에는 못 미쳤지만 국힘에는 상당한 변화를 준 것 같아요.\\n\\n△ 홍형식> 그렇죠, 국민 일반 중도층, 일반 국민들한테는 큰 영향을 못 줬지만 보수, 국민의힘 지지층 내에서는 윤석열 대통령의 영향력을 상대적으로 더 키워준 상황이 돼 버렸죠.\\n\\n“尹 석방 이후 김문수로 국힘 지지층 쏠림 현상... 현 경선룰에선 김문수 확실”\\n\\n▲ 김능구> 그래서 이번 조사에서도 보면 김문수 장관이 대선주자에서 보수에서 아주 압도적으로…\\n\\n△ 홍형식> 저희들 조사에서 이전에 국민 전체로 했을 때 최고 높았을 때가 20%였는데 그거보다도 4.9%가 더 올라갔어요.\\n\\n▲ 김능구> 국민의힘 지지층에선 얼마나 나왔어요?\\n\\n△ 홍형식> 국민의힘 지지층 내에서 47.1%예요. 거의 절반을 장악해 버렸기 때문에 그래서 설 이전 그리고 윤석열 대통령 석방 이전까지만 해도 이 정도는 아니었는데 이런 식으로 김문수 장관에게로 국민의힘 지지층의 쏠림 현상이 더 강화가 돼 버렸다. 그래서 마치 이런 분위기가 좀 더 진행이 되어 버리면 민주당 내에서 이재명 대표의 위상까지도 갈 수 있지 않겠나, 그런 생각도 해보는 거예요.\\n\\n▲ 김능구> 나경원 의원 등 국힘 의원 82명이 헌법재판소에 윤석열 탄핵 심판 각하 요구, 82명이 2차 공개 탄원서를 또 냈어요. 전보다는 6명 정도 불어났다고 그러는데 제가 이야기를 들어보면 국힘 의원들은 이구동성으로 헌재 판결은 각하다, 기각도 아니라 각하다, 이렇게 이야기를 하고 있더라고요. 상당히 그런 분위기들이 아마 반영된 게 여론에서 김문수 장관에 대해서 압도적으로, 거의 반을 차지하게 돼 버린 거잖아요, 국힘 지지층에서는.\\n\\n△ 홍형식> \\'잘 모르겠다.\\'까지 빼버리면 의사를 밝힌 사람 중에서는 절반은 넘는다고 봐야겠죠.\\n\\n▲ 김능구> 거기에 앞서 좀 바짝 따라왔던 게 오세훈 서울시장인데. 그리고 지금 새롭게 활동 재개를 한 한동훈 대표 그리고 홍준표 시장, 이 세 분이 좀 힘을 못 받고 있는 상황이네요.\\n\\n△ 홍형식> 그렇죠. 국민의힘 지지층만 놓고 본다면 김문수가 47.1%, 오세훈이 13.7%, 그다음 한동훈이 11.8%, 홍준표가 10.7%입니다. 해서 2위부터 3위까지 다 합해도 김문수를 넘어서지를 못하고 있습니다. 그래서 이런 식으로 국민의힘 지지층 내에서 김문수에게로 쏠림 현상이 나타난다면 민주당의 이재명과 같은 상황이 벌어지지 않을까, 이렇게 보여요.\\n\\n▲ 김능구> 이것이 헌재의 탄핵 선고를 기점으로 해서 그때까지는 김문수 장관의 우세가 갈 수밖에 없다. 왜냐하면 윤석열 대통령 아바타라고 할 수는 없지만 어쨌든 윤석열 지지가 연관되는 부분이니까. 그렇지만 탄핵 선고 이후에 조기 대선이 확정됐을 때는 오세훈, 한동훈 한편으로는 홍준표. 상대적으로는 오세훈, 한동훈의 지지가 좀 더 오를 것이다, 이렇게 예측을 했는데 헌법재판소 선고 이전에 윤석열 석방이라는 계기가 있음으로 해서 오히려 지금 김문수 장관에 대한 대선주자 지지가 확 올라가 버린 거죠.\\n\\n△ 홍형식> 네, 그런 현상이 오히려 나타나고 있죠.\\n\\n▲ 김능구> 그렇죠, 그러면 지금 궁금한 건 만약에, 아까 후행지수라고 그랬잖아요, 여론조사는. 조사 전문가로서 만약에 탄핵이 인용됐을 때, 각하나 기각되면 의미가 없으니까. 인용됐을 때 대선주자들의 지지율은 어떨까요? 김문수 장관이 유지…\\n\\n△ 홍형식> 김문수 장관의 지지율은 크게 변하지 않을 거예요. 예를 들어 국민 전체의 여론이 있고 국민 여론 전체와는 달리 국민의힘 지지층 내에서의 여론이 있을 수가 있잖아요. 그런데 김문수의 경우는 국민 전체로 보면 약간 줄 수가 있겠죠. 반면 국민의힘 지지층에서는 오히려 국민의힘 지지층들은 더 분노하는 성향의 상황이 벌어질 수 있으니까 이 지지율이 그대로 갈 수가 있고…\\n\\n▲ 김능구> 늘어날 수도 있겠네요.\\n\\n△ 홍형식> 늘어날 수도 있겠죠. 반면 오세훈 시장은 국민의힘이나 국민 전체에서 큰 변화가 없을 것 같은데 한동훈이 문제가 될 수가 있겠죠. 한동훈은 만에 하나 인용이 되면 국민 지지층에서 더 늘어날 수가 있겠죠. 국민이 늘어나는 반면 문제는 국민의힘 지지층 내에서, 즉 책임당원 내에서 과연 늘어날 수 있을까? 오히려 한동훈은 당심은 약간 잃으면서 민심 쪽을 더 확보하는 그런 식으로 지지율 변화가 나오지 않을까, 이렇게 보여집니다.\\n\\n▲ 김능구> 한길리서치 조사를 보면 재밌는 게 국민 전체는 김문수가 1위인데 2위는 유승민, 3위가 한동훈, 오세훈, 홍준표예요. 그런데 보수와 국힘으로 보자면 유승민 전 의원은 툭 떨어지고 그다음에 보수 전체에서는 한동훈, 오세훈, 홍준표 이렇게 됩니다. 그런데 국힘에서는 그 순위가 살짝 바뀌어서 오세훈, 한동훈, 홍준표죠. 다 1~2%로 차이니까 큰 의미는 없는데 어쨌든 간에 그런 차이가 벌어지고, 김문수는 전체는 24.9%인데 보수에서는 41.2%, 국민의힘 지지층은 47.1%. 만약에 탄핵이 인용 안 되면 제가 말한 대로 대선주자는 의미가 없고 인용이 됐을 경우에는 거의 20% 이상이 뛴다는 거잖아. 41.2%, 47.1%는 더 오를 거라는 거죠?\\n\\n△ 홍형식> 그럴 수가 있죠.\\n\\n▲ 김능구> 24.9%는 변화가 크게 없다 하더라도…\\n\\n△ 홍형식> 줄어들 수도 있죠.\\n\\n▲ 김능구> 그렇게 되면 현재의 경선 룰은 100% 김문수 장관이 후보가 되는 거죠.\\n\\n△ 홍형식> 네, 제가 볼 때는 이런 분위기가 가면 김문수 장관이 되지 않을까. 왜냐하면 평소 같으면 이게 또 변수가 있어요. 평소 같으면 경선하는 일정이 한두 달을 두고서 경쟁이 이루어지면 변화가 있을 수가 있는데, 만에 하나 탄핵이 인용이 되면 경선 후보 등록 받아서 경선할 때까지 한 20일만에 끝날 거예요. 그래서 후보들이 경선의 상황을 바꿀 수 있는, 캠페인을 할 수 있는 시간적 여유가 없다는 겁니다. 그러다 보니까 현 상황의 여론이 그대로 굳어질 수가 있다. 그래서 지금 여론을 보면, 오히려 지금 보면 누가 컷오프를 통과하느냐, 그게 관심일 수가 있죠. 이렇게 봤을 때 지금은 자꾸 한동훈을 4위로 보는데 이 조사에서도 보시다시피 국민 여론은 유승민이 앞선단 말입니다. 내가 알기로는 컷오프는 8 대 2인가 그렇게 반영할 거예요. 민심을 반영하고 당심은 한 20%, 30%인가 이렇게 적게만 반영하는데 만에 하나 80% 정도 반영하는 이 민심이 대고 유승민이 좀 격차를 내버리면 한동훈이 잘못하면 컷오프를 당할 수가 있죠, 4인으로 통과를 시킨다면. 그래서 누가 컷오프를 통과하느냐 쪽에 더 관심사가 되지 않을까 이렇게 보여져요.\\n\\n김능구 대표는 “윤석열 대통령 석방으로 조기 대선은 윤석열 대 이재명, 이재명 대 윤석열의 대선 2라운드가 된 것 아닌가”라고 말했다.\\n\\n“국힘 100% 여론조사 경선으로 바꾸면 역동적 경선으로 컨벤션 효과 클 수도”\\n\\n“합리적 보수 후보 껴안고 중도층 비전 과감히 수용하면 민주당과 접전 벌일 수도”\\n\\n▲ 김능구> 안철수, 오세훈, 유승민, 한동훈. 이 네 분이 국힘에서는 중도 보수에 속하는 분들이라고 보여지잖아요. 이 네 분이 컷오프와 상관없이 그 결과에 따라서 후보 단일화를 한다고 치면 이게 김문수, 홍준표는 컷오프는 통과하지 않겠나, 홍준표 시장도. 그랬을 때 이쪽에서 단일화를 한다면 상당히 그건 좀 게임이 되지 않겠나, 이런 이야기를 하는 사람도 있어요.\\n\\n△ 홍형식> 정치공학적으로 접근하는 사람들은 온갖 이야기를 다 할 수 있다고 보지만 그게 현실적으로 가능한 이야기가 아니잖아요. 정치공학적으로 너무 접근하는 건 아닌 것 같다. 왜냐하면 한동훈의 컬러와 같은 보수 개혁이어도 보수, 중도 보수 또는 보수 개혁의 성격을 띄어도 안철수, 유승민, 한동훈의 컬러는 상당히 달라요. 달라서 그 짧은 시간 내에 단일화가 될 가능성도 없을뿐더러 그 단일화도 시도 때도 없이, 쓸데없이 자꾸 그렇게 하는 게 좋은 정치 아니에요.\\n\\n▲ 김능구> 그런데 국힘도 결선투표제가 돼 있습니다. 결선투표제로 돼 있어요. 현재의 그거로 보자면 몇 분이 나올지는 모르지만 컷오프는 대부분 한 4명 정도로 하거든요.\\n\\n△ 홍형식> 전례로 봐서는 4명이죠.\\n\\n▲ 김능구> 이게 4명을 초과했을 때는 컷오프 과정을 거치게 돼 있는 거죠. 그래서 지금으로 보면 한길리서치는 여섯 분을 조사했는데 이번에 다 출마할지는 모르겠지만 어쨌든 컷오프 과정이 하나 또 지켜볼 만하다, 이런 이야기인데 저희가 이야기했던 건 이전에 국민의힘이 새로운 전기를 마련했던 서울시장, 부산시장 보궐선거 때처럼 기존의 어떤 경선 룰이 아니라 100% 국민 여론조사 이걸 시도해 볼 수도 있다. 그리고 민주당에서 이재명 대표가 원사이드 하는 거하고는 조금 달리 국힘은 경선 과정에서 좀 역동성을 발휘하는 것이 경쟁력이다, 이런 말도 많이 하거든요.\\n\\n△ 홍형식> 충분히, 그러니까 분명히 김문수가 많이 크게 앞서지만 나머지 후보들하고 국민들로 봐서는 재미를 줄 수 있고 정책 토론도 할 수 있는 충분한 지지율이기 때문에 컨벤션 효과는 국민의힘이 훨씬 클 수가 있습니다. 즉, negative를 해서 판을 망가뜨리는 그런 경선만 하지 않는다면 굉장히 컨벤션 효과를 만들어 낼 수 있는 지지율은 됩니다.\\n\\n▲ 김능구> 그런데 조기 대선은 어떻습니까? 결국 또 51 대 49의, 누가 지적했는데 피 흘리는 민주주의, 또 진영 대결의 올인 선거가 될 수밖에 없다고 보여지는데 그랬을 때 보수 진영에서도 뭔가 중도표, 중원을 차지하기 위한 변화는 불가피하지 않겠습니까?\\n\\n△ 홍형식> 그렇죠, 두 가지인데 하나는 국힘에서 중도 개혁 성향을 다 쳐냈어요. 그러니까 사람으로서 중도 개혁 성향의 인물들을 다시 당의 중요한 역할을 할 수 있는 인물로 받아들일 수 있는지…\\n\\n▲ 김능구> 예를 들면 안철수, 이준석, 유승민…\\n\\n△ 홍형식> 유승민, 한동훈 다 쫓겨냈죠. 내보내고 위상을 없애버렸죠. 그래서 이것을 할 수 있느냐의 여부, 그것이 경선에서 나타날 거예요. 경선에서 서로 negative를 하지 않고 서로 상대의 좋은 정책을 상호 수용하면서 발전된 모습을 보여준다면 그건 분명히 하나의 어떤…\\n\\n▲ 김능구> 경선 과정에서 통합의 모습, 특히 합리적 보수를 안는, 함께 하는 모습을 보여준다.\\n\\n△ 홍형식> 말로만 아니고 상대가 좋은 정책을 내놨을 때 그걸 수용할 수 있는 그런 정도의 모습을 보여주느냐 이것이 중요하고, 두 번째는 후보가 국가의 비전이나 공약 이런 것을 과연 얼마만큼 중산층 또는 중도층의 이해관계 또는 그들의 바람을 반영해서 비전을 만들고 국가의 운영 방향을 설정하느냐, 이 두 개에 의해서 중도층 공략이 결판날 것 같습니다.\\n\\n▲ 김능구> 김문수 장관이 압도적으로 후보가 되는 건 예측되지만 그렇다 하더라도 경선 과정에서 그런 합리적 보수와 정책을 안는 모습 혹은 또 대선 후보가 될 사람이 그걸 좀 주도하는 모습, 이런 게 일어날 수 있다, 일어날 것이다, 이렇게 본다는 거죠?\\n\\n△ 홍형식> 일어날 수 있을지는 모르겠는데 그거를 해내면 아까 김 대표님이 윤석열 아바타하고의 대결이라고 했는데, 그걸 못하면 아바타와의 대결이 돼 버리고 그걸 하면 아바타와의 대결이 아니죠. 그러면 진짜 치열한 경쟁이 될 수가 있고 때에 따라서는 국민의힘이 이기지 말라는 법도 없겠죠. 사실 김문수 장관은 정치 일선에서 물러난 지가 오래 됐잖아요. 그래서 경선 주자들을 포용할 수 있을는지는 지금까지의 정치 행보로 봐서는 잘 알 수가 없어요. 그러다 보니까 그건 실제 상황이 돼 봐야만 판단할 수 있을 것 같습니다. 그리고 전적으로 그 문제는 김문수 장관을 놓고 볼 때 본인의 역량의 문제인 거고 본인이 그거는 해결해야 될 문제고, 그 누구도 그건 해결해 줄 수 없는 문제라고 봐요.\\n\\n“윤석열·친윤... 정권 뺏기지 않으려 중도는 물론 진보 후보에게 연대 제안할 수도”\\n\\n▲ 김능구> 홍형식 소장님도 대선을 한 30년 치렀으니까 윤석열 대통령이 조기 대선에 대해서는 어떤 생각을 가지고 있을까요?\\n\\n△ 홍형식> 30년을 치러도 윤석열 대통령을 경험한 건 불과 몇 년밖에 안 되는데 짧은 기간 동안의 경험에는 윤석열 대통령은 대선에 적극 영향력을 행사하려고 하지 않을까.\\n\\n▲ 김능구> 행사할 것이다?\\n\\n△ 홍형식> 행사하고 대통령 본인의 그런 확신 그리고 어쨌든 대선 한번 치러봤다는 경험을 갖고서 그런 방식을 많이 관철시키려고 들지 않을까. 그런 차원에서 다음 국민의힘 후보는 그 부분을 어떻게 관리하고 극복하느냐가 굉장히 큰 문제가 될 것이다. 멀리 갈 것 없어요. 지난 대선에서 이재명과 문재인과의 관계를 생각해 보시면 될 거예요. 이재명 대표와 문재인 당시 대통령이었죠. 관계에서 상당히 갈등적이었던 게 사실이에요. 그 부분을 서로 간에 힘을 합해서 힘을 모았다면 대선 0.73% 정도는 뒤집혔다고 봐요. 그런데 지금 오히려 딱 바로 다음 선거에서 윤석열 대통령과 국민의힘 누가 후보가 될지 모르겠지만 두 현직 대통령 미래 후보, 권력이 될 수 있는 두 진영 간에 어떤 갈등 관계가 재현될 소지가 있지 않은가, 저는 그렇게 보여요.\\n\\n▲ 김능구> 국힘과 보수 세력들은 플랜 A, 대통령의 탄핵, 헌재에서의 탄핵 각하 내지 기각이 플랜 A라면 플랜 B, 인용됐을 때 조기 대선도 다들 염두에 두고 준비를 하고 있습니다, 제가 볼 때는. 그런데 윤석열 대통령 탄핵이 인용되고 조기 대선이 벌어지고 지금 석방이 된 상태잖아요. 그러면 아마 내란 재판이 벌어지더라도 불구속으로 계속 갈 수가 있어요. 그런데 대통령은 만약에 파면이 됐다면 이제 대통령이 아니잖아요. 그러니까 선거법상 선거 운동에 제한이 없게 되잖아요. 그전에 대통령은 그 제한이 있기 때문에 지지 발언이나 이런 걸 못 했고…\\n\\n△ 홍형식> 못하죠. 오히려 문재인 대통령보다도 훨씬 더 적극적으로 개입을 할 거예요.\\n\\n▲ 김능구> 아주 적극적으로 선거 운동을 펼 수가 있는 거죠. 그래서 후보가 단순하게 윤석열 아바타가 아니라 어차피 지금 안 그래도 이렇게 플랜 B에서 중심은 윤석열이 그 후보랑 할 수밖에 없다고 하지만 지금은 석방이 됐기 때문에 그 점에서 엄청나게 강화됐다. 그래서 조기 대선을 윤석열을 떠나서는 생각할 수가 없다. 보수 진영의 국힘에서 다음 대선의 중심은 윤석열이다, 이렇게 보는 겁니다. 그리고 윤석열이 자기가 지지하는 김문수를, 또 김문수가 아닌 또 다른 후보를 지명할 수도 있다고 봐요. 왜냐하면 김문수 장관이 오랫동안 최근에도 정치를 해서 자기가 지금 유력 후보가 된 게 아니잖아요. 윤석열 대통령에 의해서 지금 현재 노동부 장관이 돼 있고, 장관으로서 윤석열과 행보를 같이 했기 때문에 지지를 받는 거라는 이야기죠. 그랬을 때 윤석열 대통령이 김문수 장관이 아니라 또 다른 대안, 황장수 소장이 이야기했던 대로 보면 국민 후보, 반 이재명 전선을 펼쳤을 때 그거를 대표, 대변할 수 있는 국민 후보를 또 다른 대안으로 내세울 수도 있다는 이야기죠. 그리고 한편으로는 아까 말한 합리적 보수, 중도 보수로 일컫는 그런 후보들 중에서 오세훈 시장이라든지 한동훈 대표라든지 이런 부분들은 1차적으로는 아니라고 할 수 있지만 그분들이 후보가 될 수도 있잖아요. 그랬을 때의 플랜. 그래서 여러 가지 플랜을 검토하고 있을 것이다.\\n\\n그 어떤 플랜 속에서도 선거 캠페인의 중심으로서 윤석열 대통령은 크게 다름이 없을 것이다, 이렇게 보는 거죠. 외양적으로는 상당히 다를 수 있다. 있지만 본인이 지난 대선에서 두세 차례 이준석 대표한테 사과했잖아요. 그런 퍼포먼스를 했어. 왜? 대선 승리를 위해서는 어쩔 수 없었어. 그리고 최고의 책사, 김건희 여사가 있는 거예요. 그러니까 지난 대선 때 아마 사과하라고 가장 종용을 한 사람이 김건희 여사일 거다, 이렇게 생각하고 당선을 위해서 그 어떤 것도 하려고 할 겁니다. 그래서 그게 김문수 장관, 플랜 B에서 후보가 김문수 장관 혹은 또 다른 국민 후보, 아니면 지금 중도 보수 누가 되더라도 대선 승리를 위해서 그 어떤, 아까 말한 포지셔닝의 변화라든지 정책의 변화라든지 그다음에 연대에 있어서 획기적으로 주고받는 여러 제안 속에서 그거를, DJP 연대할 수 있으면 아마 하려고 할 겁니다. 보수와 중도 후보의 연대 혹은 진보 후보까지도 함께 하려고, 인사까지도. 그런 온갖 방법을 구상하고 있을 거라고 봐요.\\n\\n△ 홍형식> 어차피 선거에서 박빙 또는 열쇠라고 판단이 서면 선거 상황에서 후보 입장에서는 그것이 이념 성향에 따라서 보수 후보가 좀 약세로 느껴지면 범보수 세력은 당연한 거고 집 나간 또는 내보낸 이준석하고도 손잡으려고 할 것이고 지금 민주당과의 갈등 관계에 있는 세력들, 내가 볼 때는 될지 안 될지는 모르겠지만 지금 당명을 바꾸었죠. 새로운미래를 어떻게 바꿨냐면 이낙연 대표가 있던, 지금은 대표가 아니죠.\\n\\n▲ 김능구> 새로운미래.\\n\\n△ 홍형식> 그런 당과도 모색을 하려고 들 겁니다. 조국혁신당한테도 제안을 할 거예요. 어떤 형식으로든 비선을 통해서 하려고 다 하겠죠. 그런데 그것이 실현될 것인가는 별건의 문제인 거고. 어쨌든 지금으로 봐서는 좀 약세의 모습을 보이기 때문에 어쨌든 특히나 지금 여론조사하고 달리 탄핵이 인용이 되면 그 자체가 수세라는 말입니다. 수세이고 경선 기간 중에는 더더욱이나 당심 중심으로 또 움직여야 돼요. 탄핵이 되고 나서 한 20일 이후까지도 국민의힘 후보는 굉장히 수세이거나 발이 묶여 있는 상태에서 여론 조사가 계속 나올 수밖에 없습니다. 그러고 나서 후보가 되는 시점이 되면 격차가 분명히 벌어져 있을 것이고 방금 말씀하신 그런 것들을 모색을 안 할 수가 없죠.\\n\\n▲ 김능구> 기존 언론은 잘 다루지 않았는데 실제로 지난 대선 0.73% 차이잖아요. 그래서 국힘 윤석열 대통령의 당선에는 이준석 대표의 세대 포위론, 20대를 이만큼 지지자로 했기 때문에 가능했다는 주장도 있고, 그다음에 안철수 의원의 단일화 없었으면 이루어지지도 않았다는 주장도 있어요. 그런데 윤석열 측에서는 이것도 저것도 대세에는 지장 없었다고 이야기를 해요. 그런데 어떤 일이 있었냐, 윤석열 대통령과 이재명 대표쪽에서 안철수 의원과의 단일화를 다 시도했습니다. 양쪽에서 다 공동 정부를 약속했고, 이건 역사적 팩트입니다. 그만큼 막판에 가면 안철수 대표는 사실 후보 등록 전부터 이야기가 있었던 거잖아요, 윤석열 대표와 단일화를. 선거 전에 들어가서 거의 실시간으로 양쪽 단일화 협상이 이루어졌던 겁니다. 마지막에 윤석열과 단일화를 발표했던 거죠.\\n\\n그런데 공동 정부를 약속했다고 그러는데 그 공동 정부는 나중에 어디론가 사라지고 그냥 인수위원장 정도를 받고 거기에서 그 이후를 보면 안철수 의원 측에서는 어느 누구도 입각되지도 못했고, 그다음에 국회의원 공천도 본인 외에는 없던 거로 확인됐는데…\\n\\n△ 홍형식> 쉽게 이야기하면, 좀 과하게 표현하면 팽 쪽에 가까웠죠.\\n\\n▲ 김능구> 그렇죠?\\n\\n△ 홍형식> 네.\\n\\n▲ 김능구> 그런데 이건 옛날에 김대중 대통령과 김종필 총리 간에 있어서 DJP 연대에서는 확실한 충청이라는 지역 기반이 있었고 보수의 어떤 지지, 어찌 말하면 김대중 대통령은 아님에도 불구하고 계속 빨갱이 공격을 받았으니까 그걸 커버할 수 있는 부분에서 지역과 그런 이념적인 측면에서…\\n\\n△ 홍형식> 상당히 상호보완적인 역할이 됐죠.\\n\\n▲ 김능구> 네, 그게 됐던 거고 안철수 의원은 마지막에 0.73% 차이가 났으니까 이건 안철수 단일화 효과다, 이야기하지만 그전에 그걸 크게 안 했음에도 불구하고 실제 막판에 후보 단일화 협상은 치열했다는 거죠, 양쪽 다. 그래서 저는 그걸 다 경험했어요. 윤석열 캠프, 윤석열 대통령과 김건희 여사 그리고 지금 국힘의 핵심 친윤들은. 그래서 얼마든지 그런 건 벌어질 수 있다.\\n\\n△ 홍형식> 윤석열 대통령이 후보 시절에 안철수 하고 단일화를 했고, 이준석 당대표가 선거에 선대본부장으로 선거를 치러서 0.73%를 이겼잖아요. 그러고 나서 권력은 나눠 갖지 못한다는 속설이 있듯이 대통령 당선되니까 친윤 위주로 모든 걸 독점해서 배제를 시켰지 않습니까? 안철수는 국회의원을 하고 있지만 이준석은 당대표에서도 쫓아내고 출당을 시켜버렸잖아요. 그러고 나서 그다음 선거가 어떻게 됐습니까? 다 졌잖아요. 그런데 그렇게 지고 나서는 이 시점에서 냉정하게 보면 단일화 직전에 이준석, 안철수가 변수가 아니다. 대세에 영향을 미치지 않는다고 하는 주장은 과학적이지도 않을뿐더러 그거는 승자가 권력을 독점하기 위해서 정당화시키는 논리지 그건 맞는 말이 아니에요. 그 이후에 선거 다 졌는데 그건 어떻게 이야기할 겁니까? 안철수가 별 것 아니고 이준석이 별 것이 아니었으면 선거 왜 집니까? 그래서 말은 그렇게 하더라도 아마 그 사람들은 내심 다시 그걸 품어야 되는 부분에 대해서는 인정을 하지만 자기네들이 과거에 해놓은 것이 있기 때문에 말을 못하는 거죠. 그래서 아마 제3자나 후보가 그걸 풀어주기를 바랄 겁니다. 후보가 풀어주면 자기네들의 역할은 뭐냐, 입 다물고 가만히 있는 거겠죠.\\n\\n▲ 김능구> 제가 지금 말하고자 하는 게 그건데 후보가 가만히 있어야 된다고 했잖아요. 그러면 석방됐을 때 겸허하게 가만히 있어야 됩니다. 거기서 헹가래를 치고 주먹을 쥐고 그게 윤석열 대통령입니다. 그렇기 때문에 절대로 가만히 있지 않을 것이다. 김건희 여사도 본인이 여러 수를 쓰는 걸 아주 즐겨요. 절체절명의 단계라 생각하기 때문에 온갖 걸 다 하리라 봅니다. 그래서 아까 국민 후보 이야기했잖아요. 여의도 호사가들에게서 이낙연 총리, 김부겸 총리 이야기도 나와요. 이쪽으로 데리고 와서 국민 후보로 내보낸다. 왜냐, 홍 소장님이 이야기한 대로 이번 조기 대선이 치뤄지면 조기 대선의 역사적 흐름은 계엄 심판입니다, 탄핵 심판이고. 이 역사적 흐름은 당연히 정권 교체로 가야 되는 겁니다. 가야 되는 것이기 때문에 중도층에서도 60% 이상이 정권 교체로 나오는 거거든요. 그런데 이 역사적 흐름을 뒤바꾸려고 하면 항상 이 반동에는 무리수가 따르게 돼 있어요. 온갖 걸 다 할 수 있다고 하지만 이 역사의 흐름은 거스를 수 없을 거다, 이렇게 보는 거죠.\\n\\n△ 홍형식> 그건 탄핵, 계엄으로 보면 그렇게 해석이 되는데 아까 말씀하시기를 후보가 그 역할을 해야 되는데 후보는 윤석열 대통령이 아니고 윤석열 대통령이 후보 역할을 하려고 하는지는 모르겠습니다만 어쨌든 김문수가 되든 국민 후보가 되든 누군가가 후보가 되는 사람이 그런 문제를 해결해야 된다는 거고요. 정권 교체와 정권 재창출 여론 격차가 10~15% 정도예요. 탄핵이 되면, 즉 계엄, 탄핵과 관련해서 놓고 본다면 역사적 흐름 그런 부분이 맞아요. 지금으로 봐서는 순서상 탄핵에 대한 헌재의 판결이 나오고 나서 이재명 대표의 2심 판결이 또 나오게 됩니다. 그때 가면 대통령으로서의 자질, 도덕성 문제가 또 별건으로 논쟁이 벌어질 겁니다. 탄핵 그 자체로 놓고 본다면 말씀하시는 대로 당연히 그렇게 가야 되는 거고 선거 결과도 그렇게 결정이 날 거예요. 그런데 만에 하나 탄핵이 나와서 그런 분위기가 있었는데 또 직후에 이재명 대표의 2심 판결이 나와 버리고 말았어요. 완전히 이건 또 다른 국면으로 갈 수가 있습니다. 제가 여론의 흐름이 1파, 2파, 3파라고 하는데 4파, 5파가, 그것이 바로 탄핵과 이재명 대표의 심판결과, 재판 결과가 그걸 만들 거라고 보는데, 거기서 제일 중요한 게 어느 게 먼저 결정이 나느냐는 거예요. 만에 하나 이재명 대표의 2심 판결이 나오고 그 이후에 헌법재판소의 판결이 나와 버리면 절대적으로 계엄 심판의 분위기로 가면서 성격이 그렇게 갈 가능성이 커버리고, 만에 하나 탄핵이 먼저 판결이 나고 그다음에 이재명 대표의 2심 판결이 나면 조금 전에 말씀드렸던 계엄에 대한, 어떤 탄핵에 대한 이런 분위기, 그런 선거의 성격이 많이 약화가 되면서 이재명 대표에 대한 자질 논쟁까지 같이 고려되는 선거가 될 겁니다.\\n\\n* 아래는 위 기사를 \\'구글 번역\\'으로 번역한 영문 기사의 [전문]입니다. \\'구글번역\\'은 이해도 높이기를 위해 노력하고 있습니다. 영문 번역에 오류가 있을 수 있음을 전제로 합니다.\\n\\n<Below is the [full text] of the English article translated by \\'Google Translate\\'. \\'Google Translate\\' is working to improve comprehension. Please note that there may be errors in the English translation.>\\n\\n[Kim Neung-gu and Hong Hyung-sik\\'s Public Sentiment Radar March ①] [Full Text] \"Early presidential election due to Yoon\\'s release is Yoon Seok-yeol vs. Lee Jae-myung\\'s 2nd round of presidential election\"\\n\\n\"Release of Yoon is seen by the public as a wrong decision, but Yoon\\'s influence has grown among the People\\'s Power supporters\"\\n\\n\"After Yoon\\'s release, the People\\'s Power supporters have been flocking to Kim Moon-soo... Under the current primary rules, Kim Moon-soo is certain\"\\n\\n\"If the People\\'s Power changes to a 100% opinion poll primary, it could have a dynamic primary with a convention effect\"\\n\\n\"If they embrace rational conservative candidates and boldly accept the vision of the moderates, they could have a close fight with the Democratic Party\"\\n\\n\"Yoon Seok-yeol and pro-Yoon... They could propose an alliance with moderates as well as progressive candidates to avoid losing power\"\\n\\n[Polynews Interview with Publisher Kim Neung-gu, Edited by Reporter Seo Kyung-sun] On the 12th, Polynews CEO Kim Neung-gu and Hangil Research Director Hong Hyung-sik held <Public Sentiment Radar> at the Polynews PolyTV Studio in Yeouido, Seoul. We had a discussion to diagnose and forecast the public sentiment trends and the People Power Party’s moves as shown in recent opinion polls conducted before and after President Yoon Seok-yeol’s release.\\n\\n“The public thinks Yoon’s release was a wrong decision, but Yoon’s influence has grown among the People Power Party supporters.”\\n\\n▲ Kim Neung-gu> With President Yoon Seok-yeol’s release, isn’t the early presidential election going to be a second round between Yoon Seok-yeol and Lee Jae-myung, or Lee Jae-myung and Yoon Seok-yeol? Let’s start with the public sentiment report by Hong Hyung-sik, the director of Hangil Research.\\n\\n△ Hong Hyung-sik> I will briefly explain the public opinion poll we are announcing today. The survey was conducted for three days from March 8 to 10, and 1,022 people were surveyed via wired and wireless channels. For more information, please refer to the Hangil Research website or the Central Election Opinion Survey Deliberation Committee website. I will first explain the main indicators.\\n\\nWhen asked about the party approval ratings, the Democratic Party is at 39.2% and the People Power Party is at 38.5%. The Democratic Party is 0.7%p higher. You have to read the numbers carefully here. In the last general election, I misread the party approval ratings. Because I misread the party approval ratings, I also made a wrong prediction for the general election. What I mean is, in the last general election, the Democratic Party and the People\\'s Power Party were similar. Sometimes, the People\\'s Power Party was ahead. So I predicted that the People\\'s Power Party would be ahead, but the problem is that the approval ratings of the opposition parties, such as the Fatherland Innovation Party and the New Future Party, were about 10%p even at that time. I excluded that and made the prediction. Since their candidates are not running, of course, their approval ratings support the Democratic Party\\'s regional candidates, and if you add that up, the Democratic Party is ahead by about 10%. However, if you exclude that, you interpret it as a 10% chance or sometimes the People\\'s Power Party is ahead, so the prediction is wrong, and in my view, the ruling party\\'s conservative camp is one of the reasons for election fraud. Why did they lose to the Democratic Party when their approval ratings were similar? There was election fraud. That\\'s because they misread the opinion polls. Then, in the case of the People\\'s Power Party, isn\\'t there a third party with a conservative tendency of 38.5%? You can talk about the Reform New Party Lee Jun-seok Party, but that is a shameless interpretation from the People\\'s Power Party\\'s perspective. If you think that Lee Jun-seok will not run and will naturally support the People\\'s Power Party candidate after sending Lee Jun-seok out, it is an interpretation that drinks the kimchi stew first. Therefore, when predicting the next presidential candidate based on the party approval rating, you should carefully consider the approval rating of the third party and whether or not that third party will field a candidate. Next, as for the next presidential candidate of the pan-opposition party, if you look at it until recently, up until last week, and up until last month, the pan-opposition party was running alone under Representative Lee Jae-myung. There was no competitor. In fact, in the case of the Democratic Party, the atmosphere was like a free pass where the primary was meaningless. In contrast, if you look at the atmosphere of the People\\'s Power Party so far, the gap has widened a bit, and the gap has widened a bit since last month, but in January, Kim Moon-soo was not even mentioned. However, starting from the end of January and entering February, Kim Moon-soo suddenly rose to prominence and was not competing with the second and third place candidates, but was so overwhelmingly ahead of the Democratic Party that it made one wonder if the primary was even meaningful. Kim Moon-soo received 24.9% of the population, Yoo Seung-min received 9.4%, and Han Dong-hoon received 8.2%. What\\'s important is the People Power Party supporters. Among the People Power Party supporters, Kim Moon-soo received 47.2%. On the other hand, Han Dong-hoon received 11.8%, Hong Joon-pyo received 10.3%, and Oh Se-hoon received 13.7%. Oh Se-hoon is in second place. So even if Oh Se-hoon, Han Dong-hoon, and Hong Joon-pyo were combined, they would not be able to beat Kim Moon-soo. That\\'s how bad it is. It seems that he is showing a similar pattern to Lee Jae-myung, although not as much as Lee Jae-myung of the Democratic Party. In a virtual matchup, Lee Jae-myung is ahead by 13.2%, 34.0% to 47.2%, but if you look closely, it\\'s 5 to 5. That\\'s because, according to the current survey, the conservative cohesion rate is only 61.8%. On the other hand, the progressive cohesion rate is 84.9%. If the conservatives were to unite by 25% more, the current 34.0% to 47.2% gap would be almost gone. I think you can see it that way. On the other hand, Oh Se-hoon would have a virtual matchup of 23.8% to 47.9%, a difference of about 20%p, which is a much wider gap than when he had a virtual matchup with Kim Moon-soo. The same goes for Hong Joon-pyo, 24.9% to 46.8%, a difference of about 20%p. So, in both the competition within the party and the virtual match, among the current People Power Party competitors, Kim Moon-soo is overwhelming Oh Se-hoon and Hong Joon-pyo. In relation to this, there is this story. Oh Se-hoon claims that he has a much greater potential for expansion into the middle class than Kim Moon-soo or Hong Joon-pyo. This is talking about potential potential. In particular, when Mayor Oh Se-hoon first entered politics, his nickname was “True Son.” When you first enter politics as a true son, you can talk about this potential future possibility, but Mayor Oh has been in politics for over 20 years and is the current mayor, so you can’t just talk about potential expansion with that potential. If you have been in office for over 20 years, especially as the mayor of Seoul, you have to show that potential by actualizing it. In other words, even if you lose to Kim Moon-soo in the primary, if you show a figure that is much more advantageous to Lee Jae-myung in the virtual match, for example, then you can establish potential expansion, but you are not showing such figures right now. Next, when we conducted a survey related to the current issue of impeachment, 53.6% were in favor of impeachment, 42.9% were against, and although there were slightly more people in favor by about 10%p, the results were disappointing considering the premise that the impeachment of the president requires a majority of the people to be in agreement. When we asked about trust in the Constitutional Court, 52.7% were in favor, while 43.8% were not. Again, the figures are similar to those for and against impeachment.\\n\\nThis time, we asked whether the decision to cancel the arrest and release of President Yoon Seok-yeol, which is the most controversial issue, was a good decision, but I would rather ask you a quiz like, \"How did it turn out?\", but even this is interpreted in a way that is advantageous to each camp. It seems that this will have a big impact on public opinion, especially in the conservative camp, and they have high expectations, but when we actually conducted a survey, 44.3% said it was a good decision or ruling. On the other hand, 52.8% said that releasing him was a mistake. It is similar to the figures for and against impeachment. So, I don’t think there will be any interpretations that conservatives think that the release of President Yoon Seok-yeol will affect the impeachment support or that it will be advantageous to the conservative camp.\\n\\n▲ Kim Neung-gu > You talked about the current public sentiment, but there are Realmeter and Gallup surveys, right? In the Realmeter survey, when they asked about opinions on impeachment, 55.6% were in favor of impeachment, while 43% were in favor of dismissal of impeachment and reinstatement to duty, a difference of about 10%. Compared to the 3rd week of February, the 2nd week of March saw a slight increase in favor and a slight decrease in opposition, so the difference is now a little over 10%. And in terms of regime change and regime extension, 50.4% are in favor of regime change and 44% are in favor of regime extension. This is actually narrowing, as you can see. The Korea Gallup party approval rating survey for the first week of March was 40 to 36, with the Democratic Party up 2% from last week, a difference of about 4%...\\n\\n△ Hong Hyung-sik> Usually, public opinion polls are said to be lagging indicators. When an incident occurs and it is reflected in public sentiment, a survey is conducted and quantified. That\\'s why I say lagging indicators, and I hypothetically mentioned President Yoon Seok-yeol\\'s release.\\n\\n▲ Kim Neung-gu> In the first week of March, the Democratic Party was at 41% and the People\\'s Power Party at 42.7%, so there was a phenomenon where the People\\'s Power Party\\'s approval ratings reversed. In the Gallup survey, the approval ratings for the next candidate were 35% for Democratic Party leader Lee Jae-myung in a multi-candidate race and 39% among moderates. The floating voter base of the entire population who did not support a candidate reached 34%. But in the 20s, 60% of the candidates were not supported, and in the 30s, 45% were. The 20s and 30s are the high floating voters. That’s why they are called swing voters. I briefly reviewed the Realmeter and Gallup surveys.\\n\\nI have talked about what Director Hong said in many places since then, but after martial law, from December to early this year, there were two waves until around Lunar New Year. Then, after Lunar New Year, there was a third wave. The first wave was completely focused on the Democratic Party, then the second wave became a close race, and then the third wave again became a flat or weak support for the People’s Power Party. Where do you think it is now?\\n\\n△ Hong Hyung-sik> It is currently flat. To be precise, if the second wave trend had continued, the People’s Power Party would have the upper hand, but it has not moved to the upper hand, and the flat trend is continuing, sometimes falling behind. If we really talk about this third wave, I think the consolidation itself can be seen as the third wave right now.\\n\\n▲ Kim Neung-gu> So the two parties are continuing the consolidation right now. The third wave is being maintained, but are you saying that there has been no significant change in either side due to the release of President Yoon Seok-yeol?\\n\\n△ Hong Hyung-sik> It is difficult to explain exactly how much of a change there has been due to the release using this indicator, but at least it does not seem to be in the direction that the conservative People Power Party, which I mentioned a little while ago, is expecting. Right now\\n\\nIf you look at it, the Realmeter survey last week ended at the time of the release…\\n\\n▲ Kim Neung-gu> March 10th.\\n\\n△ Hong Hyung-sik> It was the 10th, so if it was conducted after the release, it would have been conducted on the 10th, but if the release was reflected by one chance, and the impeachment rejection and acceptance are as shown here, that is, if the impeachment had to be accepted, and it increased from 52% to 55.6%, at least the release of President Yoon Seok-yeol, which occurred just before that, was different from the expectations of the conservatives or President Yoon Seok-yeol…\\n\\n▲ Kim Neung-gu> It was after the release, but the impeachment acceptance increased.\\n\\n△ Hong Hyung-sik> That’s right, so it’s showing the opposite direction than expected. This is the same with the Gallup survey. The Gallup survey date is this week, so if it was the 4th or 6th, it wasn’t reflected. Then, if you look at the Realmeter survey here, at least the results were the opposite of what the People’s Power Party expected.\\n\\n▲ Kim Neung-gu> When was the Hankook Research survey?\\n\\n△ Hong Hyung-sik> 8~10 days.\\n\\n▲ Kim Neung-gu> It’s spread out.\\n\\n△ Hong Hyung-sik> Yes, it was reflected and done.\\n\\n▲ Kim Neung-gu> Since that happened on the 8th, that was reflected and done, right? If that happens, then…\\n\\n△ Hong Hyung-sik> Despite that, 44.3% said the release was a good decision, and 52.8% said it was a bad decision.\\n\\n▲ Kim Neung-gu> So this means that the release itself did not change the impeachment or other issues.\\n\\n△ Hong Hyung-sik> The impeachment itself was not what the People Power Party had expected, but the way he was seen after the ruling and the subsequent release, more than the ruling, I think the way President Yoon Seok-yeol actually appeared when he was released had an impact on public opinion. So, if by any chance President Yoon Seok-yeol had taken a humble stance after the ruling, apologized for the confusion in state affairs, and humbly accepted the results of the Constitutional Court, it would have been advantageous. However, President Yoon’s release at that time could be perceived as a victory, and he showed an expression of triumph that could be interpreted as such, and he showed an appearance that could stimulate his supporters, so his approval rating actually went down.\\n\\n▲ Kim Neung-gu > He was completely in high spirits like a triumphant general, starting with his signature fist and gestures. So many citizens were very dispirited and anxious, and symptoms of not being able to sleep after martial law appeared again. These kinds of things are often reported in the media. But what’s frustrating is that the parts that the director just mentioned, if you know politics and think about how a leader should appear to the public, you should naturally be humble, but it seems like you’re not doing that well, right? △ Hong Hyung-sik> I find it a bit difficult to evaluate individual politicians and presidents, but generally speaking, politicians come to their current positions in their own way, so when they reach their current positions, they have positions as members of the National Assembly and as president. However, the political actions of members of the National Assembly, or as bureaucrats, and as president are different. However, I think they are not able to adapt quickly or do not know how to do it well. The roles of members of the National Assembly and the president are very different. That is why most of our country’s presidents are like that. They have never been president before, right? After becoming president, they have to show the way they run the country as president, the way the people want them to. The question is how well presidents adapt to that. Generally, those who have been in politics for a long time are good at that. However, since President Yoon Seok-yeol did not have the time to experience that before, I think it is difficult to see the kind of person we expected.\\n\\n▲ Kim Neung-gu> Anyway, after Yoon’s release, it did not reach the level of expectations we had from President Yoon, the People’s Power Party, or the conservatives, but it seems to have brought about significant changes to the People’s Power Party.\\n\\n△ Hong Hyung-sik> Yes, it didn’t have much of an impact on the general middle class and the general public, but it ended up increasing President Yoon Seok-yeol’s influence relatively more among conservatives and People Power Party supporters.\\n\\n“After Yoon’s release, the People Power Party supporters are flocking to Kim Moon-soo… Kim Moon-soo is certain under the current primary rules”\\n\\n▲ Kim Neung-goo> So, in this survey, Minister Kim Moon-soo is overwhelmingly the conservative candidate for the presidential election…\\n\\n△ Hong Hyung-sik> In our previous survey, the highest it was was 20% for the entire nation, but it went up 4.9%.\\n\\n▲ Kim Neung-goo> How much did it come out among People Power Party supporters?\\n\\n△ Hong Hyung-sik> It’s 47.1% among People Power Party supporters. They’ve taken over almost half of the population, so it wasn’t that high before the Lunar New Year and before President Yoon Seok-yeol’s release, but the People Power Party supporters are flocking to Minister Kim Moon-soo in this way. So, if this atmosphere continues a bit more, it could even affect Lee Jae-myung’s status within the Democratic Party.\\n\\n▲ Kim Neung-goo> 82 People’s Power lawmakers, including Rep. Na Kyung-won, have filed a second public petition to the Constitutional Court requesting that Yoon Seok-yeol’s impeachment trial be dismissed. They say that the number has increased by about 6 compared to before, but when I listened to them, the People’s Power lawmakers were all saying that the Constitutional Court’s ruling was dismissed, not dismissed, but dismissed. That atmosphere was probably reflected in the fact that Minister Kim Moon-soo has taken up an overwhelming majority of public opinion, almost half of the People’s Power supporters.\\n\\n△ Hong Hyung-sik> If you exclude “I don’t know,” I think it’s more than half of those who expressed their opinions.\\n\\n▲ Kim Neung-goo> The one who followed closely behind was Seoul Mayor Oh Se-hoon. And now, Representative Han Dong-hoon, who has resumed his activities, and Mayor Hong Joon-pyo, these three are struggling.\\n\\n△ Hong Hyung-sik> That\\'s right. If you look at only the People\\'s Power supporters, Kim Moon-soo has 47.1%, Oh Se-hoon has 13.7%, Han Dong-hoon has 11.8%, and Hong Joon-pyo has 10.7%. So even if you add up the 2nd to 3rd place, they still can\\'t surpass Kim Moon-soo. So if this phenomenon of the People\\'s Power supporters flocking to Kim Moon-soo appears, wouldn\\'t the same situation happen as with Lee Jae-myung of the Democratic Party?\\n\\n▲ Kim Neung-goo> From the Constitutional Court\\'s impeachment ruling, Minister Kim Moon-soo\\'s dominance is bound to continue until then. That\\'s because, although he can\\'t be called President Yoon Seok-yeol\\'s avatar, support for Yoon Seok-yeol is related anyway. However, when the early presidential election was confirmed after the impeachment ruling, Oh Se-hoon, Han Dong-hoon, and Hong Joon-pyo on the other hand. In comparison, I predicted that Oh Se-hoon and Han Dong-hoon’s support would rise more, but because of the release of Yoon Seok-yeol before the Constitutional Court’s ruling, support for Minister Kim Moon-soo as a presidential candidate has actually increased.\\n\\n△ Hong Hyung-sik> Yes, that phenomenon is actually occurring.\\n\\n▲ Kim Neung-gu> Right, then what I’m curious about now is what if, as a lagging index, you said earlier, public opinion polls. As a poll expert, if the impeachment is accepted, it would be meaningless if it is rejected or dismissed. What would the approval ratings of the presidential candidates be like if it is accepted? Minister Kim Moon-soo would maintain…\\n\\n△ Hong Hyung-sik> Minister Kim Moon-soo’s approval rating won’t change much. For example, there is public opinion of the entire nation, and unlike the overall public opinion, there could be public opinion within the People’s Power Party supporters. However, in the case of Kim Moon-soo, it could decrease slightly when viewed from the perspective of the entire nation. On the other hand, the People’s Power Party supporters could become more angry, so this approval rating could remain the same…\\n\\n▲ Kim Neung-gu> It could increase.\\n\\n△ Hong Hyung-sik> It could increase. On the other hand, Mayor Oh Se-hoon is unlikely to see much change in the People Power Party or the entire nation, but Han Dong-hoon could be a problem. If Han Dong-hoon is cited, his support base could increase further. While the number of citizens is increasing, the problem is whether he can increase within the People Power Party support base, that is, within the responsible party members. Rather, Han Dong-hoon’s approval rating could change in such a way that he loses some of the party’s support while gaining more of the public’s support.\\n\\n▲ Kim Neung-gu> If you look at the Hangil Research survey, it’s interesting that Kim Moon-soo is in first place among the entire nation, while Yoo Seung-min is in second place, and Han Dong-hoon, Oh Se-hoon, and Hong Joon-pyo are in third place. However, if you look at the conservatives and the People Power Party, former lawmaker Yoo Seung-min is suddenly dropped, and then among the conservatives as a whole, it’s Han Dong-hoon, Oh Se-hoon, and Hong Joon-pyo. However, in the People Power Party, the rankings have changed slightly, with Oh Se-hoon, Han Dong-hoon, and Hong Joon-pyo. It’s all 1~2% difference, so it doesn’t mean much, but anyway, that kind of difference happened, and Kim Moon-soo has 24.9% overall, but 41.2% among conservatives, and 47.1% among the People Power Party supporters. If the impeachment is not accepted, as I said, the presidential candidate has no meaning, and if it is accepted, it jumps by almost 20%. So 41.2% and 47.1% will go up even more?\\n\\n△ Hong Hyung-sik> That could happen.\\n\\n▲ Kim Neung-goo> Even if 24.9% doesn’t change much…\\n\\n△ Hong Hyung-sik> It could decrease.\\n\\n▲ Kim Neung-goo> If that happens, the current primary rules 100% make Minister Kim Moon-soo the candidate.\\n\\n△ Hong Hyung-sik> Yes, in my opinion, if this atmosphere continues, Minister Kim Moon-soo won’t become the candidate. Because, as usual, there are variables. Normally, the schedule for the primary elections would be one or two months apart, so there could be changes if the competition were to take place. However, if impeachment is approved, it would only take about 20 days from the time the primary candidates are registered to the primary election. So the candidates do not have enough time to change the situation of the primary election or to campaign. As a result, the current public opinion could solidify. So if you look at the current public opinion, you might be more interested in who will make the cutoff. Looking at it this way, Han Dong-hoon is currently in 4th place, but as you can see in this survey, public opinion is ahead of Yoo Seung-min. As far as I know, the cutoff will be 8 to 2. It reflects public sentiment and the party sentiment is reflected by only 20% or 30%, but if the public sentiment, which reflects about 80%, is greater and Yoo Seung-min leaves a gap, Han Dong-hoon could be cut off if he does something wrong.\\n\\nIf it passes with 4 people. So, wouldn\\'t it be more interesting to see who passes the cutoff?\\n\\n\"If the People\\'s Power changes to a 100% public opinion poll primary, it could have a big convention effect as a dynamic primary.\"\\n\\n\"If they embrace a rational conservative candidate and boldly accept the vision of the moderates, they could have a close fight with the Democratic Party.\"\\n\\n▲ Kim Neung-gu> Ahn Cheol-soo, Oh Se-hoon, Yoo Seung-min, Han Dong-hoon. These four people are seen as moderate conservatives in the People\\'s Power. If these four people unify their candidates based on the results regardless of the cutoff, wouldn\\'t Kim Moon-soo and Hong Joon-pyo pass the cutoff? And Mayor Hong Joon-pyo. Some people say that if they unify here, it would be a bit of a game.\\n\\n△ Hong Hyung-sik> People who approach it from a political engineering perspective can say all sorts of things, but that\\'s not realistically possible. I don\\'t think they\\'re approaching it from a political engineering perspective. Because even if it is a conservative reform like Han Dong-hoon\\'s color, whether it is conservative, moderate conservative, or conservative reform, the colors of Ahn Cheol-soo, Yoo Seung-min, and Han Dong-hoon are quite different. Because they are different, not only is it unlikely that they will be unified in that short period of time, but it is not good politics to keep doing that unification without any attempts or useless things.\\n\\n▲ Kim Neung-goo> But the People\\'s Power also has a runoff voting system. It has a runoff voting system. Looking at the current one, I don\\'t know how many people there will be, but the cutoff is usually around 4 people.\\n\\n△ Hong Hyung-sik> Based on precedent, it is 4 people.\\n\\n▲ Kim Neung-goo> When it exceeds 4 people, it goes through a cutoff process. So, looking at it now, Hankil Research surveyed six people, and I don’t know if they’ll all run this time, but in any case, the cutoff process is worth watching. What we talked about was that, like the previous Seoul and Busan mayoral by-elections where the People’s Power Party made a new start, instead of using the existing primary rules, we could try a 100% public opinion poll. And unlike the Democratic Party’s Lee Jae-myung, who is doing one-sided, the People’s Power Party’s competitiveness lies in showing some dynamism in the primary process.\\n\\n△ Hong Hyung-sik> Enough, so Kim Moon-soo is clearly ahead by a large margin, but the other candidates and the public can have fun and have policy discussions, so the convention effect could be much greater for the People’s Power Party. In other words, if they don’t ruin the game by being negative, they can create a huge convention effect.\\n\\n▲ Kim Neung-goo> But what about an early presidential election? In the end, it seems inevitable that it will be another 51 to 49 election, a bloody democracy as someone pointed out, and an all-in election with a showdown between camps. In that case, wouldn’t it be inevitable for the conservative camp to make some changes to secure the moderate votes and the center?\\n\\n△ Hong Hyung-sik> Yes, there are two reasons. One is that the People Power Party has kicked out all the moderate reformists. So, as a person, can we accept moderate reformists as people who can play an important role in the party again?\\n\\n▲ Kim Neung-goo> For example, Ahn Cheol-soo, Lee Jun-seok, Yoo Seung-min…\\n\\n△ Hong Hyung-sik> Yoo Seung-min and Han Dong-hoon were all kicked out. They were kicked out and their status was eliminated. So whether or not they can do this will be revealed in the primary. If they don’t do negative things in the primary and show a developed image by mutually accepting each other’s good policies, then it will definitely be a certain…\\n\\n▲ Kim Neung-goo> In the primary process, they show a unified image, especially a rational conservative image, and a togetherness. △ Hong Hyung-sik> It is important not just in words, but also in showing the ability to accept good policies when the other party proposes them. Second, how much does the candidate reflect the interests or desires of the middle class or the middle class in creating a vision and setting the direction of the country’s operation? I think the middle class’s strategy will be decided by these two factors.\\n\\n▲ Kim Neung-gu> Minister Kim Moon-soo is expected to be the overwhelming candidate, but even so, during the primary process, there is a possibility that he will embrace rational conservatism and policies, or that the presidential candidate will take the lead in this. Are you saying that this can happen or will happen?\\n\\n△ Hong Hyung-sik> I don’t know if it can happen, but if he does, as Representative Kim said earlier, it will be a showdown with Yoon Seok-yeol’s avatar, but if he fails to do that, it will be a showdown with an avatar, and if he does, it won’t be a showdown with an avatar. Then it could become a really fierce competition, and there is no way that the People Power Party can’t win at times. In fact, Minister Kim Moon-soo has been out of politics for a long time. So, it is hard to tell whether he will be able to embrace the primary candidates based on his political moves so far. So, I think we can only judge that when the actual situation comes up. And I think that issue is entirely a matter of Minister Kim Moon-soo’s own capabilities, and it is something he must solve, and no one else can solve it.\\n\\n“Yoon Seok-yeol, pro-Yoon... In order to avoid losing power, he may propose an alliance with moderates as well as progressive candidates.”\\n\\n▲ Kim Neung-goo> Director Hong Hyung-sik has also been in the presidential election for 30 years, so what do you think President Yoon Seok-yeol thinks about an early presidential election?\\n\\n△ Hong Hyung-sik> Even though he has been in the presidential election for 30 years, he has only experienced President Yoon Seok-yeol for a few years, so wouldn’t he try to exert active influence on the presidential election based on his short experience?\\n\\n▲ Kim Neung-goo> Will he?\\n\\n△ Hong Hyung-sik> The president himself has such convictions and, in any case, he has the experience of having run a presidential election once, so he will probably try to enforce that method a lot. In that sense, how the next People Power Party candidate manages and overcomes that part will be a huge problem. We don’t have to go far. Just think about the relationship between Lee Jae-myung and Moon Jae-in in the last presidential election. Lee Jae-myung and Moon Jae-in were presidents at the time. It’s true that there was considerable conflict in their relationship. If they had joined forces and pooled their strengths, I think the presidential election could have been overturned by about 0.73%. However, I think that there is a possibility that some conflict will reappear between the two incumbent presidents and future candidates, the two camps that could become power, even though I don’t know who will be the candidate for the next election, President Yoon Seok-yeol and the People Power Party.\\n\\n▲ Kim Neung-goo> The People Power Party and conservative forces are all preparing with Plan A, the impeachment of the president, and the dismissal or rejection of the impeachment by the Constitutional Court, in mind, and Plan B, an early presidential election when it is accepted, in my view. But President Yoon Seok-yeol was impeached, an early presidential election was held, and he is now released. Then, even if a civil war trial is held, he can continue without detention. But if the president is impeached, he is no longer the president. So, there are no restrictions on campaigning under the election law. Before, the president could not make statements of support or anything like that because of those restrictions…\\n\\n△ Hong Hyung-sik> He can’t. Rather, he will intervene much more actively than President Moon Jae-in.\\n\\n▲ Kim Neung-gu> He can campaign very actively. So the candidate is not simply an avatar of Yoon Seok-yeol. Even if it was already like this, Plan B, the center of this is Yoon Seok-yeol, but now that he has been released, he has been greatly strengthened in that regard. That’s why it’s impossible to think of an early presidential election without Yoon Seok-yeol. The conservative People Power Party sees Yoon Seok-yeol as the center of the next presidential election. And I think Yoon Seok-yeol could nominate Kim Moon-soo, whom he supports, or another candidate who is not Kim Moon-soo. Because Minister Kim Moon-soo has been involved in politics for a long time and recently, he is not a strong candidate now. He is currently the Minister of Labor under President Yoon Seok-yeol, and he is receiving support because he has worked with Yoon as a minister. In that case, President Yoon Seok-yeol could present another alternative, not Minister Kim Moon-soo, as Director Hwang Jang-soo said, a national candidate who can represent and represent the anti-Lee Jae-myung front. And on the other hand, among the rational conservatives and moderate conservatives that I mentioned earlier, Mayor Oh Se-hoon or Representative Han Dong-hoon, they may not be the primary candidates, but they could become candidates. That is why they are reviewing various plans. In any plan, President Yoon Seok-yeol will not be much different as the center of the election campaign. They may be quite different in appearance. But I apologized to Representative Lee Jun-seok two or three times during the last presidential election. He did that performance. Why? He had no choice in order to win the presidential election. And he has the best strategist, Mrs. Kim Kun-hee. So, during the last presidential election, the person who probably urged him to apologize the most was Mrs. Kim Kun-hee. He will think like this and do anything to get elected. So, whether it is Minister Kim Moon-soo, Plan B, or Minister Kim Moon-soo or another national candidate, or whoever the current moderate conservative is, for the presidential election victory, he will probably try to do something like the change in positioning or policy that I mentioned earlier, and then, in terms of solidarity, among the many groundbreaking proposals exchanged, if he can unite with DJP. He will try to unite conservatives and moderates, or even progressive candidates, and even personnel. I think he is thinking of all kinds of methods. △ Hong Hyung-sik> If the election is judged to be a close race or a key race, then from the candidate\\'s perspective, if the conservative candidate feels weaker due to ideological inclinations, it is natural for the pan-conservative forces to try to join hands with Lee Jun-seok who left or was kicked out, and the forces that are currently in conflict with the Democratic Party, I don\\'t know if it will work or not, but they changed the party name. How did they change the New Future? Lee Nak-yeon, who was the leader, is no longer the leader.\\n\\n▲ Kim Neung-gu> New Future.\\n\\n△ Hong Hyung-sik> They will try to find a way to work with such a party. They will also make a proposal to the Fatherland Innovation Party. In some form or another,\\n\\nThey will try to do it through. But whether it will be realized is a separate issue. In any case, since it looks a bit weak right now, in any case, if the impeachment is accepted, it will be a defensive position in itself, especially compared to the current opinion polls. It is a defensive position, and during the primary period, it is even more necessary to move centered on the party. Even after 20 days of impeachment, the People Power Party candidate will be extremely defensive or have their feet tied, so opinion polls will continue to come out. Then, when the time comes for the candidate to become the candidate, the gap will clearly widen, and they will have no choice but to look into the things you just mentioned.\\n\\n▲ Kim Neung-gu > The existing media did not cover it well, but in fact, the gap was 0.73% in the last presidential election. So there is the argument that the election of People Power Party President Yoon Seok-yeol was possible because Lee Jun-seok\\'s generational encirclement theory and the 20s were his supporters, and there is also the argument that it would not have happened without Ahn Cheol-soo\\'s unification. However, Yoon Seok-yeol\\'s side says that this and that did not affect the general trend. But what happened? President Yoon Seok-yeol and Representative Lee Jae-myung tried to unify with Representative Ahn Cheol-soo. Both sides promised a joint government, and this is a historical fact. That means that Representative Ahn Cheol-soo had been talking about unification with Representative Yoon Seok-yeol even before registering as a candidate. Before the election, negotiations for unification between the two sides took place almost in real time. At the end, he announced unification with Yoon Seok-yeol.\\n\\nBut they said they promised a joint government, but that joint government later disappeared somewhere and they just received the transition committee chairman, and after that, no one from Representative Ahn Cheol-soo’s side was elected, and it was confirmed that no one other than himself was nominated for a National Assembly seat…\\n\\n△ Hong Hyung-sik > To put it simply, or to put it a bit exaggeratedly, it was closer to the Pang side.\\n\\n▲ Kim Neung-goo > Right?\\n\\n△ Hong Hyung-sik > Yes.\\n\\n▲ Kim Neung-gu> But this is because in the past, between President Kim Dae-jung and Prime Minister Kim Jong-pil, the DJP alliance had a solid regional base in Chungcheong, and there was some support from the conservatives, so to speak, President Kim Dae-jung was not, but he was constantly attacked as a communist, so in terms of covering that up, in terms of the region and ideology…\\n\\n△ Hong Hyung-sik> They played quite a complementary role.\\n\\n▲ Kim Neung-gu> Yes, that happened, and Assemblyman Ahn Cheol-soo had a 0.73% difference at the end, so this is the effect of Ahn Cheol-soo’s unification, but even though they didn’t do that much before, the actual negotiations for the unification of candidates were fierce at the end, on both sides. So I experienced it all. Yoon Seok-yeol’s camp, President Yoon Seok-yeol, First Lady Kim Keon-hee, and the current core pro-Yoon faction of the People Power Party. So that can happen at any time.\\n\\n△ Hong Hyung-sik> When President Yoon Seok-yeol was a candidate, he unified with Ahn Cheol-soo, and when Party Leader Lee Jun-seok ran as the head of the election campaign headquarters, he won 0.73%. And then, as the saying goes that power cannot be shared, didn’t he monopolize everything and exclude all those close to Yoon when he was elected president? Ahn Cheol-soo is a member of the National Assembly, but he kicked Lee Jun-seok out of the party leadership and forced him to leave the party. And then what happened in the next election? They all lost. But after losing like that, if you look at it objectively, Lee Jun-seok and Ahn Cheol-soo are not variables right before unification. The argument that they don’t affect the trend is not only unscientific, but it’s also a logic that the winner justifies to monopolize power, so it’s not true. After that, they lost all the elections, so what are they going to say about that? If Ahn Cheol-soo was nothing and Lee Jun-seok was nothing, why did they lose the election? So even if they say that, they probably admit that they have to embrace it again, but they can’t say anything because they have done something in the past. So they probably hope that a third party or a candidate will release it. If the candidate releases it, what is their role? They will just keep their mouths shut and stay quiet.\\n\\n▲ Kim Neung-gu> That’s what I’m trying to say. I said the candidate should stay still. Then, when he’s released, he should stay still and humbly. There, he’ll shake his fist and clench his fist. That’s President Yoon Seok-yeol. That’s why he’ll never stay still. Mrs. Kim Keon-hee also enjoys using various methods. I think she’ll do everything because she thinks it’s a desperate situation. That’s why I mentioned the national candidate earlier. The Yeouido tycoons are talking about Prime Minister Lee Nak-yeon and Prime Minister Kim Boo-kyum. They’ll bring them here and send them as the national candidate. Why? As Director Hong said, if this early presidential election is held, the historical flow of the early presidential election is martial law trial, impeachment trial. This historical flow should naturally lead to a change of government. Since it has to lead, more than 60% of the moderates are in favor of a change of government. However, if you try to reverse this historical flow, this backlash always comes with unreasonable odds. They say they can do anything, but they can’t go against this historical flow. That’s how I see it. △ Hong Hyung-sik> If we look at it as impeachment and martial law, it can be interpreted that way, but as you said earlier, the candidate should play that role, but the candidate is not President Yoon Seok-yeol. I don’t know if President Yoon Seok-yeol is trying to play the role of the candidate, but in any case, whether it’s Kim Moon-soo or the people’s candidate, the candidate who becomes the candidate should solve that problem. The gap in public opinion between regime change and regime re-creation is about 10-15%. If there is impeachment, that is, if we look at it in relation to martial law and impeachment, it is in line with the historical flow. As of now, the Constitutional Court’s ruling on the impeachment will be followed by the second trial of Representative Lee Jae-myung. At that time, the issue of the qualifications and morality of the president will be debated separately. If we look at the impeachment itself, as you said, it should naturally go that way, and the election results will be decided that way. However, if there was an impeachment, there was that kind of atmosphere, and then Representative Lee Jae-myung’s second trial was announced right after. This could lead to a completely different situation. I think the flow of public opinion is 1st, 2nd, and 3rd, but the 4th and 5th factions, that is the impeachment and the trial of Representative Lee Jae-myung, the trial results, the most important thing is which one comes first. If by any chance Representative Lee Jae-myung\\'s second trial verdict is made and then the Constitutional Court\\'s ruling is made, the atmosphere of martial law trial is absolutely likely to take shape, and if by any chance the impeachment is made first and then Representative Lee Jae-myung\\'s second trial verdict is made, the atmosphere of the election regarding martial law and impeachment that I mentioned earlier will be greatly weakened, and it will become an election where even the debate on Representative Lee Jae-myung\\'s qualifications will be considered.'"
      ]
     },
     "execution_count": 15,
     "metadata": {},
     "output_type": "execute_result"
    }
   ],
   "source": [
    "df[df['len'] > 60000].text.values[0]"
   ]
  },
  {
   "cell_type": "markdown",
   "id": "63d10b78-17cc-447c-ac93-7442368618b9",
   "metadata": {},
   "source": [
    "### 텍스트 길이가 100 이하인 뉴스 제거"
   ]
  },
  {
   "cell_type": "code",
   "execution_count": 16,
   "id": "548fdd81-0414-4b3a-9e5f-f9ae6c2f02d0",
   "metadata": {},
   "outputs": [
    {
     "data": {
      "text/plain": [
       "16890"
      ]
     },
     "execution_count": 16,
     "metadata": {},
     "output_type": "execute_result"
    }
   ],
   "source": [
    "df = df[df['len'] > 100]\n",
    "len(df)"
   ]
  },
  {
   "cell_type": "markdown",
   "id": "fe8f9e4b-2c5a-4f4d-a222-158eadad3f25",
   "metadata": {},
   "source": [
    "### 관련없는 뉴스 제거"
   ]
  },
  {
   "cell_type": "code",
   "execution_count": 17,
   "id": "bff71f2f-49cf-44ed-9c91-a3db6e16a6dd",
   "metadata": {},
   "outputs": [
    {
     "data": {
      "text/plain": [
       "1228"
      ]
     },
     "execution_count": 17,
     "metadata": {},
     "output_type": "execute_result"
    }
   ],
   "source": [
    "df_not_relevant = df[~df.text.str.contains('윤석열') & ~df.text.str.contains('이재명')]\n",
    "len(df_not_relevant)"
   ]
  },
  {
   "cell_type": "code",
   "execution_count": 19,
   "id": "ada36b03-f7fd-4dba-9ec2-6f0693b729b4",
   "metadata": {},
   "outputs": [
    {
     "data": {
      "text/html": [
       "<div>\n",
       "<style scoped>\n",
       "    .dataframe tbody tr th:only-of-type {\n",
       "        vertical-align: middle;\n",
       "    }\n",
       "\n",
       "    .dataframe tbody tr th {\n",
       "        vertical-align: top;\n",
       "    }\n",
       "\n",
       "    .dataframe thead th {\n",
       "        text-align: right;\n",
       "    }\n",
       "</style>\n",
       "<table border=\"1\" class=\"dataframe\">\n",
       "  <thead>\n",
       "    <tr style=\"text-align: right;\">\n",
       "      <th></th>\n",
       "      <th>url</th>\n",
       "      <th>press</th>\n",
       "      <th>title</th>\n",
       "      <th>datetime</th>\n",
       "      <th>text</th>\n",
       "      <th>label</th>\n",
       "      <th>len</th>\n",
       "    </tr>\n",
       "  </thead>\n",
       "  <tbody>\n",
       "    <tr>\n",
       "      <th>16</th>\n",
       "      <td>https://www.ichannela.com/news/main/news_detai...</td>\n",
       "      <td>채널A</td>\n",
       "      <td>이재명과 양자대결서 오세훈·홍준표 각각 20%대</td>\n",
       "      <td>2025-01-01 19:20:00+00:00</td>\n",
       "      <td>법적고지\\n\\n채널A에서 제공하는 콘텐츠에 대하여\\n\\n\\n\\n채널A의 각종 서비스...</td>\n",
       "      <td>이재명</td>\n",
       "      <td>873</td>\n",
       "    </tr>\n",
       "    <tr>\n",
       "      <th>20</th>\n",
       "      <td>https://www.newsis.com/view/NISX20250101_00030...</td>\n",
       "      <td>뉴시스</td>\n",
       "      <td>박찬대, 현충원 참배 \"내란극복·민생안정\"…이재명은 무안 방문</td>\n",
       "      <td>2025-01-01 10:28:39+09:00</td>\n",
       "      <td>[서울=뉴시스] 김명년 기자 = 박찬대 더불어민주당 원내대표와 지도부가 새해 첫날인...</td>\n",
       "      <td>이재명</td>\n",
       "      <td>111</td>\n",
       "    </tr>\n",
       "    <tr>\n",
       "      <th>52</th>\n",
       "      <td>https://www.donga.com/news/Politics/article/al...</td>\n",
       "      <td>동아일보</td>\n",
       "      <td>진보진영 대선후보 이재명 39.4% 선두, 김동연 8.5%-우원식 5.7%… 보수진...</td>\n",
       "      <td>2025-01-01 13:00:00</td>\n",
       "      <td>[신년 여론조사]\\n\\n진보-보수 차기 대통령감 적합도\\n\\n크게보기 동아일보가 여...</td>\n",
       "      <td>이재명</td>\n",
       "      <td>1034</td>\n",
       "    </tr>\n",
       "    <tr>\n",
       "      <th>61</th>\n",
       "      <td>https://www.newsis.com/view/NISX20250101_00030...</td>\n",
       "      <td>뉴시스</td>\n",
       "      <td>여야 지도부, 새해 첫 일정으로 현충원 참배…무안도 방문</td>\n",
       "      <td>2025-01-01 12:48:23+09:00</td>\n",
       "      <td>[서울=뉴시스] 김명년 기자 = 권영세(왼쪽부터) 국민의힘 비상대책위원장과 우원식 ...</td>\n",
       "      <td>이재명</td>\n",
       "      <td>145</td>\n",
       "    </tr>\n",
       "    <tr>\n",
       "      <th>69</th>\n",
       "      <td>https://www.ichannela.com/news/main/news_detai...</td>\n",
       "      <td>채널A</td>\n",
       "      <td>이재명, 공직선거법 2심 변호인 교체…“재판 지연 의도 없다”</td>\n",
       "      <td>2025-01-01 18:08:00+00:00</td>\n",
       "      <td>법적고지\\n\\n채널A에서 제공하는 콘텐츠에 대하여\\n\\n\\n\\n채널A의 각종 서비스...</td>\n",
       "      <td>이재명</td>\n",
       "      <td>873</td>\n",
       "    </tr>\n",
       "  </tbody>\n",
       "</table>\n",
       "</div>"
      ],
      "text/plain": [
       "                                                  url press  \\\n",
       "16  https://www.ichannela.com/news/main/news_detai...   채널A   \n",
       "20  https://www.newsis.com/view/NISX20250101_00030...   뉴시스   \n",
       "52  https://www.donga.com/news/Politics/article/al...  동아일보   \n",
       "61  https://www.newsis.com/view/NISX20250101_00030...   뉴시스   \n",
       "69  https://www.ichannela.com/news/main/news_detai...   채널A   \n",
       "\n",
       "                                                title  \\\n",
       "16                         이재명과 양자대결서 오세훈·홍준표 각각 20%대   \n",
       "20                 박찬대, 현충원 참배 \"내란극복·민생안정\"…이재명은 무안 방문   \n",
       "52  진보진영 대선후보 이재명 39.4% 선두, 김동연 8.5%-우원식 5.7%… 보수진...   \n",
       "61                    여야 지도부, 새해 첫 일정으로 현충원 참배…무안도 방문   \n",
       "69                 이재명, 공직선거법 2심 변호인 교체…“재판 지연 의도 없다”   \n",
       "\n",
       "                     datetime  \\\n",
       "16  2025-01-01 19:20:00+00:00   \n",
       "20  2025-01-01 10:28:39+09:00   \n",
       "52        2025-01-01 13:00:00   \n",
       "61  2025-01-01 12:48:23+09:00   \n",
       "69  2025-01-01 18:08:00+00:00   \n",
       "\n",
       "                                                 text label   len  \n",
       "16  법적고지\\n\\n채널A에서 제공하는 콘텐츠에 대하여\\n\\n\\n\\n채널A의 각종 서비스...   이재명   873  \n",
       "20  [서울=뉴시스] 김명년 기자 = 박찬대 더불어민주당 원내대표와 지도부가 새해 첫날인...   이재명   111  \n",
       "52  [신년 여론조사]\\n\\n진보-보수 차기 대통령감 적합도\\n\\n크게보기 동아일보가 여...   이재명  1034  \n",
       "61  [서울=뉴시스] 김명년 기자 = 권영세(왼쪽부터) 국민의힘 비상대책위원장과 우원식 ...   이재명   145  \n",
       "69  법적고지\\n\\n채널A에서 제공하는 콘텐츠에 대하여\\n\\n\\n\\n채널A의 각종 서비스...   이재명   873  "
      ]
     },
     "execution_count": 19,
     "metadata": {},
     "output_type": "execute_result"
    }
   ],
   "source": [
    "df_not_relevant.head()"
   ]
  },
  {
   "cell_type": "code",
   "execution_count": 21,
   "id": "041a337f-0a7c-4404-9e4b-3f0a00e8bc4f",
   "metadata": {},
   "outputs": [
    {
     "data": {
      "text/plain": [
       "'법적고지\\n\\n채널A에서 제공하는 콘텐츠에 대하여\\n\\n\\n\\n채널A의 각종 서비스를 사용하여 인터넷에 올려진 정보를 얻고자 하실 때에는 다음과 같은 점에 유의하시기 바랍니다.\\n\\n채널A가 제공하는 모든 제반 서비스를 이용하여 연결(링크)된 사이트에 수록되어 있는 정보 중에는 회원의 개인적인 판단에 따라 불쾌감 또는 피해를 주는 내용이 있을 수도 있습니다.\\n\\n채널A의 각 사이트 및 동호회 서비스 등에서 채널A 사이트 외부로의 링크 결과 열람하시는 사이트에서 현행 국내법상 불법이거나, 사회의 일반통념, 질서 및 미풍양속 등에 어긋나는 내용을 사전에 차단 하는 것과 관련하여 채널A는 어떠한 책임도 지지 않습니다.\\n\\n\\n\\n채널A는 네트워크에 링크된 모든 사이트에 수록된 자료의 정확성이나 상표법, 저작권법 등의 관계 법령의 준수 여부에 대하여 어떤 책임도 부인합니다.\\n\\n회원님들께서는 채널A와 네트워크로 연결되어 있는 웹사이트 또는 제3자에 의하여 채널A네트워크 상에서 작동되거나 제공되는 모든 정보, 상품들은 채널A의 통제 권한 밖에서 제작, 게시 및 작동되었음을 유념하시기 바랍니다.\\n\\n회원들이 복제 인용 등의 방법으로 채널A 사이트 안에 다른 사이트의 콘텐츠를 제공하였을 경우, 콘텐츠의 내용은 제3자에 의하여 개발되었고 회원에 의해 게시되었므로 채널A의 책임 여부와는 무관함을 명심하시기 바랍니다.\\n\\n\\n\\n물론 채널A가 스스로 제공하는 콘텐츠에 관하여는 위에 열거된 법령과 혹시 누락된 법령일지라도 관련 법령을 준수하기 위하여 최선을 다하고 있습니다.\\n\\n채널A의 서비스에 관하여 일반적 혹은 관계 법령의 준수에 관한 조언을 하고자 하실 때에는 언제나 홈페이지에 게시된 담당자에게 연락주시기 바랍니다.\\n\\n\\n\\n채널A는 여러분의 의견을 적극 수용하도록 최선을 다하겠습니다.'"
      ]
     },
     "execution_count": 21,
     "metadata": {},
     "output_type": "execute_result"
    }
   ],
   "source": [
    "df.loc[16].text"
   ]
  },
  {
   "cell_type": "code",
   "execution_count": 22,
   "id": "39725cbe-8076-42dc-b1e7-75754bdc5aad",
   "metadata": {},
   "outputs": [
    {
     "data": {
      "text/plain": [
       "15662"
      ]
     },
     "execution_count": 22,
     "metadata": {},
     "output_type": "execute_result"
    }
   ],
   "source": [
    "df = df[df.text.str.contains('윤석열') | df.text.str.contains('이재명')]\n",
    "len(df)"
   ]
  },
  {
   "cell_type": "markdown",
   "id": "5eb2254b-5a90-4060-9a33-0af3234200f6",
   "metadata": {},
   "source": [
    "## 날짜별 뉴스 개수"
   ]
  },
  {
   "cell_type": "code",
   "execution_count": 23,
   "id": "3e8eecba-d7f2-4dc8-b56b-b0aff5c5e954",
   "metadata": {},
   "outputs": [],
   "source": [
    "df['date'] = df['datetime'].str[:10]"
   ]
  },
  {
   "cell_type": "code",
   "execution_count": 24,
   "id": "5ad8b253-3cfa-4dc9-a129-88ad9b751d84",
   "metadata": {},
   "outputs": [
    {
     "data": {
      "text/plain": [
       "date\n",
       "2024-12-31      3\n",
       "2025-01-01    126\n",
       "2025-01-02    128\n",
       "2025-01-03    130\n",
       "2025-01-04    136\n",
       "             ... \n",
       "2025-03-28    156\n",
       "2025-03-29    132\n",
       "2025-03-30    139\n",
       "2025-03-31    131\n",
       "2025-04-02      3\n",
       "Length: 92, dtype: int64"
      ]
     },
     "execution_count": 24,
     "metadata": {},
     "output_type": "execute_result"
    }
   ],
   "source": [
    "df[['date']].groupby('date').size()"
   ]
  },
  {
   "cell_type": "code",
   "execution_count": 25,
   "id": "81a2e642-ea0f-4959-9787-c2fe52d9e7d6",
   "metadata": {},
   "outputs": [
    {
     "data": {
      "text/html": [
       "<div>\n",
       "<style scoped>\n",
       "    .dataframe tbody tr th:only-of-type {\n",
       "        vertical-align: middle;\n",
       "    }\n",
       "\n",
       "    .dataframe tbody tr th {\n",
       "        vertical-align: top;\n",
       "    }\n",
       "\n",
       "    .dataframe thead th {\n",
       "        text-align: right;\n",
       "    }\n",
       "</style>\n",
       "<table border=\"1\" class=\"dataframe\">\n",
       "  <thead>\n",
       "    <tr style=\"text-align: right;\">\n",
       "      <th></th>\n",
       "      <th>url</th>\n",
       "      <th>press</th>\n",
       "      <th>title</th>\n",
       "      <th>datetime</th>\n",
       "      <th>text</th>\n",
       "      <th>label</th>\n",
       "      <th>len</th>\n",
       "      <th>date</th>\n",
       "    </tr>\n",
       "  </thead>\n",
       "  <tbody>\n",
       "    <tr>\n",
       "      <th>206</th>\n",
       "      <td>https://www.ytn.co.kr/replay/view.php?idx=16&amp;k...</td>\n",
       "      <td>YTN</td>\n",
       "      <td>[돌발영상] \"국회의원들 정말 못됐어요\" 이재명에 울분 쏟아내는 유족</td>\n",
       "      <td>2025-04-02 11:49:41+09:00</td>\n",
       "      <td>[돌발영상] \"국회의원들 정말 못됐어요\" 이재명에 울분 쏟아내는 유족 New 돌발영...</td>\n",
       "      <td>이재명</td>\n",
       "      <td>377</td>\n",
       "      <td>2025-04-02</td>\n",
       "    </tr>\n",
       "    <tr>\n",
       "      <th>3229</th>\n",
       "      <td>https://kizmom.hankyung.com/news/view.html?aid...</td>\n",
       "      <td>키즈맘</td>\n",
       "      <td>차기 대선주자 적합도, 이재명 42%·김문수 28%...홍준표 7%·한동훈7%</td>\n",
       "      <td>2025-04-02 12:45:07+09:00</td>\n",
       "      <td>24일 시민들과 설 귀성 인사 나누는 이재명 대표 / 연합뉴스\\n\\n차기 대선주자 ...</td>\n",
       "      <td>이재명</td>\n",
       "      <td>711</td>\n",
       "      <td>2025-04-02</td>\n",
       "    </tr>\n",
       "    <tr>\n",
       "      <th>4170</th>\n",
       "      <td>https://kizmom.hankyung.com/news/view.html?aid...</td>\n",
       "      <td>키즈맘</td>\n",
       "      <td>권성동, 이재명에 \"기만적인 역할극은 금투세로 충분\"</td>\n",
       "      <td>2025-04-02 13:02:21+09:00</td>\n",
       "      <td>반도체특별법 주52시간제 특례 도입을 위한 당정 협의 / 연합뉴스\\n\\n국민의힘이 ...</td>\n",
       "      <td>이재명</td>\n",
       "      <td>800</td>\n",
       "      <td>2025-04-02</td>\n",
       "    </tr>\n",
       "  </tbody>\n",
       "</table>\n",
       "</div>"
      ],
      "text/plain": [
       "                                                    url press  \\\n",
       "206   https://www.ytn.co.kr/replay/view.php?idx=16&k...   YTN   \n",
       "3229  https://kizmom.hankyung.com/news/view.html?aid...   키즈맘   \n",
       "4170  https://kizmom.hankyung.com/news/view.html?aid...   키즈맘   \n",
       "\n",
       "                                            title                   datetime  \\\n",
       "206        [돌발영상] \"국회의원들 정말 못됐어요\" 이재명에 울분 쏟아내는 유족  2025-04-02 11:49:41+09:00   \n",
       "3229  차기 대선주자 적합도, 이재명 42%·김문수 28%...홍준표 7%·한동훈7%  2025-04-02 12:45:07+09:00   \n",
       "4170                권성동, 이재명에 \"기만적인 역할극은 금투세로 충분\"  2025-04-02 13:02:21+09:00   \n",
       "\n",
       "                                                   text label  len        date  \n",
       "206   [돌발영상] \"국회의원들 정말 못됐어요\" 이재명에 울분 쏟아내는 유족 New 돌발영...   이재명  377  2025-04-02  \n",
       "3229  24일 시민들과 설 귀성 인사 나누는 이재명 대표 / 연합뉴스\\n\\n차기 대선주자 ...   이재명  711  2025-04-02  \n",
       "4170  반도체특별법 주52시간제 특례 도입을 위한 당정 협의 / 연합뉴스\\n\\n국민의힘이 ...   이재명  800  2025-04-02  "
      ]
     },
     "execution_count": 25,
     "metadata": {},
     "output_type": "execute_result"
    }
   ],
   "source": [
    "df[df['date'].str[5:7] == '04']"
   ]
  },
  {
   "cell_type": "code",
   "execution_count": null,
   "id": "9fb52917-e8e6-4452-a193-3420c8d34c24",
   "metadata": {},
   "outputs": [],
   "source": []
  },
  {
   "cell_type": "markdown",
   "id": "814f8e39-f79c-410f-969d-8456754050fa",
   "metadata": {},
   "source": [
    "# `konlpy` 활용하기\n",
    "\n",
    "```\n",
    "pip install konlpy\n",
    "```\n",
    "\n",
    "* documentation: https://konlpy.org/en/latest/"
   ]
  },
  {
   "cell_type": "code",
   "execution_count": 28,
   "id": "e77ef5a1-4e96-4d4e-b7d5-29e12d30c595",
   "metadata": {},
   "outputs": [
    {
     "data": {
      "text/plain": [
       "url         https://news.tf.co.kr/read/photomovie/2192706.htm\n",
       "press                                                     더팩트\n",
       "title            이재명 \"윤석열 복귀작전 진행 중… 유혈 사태 감당할 수 있겠나\" [TF사...\n",
       "datetime                            2025-03-31 12:20:56+09:00\n",
       "text        이재명 \"윤석열 복귀작전 진행 중… 유혈 사태 감당할 수 있겠나\" [TF사진관]\\n...\n",
       "label                                                     윤석열\n",
       "len                                                       877\n",
       "date                                               2025-03-31\n",
       "Name: 21658, dtype: object"
      ]
     },
     "execution_count": 28,
     "metadata": {},
     "output_type": "execute_result"
    }
   ],
   "source": [
    "df.iloc[-1]"
   ]
  },
  {
   "cell_type": "code",
   "execution_count": 29,
   "id": "dc031378-c7b7-483d-bac5-f05a842eea50",
   "metadata": {},
   "outputs": [],
   "source": [
    "from konlpy.tag import Hannanum\n",
    "from konlpy.tag import Kkma\n",
    "from konlpy.tag import Okt\n",
    "\n",
    "han = Hannanum()\n",
    "kkm = Kkma()\n",
    "okt = Okt()"
   ]
  },
  {
   "cell_type": "code",
   "execution_count": 30,
   "id": "ba8eeee1-5ce7-4db2-83d3-b08c1558f734",
   "metadata": {},
   "outputs": [
    {
     "data": {
      "text/plain": [
       "'이재명 \"윤석열 복귀작전 진행 중… 유혈 사태 감당할 수 있겠나\" [TF사진관]\\n\\n이재명 더불어민주당 대표(가운데)와 최고위원들이 31일 오전 서울 광화문 앞 더불어민주당 천막당사에서 열린 최고위원회의에 참석해 윤석열 파면을 촉구하고 있다. /임영무 기자\\n\\n\\n\\n\\n\\n[더팩트ㅣ임영무 기자] 이재명 더불어민주당 대표(가운데)와 최고위원들이 31일 오전 서울 광화문 앞 더불어민주당 천막당사에서 열린 최고위원회의에 참석해 윤석열 파면을 촉구하며 발언을 하고 있다.\\n\\n이재명 더불어민주당 대표는 한덕수 대통령 권한대행 겸 국무총리가 마은혁 헌법재판관 후보자를 임명하지 않는 것을 두고 \"윤석열 복귀 프로젝트가 진행 중이라는 주장에 공감하는 바가 많다\"며 \"윤석열이 복귀하면 엄청난 유혈 사태를 어떻게 감당할 수 있겠느냐\"고 밝혔다.\\n\\n이어 \"국회가 지명한 헌법재판관을 골라서 마음에 드는 사람은 임명하고 마음에 안 드는 사람은 임명 안 하는 것은 결국 국회의 헌법구성 권한을 침해한 것\"이라며 \"명백하게 정면으로 헌법을 위반한 것\"이라고 덧붙였다.\\n\\n이 대표는 \"심지어 헌법재판소가 임명하지 않는 것은 위헌이라고 판결했는데도 최상목이 어겼고 지금 한덕수 대행도 어기고 있다\"며 \"헌법에 도전하는 것을 넘어 헌법을 위반하고 헌정질서를 통째로 파괴하고 대한민국, 국민을 불안하게 만들고 있다. 지금 혼란은 모두 최 전 대행과 한 대행으로부터 시작된 것\"이라고 목소리를 높였다.\\n\\n또한 \"헌법재판관을 임명하지 않는 것이 위헌이다. 그에 따라 처분의 의무가 있다고 하면 헌법기관이 불이행하고 있을 때 당연히 그 보안 권한을 행사해야 하지 않느냐\"며 헌재의 신속한 파면 선고를 거듭 촉구했다.\\n\\n\\n\\n\\n\\n\\n\\ndarkroom@tf.co.kr\\n\\n\\n\\n사진영상기획부 photo@tf.co.kr'"
      ]
     },
     "execution_count": 30,
     "metadata": {},
     "output_type": "execute_result"
    }
   ],
   "source": [
    "txt = df.iloc[-1].text\n",
    "txt"
   ]
  },
  {
   "cell_type": "markdown",
   "id": "56efb6d5-cf31-468f-a15f-fd5f698a79cd",
   "metadata": {},
   "source": [
    "## 명사 추출해보기"
   ]
  },
  {
   "cell_type": "code",
   "execution_count": 31,
   "id": "80b885d4-72c5-4812-966a-cbed7e8a1c19",
   "metadata": {},
   "outputs": [
    {
     "data": {
      "text/plain": [
       "'이재명 / 윤 / 열 / 복귀 / 복귀작전 / 작전 / 진행 / 중 / 유혈 / 사태 / 감당 / 수 / 사진관 / 민주당 / 대표 / 가운데 / 최고 / 최고위원 / 위원 / 31 / 31일 / 일 / 오전 / 서울 / 광화문 / 앞 / 천막 / 천막당사 / 당사 / 열린 / 최고위원회의 / 회의 / 참석 / 파면 / 촉구 / 임 / 임영무 / 영 / 무 / 기자 / 팩 / 팩트ㅣ임영 / 트ㅣ / 발언 / 한덕수 / 대통령 / 권한 / 권한대행 / 대행 / 겸 / 국무 / 국무총리 / 총리 / 마 / 마은혁 / 은 / 혁 / 헌법 / 헌법재판관 / 재판관 / 후보자 / 임명 / 프로젝트 / 중이 / 주장 / 공감 / 바 / 고 / 국회 / 지명 / 마음 / 사람 / 결국 / 국 / 국회의 / 헌법구성 / 구성 / 침해 / 정면 / 위반 / 이 / 헌법재판소 / 재판소 / 위헌 / 판결 / 최상 / 최상목 / 목 / 지금 / 도전 / 헌정 / 헌정질서 / 질서 / 파괴 / 대한 / 대한민국 / 민국 / 국민 / 불안 / 혼란 / 최 / 전 / 한 / 시작 / 목소리 / 소리 / 그 / 처분 / 의무 / 하면 / 헌법기관 / 기관 / 때 / 보안 / 행사 / 재의 / 속한 / 선고 / 사진 / 사진영상기획부 / 영상 / 기획부'"
      ]
     },
     "execution_count": 31,
     "metadata": {},
     "output_type": "execute_result"
    }
   ],
   "source": [
    "' / '.join(kkm.nouns(txt))"
   ]
  },
  {
   "cell_type": "code",
   "execution_count": 32,
   "id": "17e7bebf-4fdf-4d37-9b5c-78de1443e175",
   "metadata": {},
   "outputs": [
    {
     "data": {
      "text/plain": [
       "'이재명 / \"윤석열 / 복귀작전 / 진행 / 중… / 유혈 / 사태 / 감당 / 수 / 사진관 / 이재명 / 더불어민주당 / 대표(가운데) / 최고위원들 / 31일 / 오전 / 서울 / 광화문 / 앞 / 더불어민주당 / 천막당사 / 최고위원회의 / 참석 / 윤석열 / 파면 / 촉구 / 임영무 / 기자 / [더팩트ㅣ임영무 / 기 / 이재명 / 더불어민주당 / 대표(가운데) / 최고위원들 / 31일 / 오전 / 서울 / 광화문 / 앞 / 더불어민주당 / 천막당사 / 최고위원회의 / 참석 / 윤석열 / 파면 / 촉구 / 발언 / 이재명 / 더불어민주당 / 대표 / 한덕수 / 대통령 / 권한대행 / 겸 / 국무총리 / 마은혁 / 헌법재판관 / 후보자 / 임명 / 것 / \"윤석열 / 복귀 / 프로젝트 / 진행 / 중 / 주장 / 공감 / 바 / 많다\"며 / \"윤석열 / 복귀 / 유혈 / 사태 / 감당 / 수 / 이 / 국회 / 지명 / 헌법재판관 / 마음 / 사람 / 임명 / 마음 / 사람 / 임명 / 것 / 국회 / 헌법구성 / 권한 / 침해 / 것 / 명백 / 정면 / 헌법 / 위반 / 것 / 대표 / 헌법재판소 / 임명 / 것 / 위헌 / 판결 / 최상목 / 한덕수 / 대행 / 있다\"며 / 헌법 / 도전 / 것 / 헌법 / 위반 / 헌정질서 / 파괴 / 대한민국 / 국민 / 불안 / 혼란 / 최 / 전 / 대행 / 대행 / 시작 / 것 / 목소리 / 헌법재판관 / 임명 / 것 / 위헌 / 그 / 처분 / 의무 / 헌법기관 / 불이행 / 때 / 보안 / 권한 / 행사 / 않느냐\"며 / 헌재 / 신속한 / 파 / 선고 / 촉구 / 사진영상기획부'"
      ]
     },
     "execution_count": 32,
     "metadata": {},
     "output_type": "execute_result"
    }
   ],
   "source": [
    "' / '.join(han.nouns(txt))"
   ]
  },
  {
   "cell_type": "code",
   "execution_count": 33,
   "id": "78a1af3f-1408-4166-aa6e-804359197385",
   "metadata": {
    "scrolled": true
   },
   "outputs": [
    {
     "data": {
      "text/plain": [
       "'이재명 / 윤석열 / 복귀 / 작전 / 진행 / 중 / 유혈 / 사태 / 감당 / 수 / 사진관 / 이재명 / 민주당 / 대표 / 가운데 / 최고 / 위원 / 오전 / 서울 / 광화문 / 앞 / 민주당 / 천막 / 당사 / 최고 / 위원 / 회의 / 참석 / 윤석열 / 파면 / 촉구 / 임영무 / 기자 / 더 / 팩트 / 임영무 / 기자 / 이재명 / 민주당 / 대표 / 가운데 / 최고 / 위원 / 오전 / 서울 / 광화문 / 앞 / 민주당 / 천막 / 당사 / 최고 / 위원 / 회의 / 참석 / 윤석열 / 파면 / 촉구 / 발언 / 이재명 / 민주당 / 대표 / 한덕수 / 대통령 / 권한 / 대행 / 겸 / 국무총리 / 마 / 은혁 / 헌법재판관 / 후보자 / 임명 / 것 / 윤석열 / 복귀 / 프로젝트 / 진행 / 중이 / 주장 / 공감 / 바 / 며 / 윤석열 / 복귀 / 유혈 / 사태 / 감당 / 수 / 고 / 국회 / 지명 / 헌법재판관 / 골 / 마음 / 사람 / 임명 / 마음 / 안 / 사람 / 임명 / 안 / 것 / 국회 / 헌법 / 구성 / 권한 / 침해 / 것 / 라며 / 정면 / 헌법 / 위반 / 것 / 이 / 대표 / 심지어 / 헌법재판소 / 임명 / 것 / 위헌 / 판결 / 최상 / 목 / 지금 / 한덕수 / 대행 / 어기 / 며 / 헌법 / 도전 / 것 / 헌법 / 위반 / 정 / 질서 / 통째 / 파괴 / 대한민국 / 국민 / 지금 / 혼란 / 모두 / 최 / 전 / 대행 / 대행 / 시작 / 것 / 목소리 / 또한 / 헌법재판관 / 임명 / 것 / 위헌 / 그 / 처분 / 의무 / 헌법 / 기관 / 불 / 이행 / 때 / 그 / 보안 / 권한 / 행사 / 며 / 헌재 / 파면 / 선고 / 거듭 / 촉구 / 사진 / 영상 / 기획 / 부'"
      ]
     },
     "execution_count": 33,
     "metadata": {},
     "output_type": "execute_result"
    }
   ],
   "source": [
    "' / '.join(okt.nouns(txt))"
   ]
  },
  {
   "cell_type": "code",
   "execution_count": null,
   "id": "95a08303-a612-48e4-8480-7419469b83de",
   "metadata": {},
   "outputs": [],
   "source": []
  },
  {
   "cell_type": "markdown",
   "id": "05a6daca-c0d1-42d0-8ced-b81137cbb0db",
   "metadata": {},
   "source": [
    "## `kiwipiepy` 활용하기"
   ]
  },
  {
   "cell_type": "markdown",
   "id": "99345c0b-6d6c-40c1-abaa-e74c844a4659",
   "metadata": {},
   "source": [
    "```\n",
    "pip install kiwipiepy\n",
    "```\n",
    "\n",
    "- documentation: https://github.com/bab2min/kiwipiepy"
   ]
  },
  {
   "cell_type": "code",
   "execution_count": null,
   "id": "db3919d8-d91c-40a6-a038-fc2042c096ac",
   "metadata": {},
   "outputs": [],
   "source": []
  },
  {
   "cell_type": "code",
   "execution_count": 37,
   "id": "00598c00-1a2a-419c-b9cf-9ad3abf7fb6d",
   "metadata": {},
   "outputs": [
    {
     "name": "stdout",
     "output_type": "stream",
     "text": [
      "Requirement already satisfied: kiwipiepy in c:\\users\\dmlab\\anaconda3\\lib\\site-packages (0.20.4)\n",
      "Requirement already satisfied: kiwipiepy_model<0.21,>=0.20 in c:\\users\\dmlab\\anaconda3\\lib\\site-packages (from kiwipiepy) (0.20.0)\n",
      "Requirement already satisfied: numpy in c:\\users\\dmlab\\anaconda3\\lib\\site-packages (from kiwipiepy) (1.26.4)\n",
      "Requirement already satisfied: tqdm in c:\\users\\dmlab\\anaconda3\\lib\\site-packages (from kiwipiepy) (4.66.5)\n",
      "Requirement already satisfied: colorama in c:\\users\\dmlab\\anaconda3\\lib\\site-packages (from tqdm->kiwipiepy) (0.4.6)\n"
     ]
    }
   ],
   "source": [
    "!pip install kiwipiepy"
   ]
  },
  {
   "cell_type": "code",
   "execution_count": 35,
   "id": "7a49ed4a-ad61-47af-ad75-7574863829f6",
   "metadata": {},
   "outputs": [],
   "source": [
    "from kiwipiepy import Kiwi"
   ]
  },
  {
   "cell_type": "code",
   "execution_count": 36,
   "id": "708df30b-0ede-4248-8404-10d19c3b616d",
   "metadata": {},
   "outputs": [
    {
     "data": {
      "text/plain": [
       "'이재명 / 윤석열 / 복귀 / 작전 / 진행 / 중 / 유혈 / 사태 / 감당 / 수 / 사진관 / 이재명 / 더불어민주당 / 대표 / 가운데 / 최고 / 위원 / 일 / 오전 / 서울 / 광화문 / 앞 / 더불어민주당 / 천막 / 당사 / 최고 / 위원 / 회의 / 참석 / 윤석열 / 파면 / 촉구 / 임영무 / 기자 / 팩트 / 임영무 / 기자 / 이재명 / 더불어민주당 / 대표 / 가운데 / 최고 / 위원 / 일 / 오전 / 서울 / 광화문 / 앞 / 더불어민주당 / 천막 / 당사 / 최고 / 위원 / 회의 / 참석 / 윤석열 / 파면 / 촉구 / 발언 / 이재명 / 더불어민주당 / 대표 / 한덕수 / 대통령 / 권한 / 대행 / 겸 / 국무총리 / 마은혁 / 헌법 / 재판관 / 후보자 / 임명 / 것 / 윤석열 / 복귀 / 프로젝트 / 진행 / 중 / 주장 / 공감 / 바 / 윤석열 / 복귀 / 유혈 / 사태 / 감당 / 수 / 국회 / 지명 / 헌법 / 재판관 / 마음 / 사람 / 임명 / 마음 / 사람 / 임명 / 것 / 국회 / 헌법 / 구성 / 권한 / 침해 / 것 / 정면 / 헌법 / 위반 / 것 / 이 / 대표 / 헌법 / 재판소 / 임명 / 것 / 위헌 / 판결 / 최상목 / 한덕수 / 대행 / 헌법 / 도전 / 것 / 헌법 / 위반 / 헌정 / 질서 / 통 / 파괴 / 대한민국 / 국민 / 불안 / 혼란 / 최 / 대행 / 대행 / 시작 / 것 / 목소리 / 헌법 / 재판관 / 임명 / 것 / 위헌 / 그 / 처분 / 의무 / 헌법 / 기관 / 이행 / 때 / 보안 / 권한 / 행사 / 헌재 / 신속 / 파면 / 선고 / 촉구 / 사진 / 영상 / 기획부'"
      ]
     },
     "execution_count": 36,
     "metadata": {},
     "output_type": "execute_result"
    }
   ],
   "source": [
    "kiwi = Kiwi()\n",
    "tokens = kiwi.tokenize(txt, normalize_coda=False, saisiot=False)\n",
    "' / '.join([x.form for x in tokens if x.tag[0] == 'N'])"
   ]
  },
  {
   "cell_type": "code",
   "execution_count": null,
   "id": "68d0e3e1-ee51-4df8-a58f-a040ea2e5800",
   "metadata": {},
   "outputs": [],
   "source": []
  },
  {
   "cell_type": "markdown",
   "id": "dfbac556-84b9-458b-b80b-c0a0fd8c37c5",
   "metadata": {},
   "source": [
    "### Okt vs. Kiwi POS tagging 성능 비교"
   ]
  },
  {
   "cell_type": "code",
   "execution_count": 39,
   "id": "2a774225-b624-4eae-af79-8e1ee6a155e4",
   "metadata": {},
   "outputs": [
    {
     "data": {
      "text/plain": [
       "'이재명 \"윤석열 복귀작전 진행 중… 유혈 사태 감당할 수 있겠나\" [TF사진관]\\n\\n이재명 더불어민주당 대표(가운데)와 최고위원들이 31일 오전 서울 광화문 앞 더불어민주당 천막당사에서 열린 최고위원회의에 참석해 윤석열 파면을 촉구하고 있다. /임영무 기자\\n\\n\\n\\n\\n\\n[더팩트ㅣ임영무 기자] 이재명 더불어민주당 대표(가운데)와 최고위원들이 31일 오전 서울 광화문 앞 더불어민주당 천막당사에서 열린 최고위원회의에 참석해 윤석열 파면을 촉구하며 발언을 하고 있다.\\n\\n이재명 더불어민주당 대표는 한덕수 대통령 권한대행 겸 국무총리가 마은혁 헌법재판관 후보자를 임명하지 않는 것을 두고 \"윤석열 복귀 프로젝트가 진행 중이라는 주장에 공감하는 바가 많다\"며 \"윤석열이 복귀하면 엄청난 유혈 사태를 어떻게 감당할 수 있겠느냐\"고 밝혔다.\\n\\n이어 \"국회가 지명한 헌법재판관을 골라서 마음에 드는 사람은 임명하고 마음에 안 드는 사람은 임명 안 하는 것은 결국 국회의 헌법구성 권한을 침해한 것\"이라며 \"명백하게 정면으로 헌법을 위반한 것\"이라고 덧붙였다.\\n\\n이 대표는 \"심지어 헌법재판소가 임명하지 않는 것은 위헌이라고 판결했는데도 최상목이 어겼고 지금 한덕수 대행도 어기고 있다\"며 \"헌법에 도전하는 것을 넘어 헌법을 위반하고 헌정질서를 통째로 파괴하고 대한민국, 국민을 불안하게 만들고 있다. 지금 혼란은 모두 최 전 대행과 한 대행으로부터 시작된 것\"이라고 목소리를 높였다.\\n\\n또한 \"헌법재판관을 임명하지 않는 것이 위헌이다. 그에 따라 처분의 의무가 있다고 하면 헌법기관이 불이행하고 있을 때 당연히 그 보안 권한을 행사해야 하지 않느냐\"며 헌재의 신속한 파면 선고를 거듭 촉구했다.\\n\\n\\n\\n\\n\\n\\n\\ndarkroom@tf.co.kr\\n\\n\\n\\n사진영상기획부 photo@tf.co.kr'"
      ]
     },
     "execution_count": 39,
     "metadata": {},
     "output_type": "execute_result"
    }
   ],
   "source": [
    "txt"
   ]
  },
  {
   "cell_type": "code",
   "execution_count": 43,
   "id": "abee63a7-ec24-46c9-806c-6e88403ef8e7",
   "metadata": {},
   "outputs": [
    {
     "data": {
      "text/plain": [
       "'이재명 / \" / 윤석열 / 복귀 / 작전 / 진행 / 중 / … / 유혈 / 사태 / 감당 / 할 / 수 / 있겠나 / \" / [ / TF / 사진관 / ] / \\n\\n / 이재명 / 더불어 / 민주당 / 대표 / ( / 가운데 / ) / 와 / 최고 / 위원 / 들 / 이 / 31일 / 오전 / 서울 / 광화문 / 앞 / 더불어 / 민주당 / 천막 / 당사 / 에서 / 열린 / 최고 / 위원 / 회의 / 에 / 참석 / 해 / 윤석열 / 파면 / 을 / 촉구 / 하고 / 있다 / . / / / 임영무 / 기자 / \\n\\n\\n\\n\\n\\n / [ / 더 / 팩트 / ㅣ / 임영무 / 기자 / ] / 이재명 / 더불어 / 민주당 / 대표 / ( / 가운데 / ) / 와 / 최고 / 위원 / 들 / 이 / 31일 / 오전 / 서울 / 광화문 / 앞 / 더불어 / 민주당 / 천막 / 당사 / 에서 / 열린 / 최고 / 위원 / 회의 / 에 / 참석 / 해 / 윤석열 / 파면 / 을 / 촉구 / 하며 / 발언 / 을 / 하고 / 있다 / . / \\n\\n / 이재명 / 더불어 / 민주당 / 대표 / 는 / 한덕수 / 대통령 / 권한 / 대행 / 겸 / 국무총리 / 가 / 마 / 은혁 / 헌법재판관 / 후보자 / 를 / 임명 / 하지 / 않는 / 것 / 을 / 두고 / \" / 윤석열 / 복귀 / 프로젝트 / 가 / 진행 / 중이 / 라는 / 주장 / 에 / 공감 / 하는 / 바 / 가 / 많다 / \" / 며 / \" / 윤석열 / 이 / 복귀 / 하면 / 엄청난 / 유혈 / 사태 / 를 / 어떻게 / 감당 / 할 / 수 / 있겠느냐 / \" / 고 / 밝혔다 / . / \\n\\n / 이어 / \" / 국회 / 가 / 지명 / 한 / 헌법재판관 / 을 / 골 / 라서 / 마음 / 에 / 드는 / 사람 / 은 / 임명 / 하고 / 마음 / 에 / 안 / 드는 / 사람 / 은 / 임명 / 안 / 하는 / 것 / 은 / 결국 / 국회 / 의 / 헌법 / 구성 / 권한 / 을 / 침해 / 한 / 것 / \" / 이 / 라며 / \" / 명백하게 / 정면 / 으로 / 헌법 / 을 / 위반 / 한 / 것 / \" / 이라고 / 덧붙였다 / . / \\n\\n / 이 / 대표 / 는 / \" / 심지어 / 헌법재판소 / 가 / 임명 / 하지 / 않는 / 것 / 은 / 위헌 / 이라고 / 판결 / 했는데도 / 최상 / 목 / 이 / 어겼고 / 지금 / 한덕수 / 대행 / 도 / 어기 / 고 / 있다 / \" / 며 / \" / 헌법 / 에 / 도전 / 하는 / 것 / 을 / 넘어 / 헌법 / 을 / 위반 / 하고 / 헌 / 정 / 질서 / 를 / 통째 / 로 / 파괴 / 하고 / 대한민국 / , / 국민 / 을 / 불안하게 / 만들고 / 있다 / . / 지금 / 혼란 / 은 / 모두 / 최 / 전 / 대행 / 과 / 한 / 대행 / 으로부터 / 시작 / 된 / 것 / \" / 이라고 / 목소리 / 를 / 높였다 / . / \\n\\n / 또한 / \" / 헌법재판관 / 을 / 임명 / 하지 / 않는 / 것 / 이 / 위헌 / 이다 / . / 그 / 에 / 따라 / 처분 / 의 / 의무 / 가 / 있다고 / 하면 / 헌법 / 기관 / 이 / 불 / 이행 / 하고 / 있을 / 때 / 당연히 / 그 / 보안 / 권한 / 을 / 행사 / 해야 / 하지 / 않느냐 / \" / 며 / 헌재 / 의 / 신속한 / 파면 / 선고 / 를 / 거듭 / 촉구 / 했다 / . / \\n\\n\\n\\n\\n\\n\\n\\n / darkroom@tf.co.kr / \\n\\n\\n\\n / 사진 / 영상 / 기획 / 부 / photo@tf.co.kr'"
      ]
     },
     "execution_count": 43,
     "metadata": {},
     "output_type": "execute_result"
    }
   ],
   "source": [
    "' / '.join([x[0] for x in okt.pos(txt)])"
   ]
  },
  {
   "cell_type": "code",
   "execution_count": 41,
   "id": "1acb3eb8-ae52-4966-9659-8b4b548e9523",
   "metadata": {},
   "outputs": [
    {
     "data": {
      "text/plain": [
       "'이재명 / \" / 윤석열 / 복귀 / 작전 / 진행 / 중 / … / 유혈 / 사태 / 감당 / 하 / ᆯ / 수 / 있 / 겠 / 나 / \" / [ / TF / 사진관 / ] / 이재명 / 더불어민주당 / 대표 / ( / 가운데 / ) / 와 / 최고 / 위원 / 들 / 이 / 31 / 일 / 오전 / 서울 / 광화문 / 앞 / 더불어민주당 / 천막 / 당사 / 에서 / 열리 / ᆫ / 최고 / 위원 / 회의 / 에 / 참석 / 하 / 어 / 윤석열 / 파면 / 을 / 촉구 / 하 / 고 / 있 / 다 / . / / / 임영무 / 기자 / [ / 더 / 팩트 / ㅣ / 임영무 / 기자 / ] / 이재명 / 더불어민주당 / 대표 / ( / 가운데 / ) / 와 / 최고 / 위원 / 들 / 이 / 31 / 일 / 오전 / 서울 / 광화문 / 앞 / 더불어민주당 / 천막 / 당사 / 에서 / 열리 / ᆫ / 최고 / 위원 / 회의 / 에 / 참석 / 하 / 어 / 윤석열 / 파면 / 을 / 촉구 / 하 / 며 / 발언 / 을 / 하 / 고 / 있 / 다 / . / 이재명 / 더불어민주당 / 대표 / 는 / 한덕수 / 대통령 / 권한 / 대행 / 겸 / 국무총리 / 가 / 마은혁 / 헌법 / 재판관 / 후보자 / 를 / 임명 / 하 / 지 / 않 / 는 / 것 / 을 / 두 / 고 / \" / 윤석열 / 복귀 / 프로젝트 / 가 / 진행 / 중 / 이 / 라는 / 주장 / 에 / 공감 / 하 / 는 / 바 / 가 / 많 / 다 / \" / 며 / \" / 윤석열 / 이 / 복귀 / 하 / 면 / 엄청나 / ᆫ / 유혈 / 사태 / 를 / 어떻 / 게 / 감당 / 하 / ᆯ / 수 / 있 / 겠 / 느냐 / \" / 고 / 밝히 / 었 / 다 / . / 이어 / \" / 국회 / 가 / 지명 / 하 / ᆫ / 헌법 / 재판관 / 을 / 고르 / 어서 / 마음 / 에 / 들 / 는 / 사람 / 은 / 임명 / 하 / 고 / 마음 / 에 / 안 / 들 / 는 / 사람 / 은 / 임명 / 안 / 하 / 는 / 것 / 은 / 결국 / 국회 / 의 / 헌법 / 구성 / 권한 / 을 / 침해 / 하 / ᆫ / 것 / \" / 이 / 라며 / \" / 명백하 / 게 / 정면 / 으로 / 헌법 / 을 / 위반 / 하 / ᆫ / 것 / \" / 이라고 / 덧붙이 / 었 / 다 / . / 이 / 대표 / 는 / \" / 심지어 / 헌법 / 재판소 / 가 / 임명 / 하 / 지 / 않 / 는 / 것 / 은 / 위헌 / 이 / 라고 / 판결 / 하 / 었 / 는데 / 도 / 최상목 / 이 / 어기 / 었 / 고 / 지금 / 한덕수 / 대행 / 도 / 어기 / 고 / 있 / 다 / \" / 며 / \" / 헌법 / 에 / 도전 / 하 / 는 / 것 / 을 / 넘 / 어 / 헌법 / 을 / 위반 / 하 / 고 / 헌정 / 질서 / 를 / 통 / 째 / 로 / 파괴 / 하 / 고 / 대한민국 / , / 국민 / 을 / 불안 / 하 / 게 / 만들 / 고 / 있 / 다 / . / 지금 / 혼란 / 은 / 모두 / 최 / 전 / 대행 / 과 / 한 / 대행 / 으로부터 / 시작 / 되 / ᆫ / 것 / \" / 이라고 / 목소리 / 를 / 높이 / 었 / 다 / . / 또한 / \" / 헌법 / 재판관 / 을 / 임명 / 하 / 지 / 않 / 는 / 것 / 이 / 위헌 / 이 / 다 / . / 그 / 에 / 따르 / 어 / 처분 / 의 / 의무 / 가 / 있 / 다고 / 하 / 면 / 헌법 / 기관 / 이 / 불 / 이행 / 하 / 고 / 있 / 을 / 때 / 당연히 / 그 / 보안 / 권한 / 을 / 행사 / 하 / 어야 / 하 / 지 / 않 / 느냐 / \" / 며 / 헌재 / 의 / 신속 / 하 / ᆫ / 파면 / 선고 / 를 / 거듭 / 촉구 / 하 / 었 / 다 / . / darkroom@tf.co.kr / 사진 / 영상 / 기획부 / photo@tf.co.kr'"
      ]
     },
     "execution_count": 41,
     "metadata": {},
     "output_type": "execute_result"
    }
   ],
   "source": [
    "' / '.join([x.form for x in kiwi.tokenize(txt, normalize_coda=False, saisiot=False)])\n"
   ]
  },
  {
   "cell_type": "code",
   "execution_count": null,
   "id": "3f44ef40-ae20-4807-a192-183e33ebbb40",
   "metadata": {},
   "outputs": [],
   "source": []
  },
  {
   "cell_type": "markdown",
   "id": "cb91708f-7df6-4eb4-916f-179ddef87f23",
   "metadata": {},
   "source": [
    "## Term Frequency 세기"
   ]
  },
  {
   "cell_type": "code",
   "execution_count": 49,
   "id": "f3bc2d80-6b0b-46dc-b48e-33185c739877",
   "metadata": {},
   "outputs": [],
   "source": [
    "class KiwiNounExtractor:\n",
    "    def __init__(self):\n",
    "        self.kiwi = Kiwi()\n",
    "\n",
    "    def extract(self, text):\n",
    "        tokens = self.kiwi.tokenize(text, normalize_coda=False, saisiot=False)\n",
    "        return [x.form for x in tokens if x.tag[0] == 'N']        "
   ]
  },
  {
   "cell_type": "code",
   "execution_count": null,
   "id": "4462ae48-8951-40cc-9ac4-f10f83d0bf54",
   "metadata": {},
   "outputs": [],
   "source": [
    "!pip install tqdm"
   ]
  },
  {
   "cell_type": "code",
   "execution_count": 52,
   "id": "7155f69f-ec5a-4ec3-9e0b-13db79ab8c70",
   "metadata": {
    "scrolled": true
   },
   "outputs": [
    {
     "name": "stderr",
     "output_type": "stream",
     "text": [
      "100%|██████████████████████████████████████████████████████████████████████| 15662/15662 [08:07<00:00, 32.10it/s]\n"
     ]
    }
   ],
   "source": [
    "from tqdm import tqdm\n",
    "\n",
    "noun_list = []\n",
    "kiwinoun = KiwiNounExtractor()\n",
    "for c in tqdm(df['text']):\n",
    "    noun_list.append(kiwinoun.extract(c))"
   ]
  },
  {
   "cell_type": "code",
   "execution_count": 54,
   "id": "87627bc3-cc15-4cba-a846-4d93fb4cc1ce",
   "metadata": {
    "scrolled": true
   },
   "outputs": [
    {
     "data": {
      "text/plain": [
       "[('대통령', 81661),\n",
       " ('것', 77897),\n",
       " ('대표', 64369),\n",
       " ('일', 60575),\n",
       " ('윤석열', 42116),\n",
       " ('국민', 41516),\n",
       " ('탄핵', 41057),\n",
       " ('윤', 34156),\n",
       " ('이', 33143),\n",
       " ('수', 30802),\n",
       " ('이재명', 29186),\n",
       " ('의원', 26851),\n",
       " ('민주당', 26406),\n",
       " ('등', 25047),\n",
       " ('힘', 24811),\n",
       " ('말', 23876),\n",
       " ('국회', 22039),\n",
       " ('기자', 20557),\n",
       " ('거', 19639),\n",
       " ('내란', 19636),\n",
       " ('헌법', 17473),\n",
       " ('월', 16974),\n",
       " ('정치', 16227),\n",
       " ('서울', 16155),\n",
       " ('년', 16061),\n",
       " ('더불어민주당', 15531),\n",
       " ('조사', 14709),\n",
       " ('심판', 14698),\n",
       " ('명', 14233),\n",
       " ('체포', 14128)]"
      ]
     },
     "execution_count": 54,
     "metadata": {},
     "output_type": "execute_result"
    }
   ],
   "source": [
    "from collections import Counter\n",
    "from itertools import chain\n",
    "\n",
    "noun_list_flat = chain(*noun_list)\n",
    "# print(noun_list_flat[:3])\n",
    "count_dict = Counter(noun_list_flat)\n",
    "count_dict.most_common(30)"
   ]
  },
  {
   "cell_type": "code",
   "execution_count": 55,
   "id": "8308fa88-ae05-4eb6-93cb-727fb7f0de5b",
   "metadata": {
    "scrolled": true
   },
   "outputs": [
    {
     "name": "stdout",
     "output_type": "stream",
     "text": [
      "것 77897\n",
      "일 60575\n",
      "윤 34156\n",
      "이 33143\n",
      "수 30802\n",
      "등 25047\n",
      "힘 24811\n",
      "말 23876\n",
      "거 19639\n",
      "월 16974\n",
      "년 16061\n",
      "명 14233\n"
     ]
    }
   ],
   "source": [
    "for k, v in sorted(count_dict.items(), key=lambda x: x[1], reverse=True)[:30]:\n",
    "    if len(k) == 1:\n",
    "        print(k, v)"
   ]
  },
  {
   "cell_type": "markdown",
   "id": "652e6442-4f1a-4a32-9585-545f7c9d7229",
   "metadata": {},
   "source": [
    "### 미등록 단어 추출해보기"
   ]
  },
  {
   "cell_type": "code",
   "execution_count": 56,
   "id": "1a2cece3-9c7b-44a2-8486-f8db9144a74b",
   "metadata": {},
   "outputs": [
    {
     "data": {
      "text/plain": [
       "[('(오른쪽)', 1.4021106958389282, 309, -1.3924118280410767),\n",
       " ('.류병수>', 1.3372772932052612, 61, -2.322693109512329),\n",
       " ('엠브레인퍼블릭', 1.292116403579712, 223, -0.604378879070282),\n",
       " ('흑묘백묘론', 1.2035506963729858, 143, -0.9648566246032715),\n",
       " ('(더불어민주당)', 1.1323840618133545, 48, -2.724459648132324),\n",
       " ('(가운데)', 1.0576881170272827, 206, -1.4045662879943848),\n",
       " ('티브이(TV)', 0.9603258371353149, 26, -0.7947086095809937),\n",
       " ('(왼쪽)', 0.915370523929596, 447, -1.1926932334899902),\n",
       " ('안산촛불민주광장', 0.8968630433082581, 45, -0.8624075055122375),\n",
       " ('특별위원회', 0.8776652216911316, 747, -1.1843980550765991),\n",
       " ('노란봉투법', 0.8532158732414246, 193, -1.724912166595459),\n",
       " ('먹사니즘', 0.8503275513648987, 137, -0.8046190738677979),\n",
       " ('했습니다.[앵커]', 0.7858391404151917, 32, -2.967036008834839),\n",
       " ('운동본부(대국본)', 0.7289233207702637, 116, -1.347030520439148),\n",
       " ('운동본부', 0.7289233207702637, 116, -1.347030520439148),\n",
       " ('비상행동', 0.7214739322662354, 2055, -2.113530158996582),\n",
       " ('민생회복지원금', 0.6922468543052673, 232, -2.4994466304779053),\n",
       " ('부산·울산·경남', 0.6624612808227539, 76, -2.6446120738983154),\n",
       " ('한국여론평판연구소', 0.6589455008506775, 98, -0.04885996878147125),\n",
       " ('반국가세력', 0.6581217050552368, 302, -1.255302906036377),\n",
       " ('스카이데일리', 0.6545380353927612, 126, -0.8062258362770081),\n",
       " ('공무집행방해', 0.6431721448898315, 432, -2.4297518730163574),\n",
       " ('자동조정장치', 0.6378398537635803, 129, -1.1005027294158936),\n",
       " ('흑묘백묘', 0.6292977333068848, 167, 2.3543314933776855),\n",
       " ('일곱번째나라LAB', 0.6279047727584839, 24, -2.3161070346832275),\n",
       " ('챗GPT', 0.6214917898178101, 60, -0.273038774728775),\n",
       " ('우클릭', 0.6189287900924683, 1387, -1.8136800527572632),\n",
       " ('친문(친문재인)', 0.617830216884613, 90, 0.17112427949905396),\n",
       " ('친문', 0.617830216884613, 90, 0.17112427949905396),\n",
       " ('세이브코리아', 0.6125831604003906, 624, -1.772891879081726),\n",
       " ('반도체특별법', 0.5976459980010986, 809, -2.279156446456909),\n",
       " ('반공청년단', 0.5784549117088318, 68, -1.7197455167770386),\n",
       " ('\\u200b\\u200b\\u200b\\u200b\\u200b',\n",
       "  0.5754247903823853,\n",
       "  41,\n",
       "  -0.4938065707683563),\n",
       " ('여론조사', 0.5742076635360718, 5450, -1.3020356893539429),\n",
       " ('비상입법기구', 0.5680156350135803, 219, -2.237210512161255),\n",
       " ('=연합뉴스', 0.5675806999206543, 2095, -2.2972042560577393),\n",
       " ('잘사니즘', 0.567198634147644, 159, -0.6422320008277893),\n",
       " ('다.엠브레인퍼블릭', 0.555491030216217, 26, -0.6626366376876831),\n",
       " ('전봉준투쟁단', 0.5483459234237671, 41, -2.8735239505767822),\n",
       " ('완전국민경선제', 0.5366528630256653, 25, -1.2175685167312622),\n",
       " ('친명(친이재명)계', 0.5282465219497681, 113, -0.9104430675506592),\n",
       " ('AI(인공지능)', 0.526826024055481, 79, -1.95522940158844),\n",
       " ('대전·세종·충남북', 0.5175157189369202, 23, 0.241012305021286),\n",
       " ('펜앤드마이크', 0.517448902130127, 32, -1.5188078880310059),\n",
       " ('친노(친노무현)', 0.5133265852928162, 22, 0.13505247235298157),\n",
       " ('시민사회단체', 0.5133201479911804, 212, -0.2410314530134201),\n",
       " ('중앙선거관리위원회', 0.5127607583999634, 405, -1.498630166053772),\n",
       " ('다.헌법재판소', 0.5123397707939148, 119, -0.27725398540496826),\n",
       " ('딥시크', 0.5108542442321777, 114, -1.012062430381775),\n",
       " ('조1000억원', 0.5086214542388916, 21, -1.52361261844635),\n",
       " ('허위사실공표죄', 0.5049973130226135, 105, -0.1768309623003006),\n",
       " ('습니다.[앵커]', 0.501372754573822, 58, -2.978445529937744),\n",
       " ('삼프로TV', 0.4940820038318634, 43, -0.39541715383529663),\n",
       " ('영장실질심사', 0.4861780107021332, 518, -0.6968547105789185),\n",
       " ('탈이념·탈진영', 0.4859526455402374, 76, -0.7752065658569336),\n",
       " ('사진=연합뉴스', 0.48473936319351196, 874, -2.8696722984313965),\n",
       " ('습니다.헌법재판소', 0.47792086005210876, 22, 0.49728667736053467),\n",
       " ('\\u200b\\u200b\\u200b\\u200b', 0.47282785177230835, 56, -0.44861117005348206),\n",
       " ('특수공무집행방해', 0.47056683897972107, 277, -2.4940505027770996),\n",
       " ('000억원', 0.46871477365493774, 212, -2.3359649181365967),\n",
       " ('조5000억원', 0.46468377113342285, 21, -1.9425408840179443),\n",
       " ('지역사랑상품권', 0.4629880487918854, 73, -2.2507317066192627),\n",
       " ('피청구인', 0.46203091740608215, 877, -2.2000982761383057),\n",
       " ('%포인트(P)', 0.45712026953697205, 23, -2.64623761177063),\n",
       " ('명태균', 0.4557473957538605, 1836, -2.6541378498077393),\n",
       " ('뉴스토마토', 0.4552876651287079, 224, -2.560185194015503),\n",
       " ('국회증언감정법', 0.45238110423088074, 69, -1.2882602214813232),\n",
       " ('입니다.헌법재판소', 0.4451841115951538, 12, -0.32235807180404663),\n",
       " ('<조선일보>', 0.44140779972076416, 84, -0.828336238861084),\n",
       " ('시30분', 0.4382055103778839, 259, -0.5658746957778931),\n",
       " ('사법리스크', 0.43688562512397766, 861, -0.18235059082508087),\n",
       " ('(민주당)', 0.4365265369415283, 64, -2.1096456050872803),\n",
       " ('촛불행동', 0.4337199032306671, 213, -2.588554620742798),\n",
       " ('지역화폐', 0.43339720368385315, 661, -1.3352144956588745),\n",
       " ('내란수괴', 0.4330500066280365, 1690, -2.8858087062835693),\n",
       " ('<오마이뉴스>', 0.4308050870895386, 111, -0.7685319185256958),\n",
       " ('모두의질문Q', 0.42742639780044556, 95, -0.44477587938308716),\n",
       " ('(38%)', 0.4234248101711273, 44, -1.779615044593811),\n",
       " ('완전국민경선', 0.42312735319137573, 60, -1.0727252960205078),\n",
       " ('했습니다.최', 0.42127981781959534, 48, -1.6390442848205566),\n",
       " ('진짜뉴스발굴단', 0.4187549948692322, 29, -0.8862894177436829),\n",
       " ('했습니다.국', 0.41822749376296997, 107, -0.6955745816230774),\n",
       " ('(37%)', 0.4150061011314392, 41, -1.2262964248657227),\n",
       " ('미래한국연구소', 0.40858104825019836, 99, -1.2604566812515259),\n",
       " ('(윤석열)', 0.40645384788513184, 65, -2.5886473655700684),\n",
       " ('부정선거', 0.401554137468338, 2321, -1.8676706552505493),\n",
       " ('다.<오마이뉴스>', 0.400650292634964, 14, -1.1218571662902832),\n",
       " ('입니다.영상', 0.3994041383266449, 108, -1.2512108087539673),\n",
       " ('노동조합총연맹', 0.39803123474121094, 164, -0.8681389093399048),\n",
       " ('삼권분립', 0.3964037597179413, 131, -1.9637424945831299),\n",
       " ('국가비상기도회', 0.3956534266471863, 351, 0.2262016087770462),\n",
       " ('민주파출소', 0.3952971398830414, 209, -0.6964328289031982),\n",
       " ('소비쿠폰', 0.39235833287239075, 122, -2.031026601791382),\n",
       " ('광주시민총궐기대회', 0.3920169472694397, 54, 0.67080157995224),\n",
       " ('\\u200b\\u200b\\u200b', 0.39185869693756104, 72, -0.4066397547721863),\n",
       " ('(비상행동)', 0.3907952904701233, 219, -2.2338802814483643),\n",
       " ('케이스탯리서치', 0.3905567228794098, 170, -0.3513942360877991),\n",
       " ('입니다.영상편집', 0.38936588168144226, 41, -2.2140541076660156),\n",
       " ('\\u200b\\u200b', 0.38568106293678284, 99, -0.7413313388824463),\n",
       " ('습니다.김', 0.38530346751213074, 310, -2.285778284072876),\n",
       " ('제1공수특전여단장', 0.381742000579834, 22, -2.0389628410339355),\n",
       " ('양두구육', 0.37804165482521057, 34, -0.7564307451248169),\n",
       " ('억7000만원', 0.37714627385139465, 12, -2.5603787899017334),\n",
       " ('뉴스파이팅', 0.3763691484928131, 58, -0.7303811311721802),\n",
       " ('.1%포인트(p)', 0.36790966987609863, 12, -2.638113021850586),\n",
       " ('.1%포인트', 0.36790966987609863, 12, -2.638113021850586),\n",
       " ('핵확산금지조약', 0.36782392859458923, 21, -0.2676392197608948),\n",
       " ('·성남FC', 0.3630351126194, 228, -2.8386425971984863),\n",
       " ('중요임무종사자', 0.36219143867492676, 37, -0.8583728671073914),\n",
       " ('한미동맹', 0.36169201135635376, 357, -2.558734178543091),\n",
       " ('여론조사꽃', 0.3613741397857666, 35, -1.5492265224456787),\n",
       " ('국토보유세', 0.3606930673122406, 35, -0.5426101088523865),\n",
       " ('피청구인(대통령)', 0.3599226772785187, 11, -1.5332084894180298),\n",
       " ('1%포인트', 0.3588769733905792, 503, -2.180938720703125),\n",
       " ('광주·전남북', 0.3573131859302521, 27, 0.2622087299823761),\n",
       " ('헌법재판소(헌재)', 0.3570139408111572, 46, -0.19318924844264984),\n",
       " ('/article', 0.35371002554893494, 232, -2.013704299926758),\n",
       " ('만5000여명', 0.3536044657230377, 19, -0.10683220624923706),\n",
       " ('공병호TV', 0.353549987077713, 17, -1.249767780303955),\n",
       " ('(CCTV)', 0.35252872109413147, 18, -1.7608418464660645),\n",
       " ('입니다.영상취재', 0.34932008385658264, 58, -1.7089571952819824),\n",
       " ('그라운드씨', 0.3489491641521454, 15, -0.5641946196556091),\n",
       " ('비명(비이재명)계', 0.3466685712337494, 303, -1.896479606628418),\n",
       " ('했습니다.여', 0.3430405855178833, 36, -0.5158843994140625),\n",
       " ('(41%)', 0.34263885021209717, 36, -1.2051230669021606),\n",
       " ('여론조사공정', 0.3425891697406769, 113, -0.1618042141199112),\n",
       " ('고속버스터미널', 0.3388270437717438, 109, -0.5377283096313477),\n",
       " ('윤석열즉각퇴진', 0.338580459356308, 495, -0.9766333699226379),\n",
       " ('서부지법', 0.3352580666542053, 1916, -2.2624008655548096),\n",
       " ('광주비상행동', 0.3351895809173584, 214, -1.9085500240325928),\n",
       " ('단장(대령)', 0.3329941928386688, 42, -0.24147002398967743),\n",
       " ('니다.[앵커]', 0.3325907588005066, 88, -2.8278746604919434),\n",
       " ('수석비서관', 0.3318884074687958, 78, -1.722886323928833),\n",
       " ('코리아리서치', 0.3313945233821869, 184, -0.4681096076965332),\n",
       " ('미디어토마토', 0.32655954360961914, 33, -0.1408800333738327),\n",
       " ('만2000여명', 0.3255435824394226, 13, -0.7163026928901672),\n",
       " ('총궐기대회', 0.32451751828193665, 159, 0.5590198040008545),\n",
       " ('JK김동욱', 0.323869913816452, 49, -2.2186591625213623),\n",
       " ('소상공인·자영업자', 0.3229562044143677, 38, -2.669891595840454),\n",
       " ('장(오른쪽)', 0.3229461908340454, 69, -0.9293153882026672),\n",
       " ('국민변호인단', 0.32236766815185547, 175, -1.9907137155532837),\n",
       " ('컨트롤타워', 0.32212284207344055, 36, -1.6669129133224487),\n",
       " ('진상조사단', 0.32211580872535706, 131, -2.25957989692688),\n",
       " ('n.co.kr', 0.3213718831539154, 883, -2.5561141967773438),\n",
       " ('내로남불', 0.3209894001483917, 89, -1.4794683456420898),\n",
       " ('대구·경북', 0.318490207195282, 290, -1.0782527923583984),\n",
       " ('방첩사령관', 0.31843388080596924, 495, -1.5147095918655396),\n",
       " ('주4.5일제', 0.3181343674659729, 17, -0.2184746116399765),\n",
       " ('강원·제주', 0.31727734208106995, 26, -2.6157286167144775),\n",
       " ('특수전사령관', 0.3171103596687317, 320, -1.1386197805404663),\n",
       " ('삼부토건', 0.31586799025535583, 46, -2.954838752746582),\n",
       " ('일)]\"<', 0.3143727481365204, 21, -1.2857264280319214),\n",
       " ('기독교총연합회', 0.3143603503704071, 21, -2.129673719406128),\n",
       " ('<뉴스타파>', 0.3132931888103485, 10, -0.07438600063323975),\n",
       " ('반(反)', 0.3131958246231079, 125, -1.284524917602539),\n",
       " ('포린폴리시', 0.31313467025756836, 27, -0.9268516302108765),\n",
       " ('(SSAFY)', 0.3125523626804352, 41, 0.7841633558273315),\n",
       " ('방송통신위원회', 0.3078189492225647, 70, -2.1067845821380615),\n",
       " ('습니다.공수처', 0.3075878620147705, 54, -0.4087054133415222),\n",
       " ('조세특례제한법', 0.3071207106113434, 30, -2.1754348278045654),\n",
       " ('오마이TV', 0.30695226788520813, 67, -2.037428855895996),\n",
       " ('·엠브레인퍼블릭', 0.3064706027507782, 18, -2.686518430709839),\n",
       " ('우리법연구회', 0.30466267466545105, 317, -2.8879261016845703),\n",
       " ('사회대개혁비상행동', 0.3035975992679596, 36, -1.1512631177902222),\n",
       " ('장애인차별철폐연대', 0.3030521869659424, 30, -2.2032454013824463),\n",
       " ('셰셰', 0.3028514087200165, 80, -0.49527856707572937),\n",
       " ('친(親)기업', 0.3027557134628296, 13, -2.1481916904449463),\n",
       " ('.5%포인트', 0.30238497257232666, 32, -1.8278496265411377),\n",
       " ('K-엔비디아', 0.30223244428634644, 40, -2.593096971511841),\n",
       " ('(35%)', 0.30154502391815186, 36, -1.6800494194030762),\n",
       " ('만5000명', 0.30005452036857605, 41, -0.8168167471885681),\n",
       " ('집권플랜본부', 0.29889580607414246, 66, -0.7433627843856812),\n",
       " ('소상공인', 0.2980493903160095, 360, -1.8178606033325195),\n",
       " ('경제활력민생특위', 0.2964399755001068, 14, -1.6505813598632812),\n",
       " ('/society', 0.2954944372177124, 37, -1.5372953414916992),\n",
       " ('(대통령)', 0.2952829897403717, 82, -2.2062721252441406),\n",
       " ('(비상계엄)', 0.2931506931781769, 16, -2.6128649711608887),\n",
       " ('정권교체', 0.29247206449508667, 772, -0.21583375334739685),\n",
       " ('국군방첩사령부', 0.29214468598365784, 43, -1.87550950050354),\n",
       " ('연금개혁', 0.2900122106075287, 509, -2.2618041038513184),\n",
       " ('시민총궐기대회', 0.28974366188049316, 87, 0.5456714034080505),\n",
       " ('조선하청지회', 0.28904643654823303, 22, -1.1036341190338135),\n",
       " ('자유수호대학연대', 0.28834933042526245, 12, -0.5531769394874573),\n",
       " ('건조물침입', 0.28802919387817383, 27, -2.8299813270568848),\n",
       " ('직권남용', 0.28675785660743713, 821, -2.523925542831421),\n",
       " ('헌정수호연대', 0.2866513133049011, 35, 0.26132458448410034),\n",
       " ('구속집행정지', 0.2857514023780823, 94, -1.1213481426239014),\n",
       " ('ⓒ프레시안', 0.28508979082107544, 10, -0.8084577322006226),\n",
       " ('했습니다.홍', 0.28407785296440125, 27, -2.007373332977295),\n",
       " ('R&D', 0.2823198437690735, 253, -2.705909490585327),\n",
       " ('패스트트랙', 0.280836284160614, 40, -2.5529696941375732),\n",
       " ('다.윤석열즉각퇴진', 0.2805842459201813, 14, -1.6008321046829224),\n",
       " ('K엔비디아', 0.2789233922958374, 35, -1.9798203706741333),\n",
       " ('고성국TV', 0.2778223156929016, 19, -1.0428274869918823),\n",
       " ('KBS·한국리서치', 0.2774522304534912, 11, -2.6976490020751953),\n",
       " ('그라운드C', 0.27723419666290283, 15, -0.98680579662323),\n",
       " ('정형식·조한창', 0.2750369608402252, 36, -2.903566837310791),\n",
       " ('했습니다.대통령', 0.2746911346912384, 20, -1.7630150318145752),\n",
       " ('?[기자]네', 0.27417364716529846, 19, -2.841366767883301),\n",
       " ('국가비상사태', 0.27358487248420715, 198, -0.051258817315101624),\n",
       " ('공조수사본부', 0.2730116546154022, 244, -0.4187271296977997),\n",
       " ('헌법재판관', 0.2713971436023712, 2851, -2.5346696376800537),\n",
       " ('가짜뉴스', 0.2694489359855652, 996, -0.6487455368041992),\n",
       " ('자치단체장', 0.26944488286972046, 61, -1.3950563669204712),\n",
       " ('중도보수', 0.2692548632621765, 739, -1.6767679452896118),\n",
       " ('6%포인트', 0.2687627971172333, 96, -1.7910116910934448),\n",
       " ('보험료율', 0.2687034606933594, 131, -2.7110934257507324),\n",
       " ('경영자총협회', 0.2674272358417511, 30, -1.6202795505523682),\n",
       " ('당(국민의힘)', 0.26701560616493225, 12, 0.09144507348537445),\n",
       " ('민주시민교육', 0.2658178210258484, 23, -2.688373565673828),\n",
       " ('(민주노총)', 0.26555734872817993, 68, -2.1864941120147705),\n",
       " ('광주민주화운동', 0.26511791348457336, 18, -2.6080820560455322),\n",
       " ('방첩사령부', 0.26379209756851196, 111, -1.3535823822021484),\n",
       " ('윤석열정권퇴진', 0.26343846321105957, 152, -1.4088425636291504),\n",
       " ('정치시그널', 0.2628060281276703, 93, -1.7692574262619019),\n",
       " ('꽃보다전한길', 0.26210159063339233, 30, -0.7316826581954956),\n",
       " ('국가공무원법', 0.2611815631389618, 38, -2.027083396911621),\n",
       " ('공동취재', 0.2609434425830841, 945, -0.6188884377479553),\n",
       " ('고준위방폐장법', 0.2598830461502075, 26, -1.0226353406906128),\n",
       " ('준비기일', 0.2593449652194977, 550, -1.7813440561294556),\n",
       " ('태스크포스(TF)', 0.2588498890399933, 25, -1.815383791923523),\n",
       " ('여의도초대석', 0.25817063450813293, 42, -1.0202209949493408),\n",
       " ('한국경제인협회', 0.257904052734375, 92, -1.7845832109451294),\n",
       " ('더퍼블릭', 0.2568792402744293, 206, -2.532757043838501),\n",
       " ('요?[기자]', 0.2552584707736969, 20, -1.4575486183166504),\n",
       " ('707특수임무단장', 0.2550891935825348, 67, -1.6714279651641846),\n",
       " ('00여명', 0.2548949420452118, 320, -1.0406572818756104),\n",
       " ('egye.com', 0.2544841766357422, 782, -2.707484483718872),\n",
       " ('(45%)', 0.2544024884700775, 24, -1.1028659343719482),\n",
       " ('.6%포인트', 0.25357162952423096, 45, -1.5288487672805786),\n",
       " ('.▲김두관', 0.2534540593624115, 22, -2.7499334812164307),\n",
       " ('다.”“', 0.25341033935546875, 181, -1.523314118385315),\n",
       " ('했습니다.지난', 0.25257912278175354, 39, -2.9887404441833496),\n",
       " ('육군참모총장', 0.2519684135913849, 78, -1.991591453552246),\n",
       " ('차별금지법제정연대', 0.2518439292907715, 26, -2.369938373565674),\n",
       " ('매불쇼', 0.25135698914527893, 106, -0.841925323009491),\n",
       " ('친한동훈계', 0.2506580948829651, 19, -1.82698392868042)]"
      ]
     },
     "execution_count": 56,
     "metadata": {},
     "output_type": "execute_result"
    }
   ],
   "source": [
    "kiwi = Kiwi()\n",
    "unknown_words = kiwi.extract_words(df['text'], min_cnt=10, max_word_len=10, min_score=0.25, pos_score=-3.0, lm_filter=True)"
   ]
  },
  {
   "cell_type": "code",
   "execution_count": 60,
   "id": "e61c4293-732f-481d-9212-b61f16f3b14e",
   "metadata": {},
   "outputs": [
    {
     "data": {
      "text/plain": [
       "[('여론조사', 0.5742076635360718, 5450, -1.3020356893539429),\n",
       " ('헌법재판관', 0.2713971436023712, 2851, -2.5346696376800537),\n",
       " ('부정선거', 0.401554137468338, 2321, -1.8676706552505493),\n",
       " ('=연합뉴스', 0.5675806999206543, 2095, -2.2972042560577393),\n",
       " ('비상행동', 0.7214739322662354, 2055, -2.113530158996582),\n",
       " ('서부지법', 0.3352580666542053, 1916, -2.2624008655548096),\n",
       " ('명태균', 0.4557473957538605, 1836, -2.6541378498077393),\n",
       " ('내란수괴', 0.4330500066280365, 1690, -2.8858087062835693),\n",
       " ('우클릭', 0.6189287900924683, 1387, -1.8136800527572632),\n",
       " ('가짜뉴스', 0.2694489359855652, 996, -0.6487455368041992),\n",
       " ('공동취재', 0.2609434425830841, 945, -0.6188884377479553),\n",
       " ('n.co.kr', 0.3213718831539154, 883, -2.5561141967773438),\n",
       " ('피청구인', 0.46203091740608215, 877, -2.2000982761383057),\n",
       " ('사진=연합뉴스', 0.48473936319351196, 874, -2.8696722984313965),\n",
       " ('사법리스크', 0.43688562512397766, 861, -0.18235059082508087),\n",
       " ('직권남용', 0.28675785660743713, 821, -2.523925542831421),\n",
       " ('반도체특별법', 0.5976459980010986, 809, -2.279156446456909),\n",
       " ('egye.com', 0.2544841766357422, 782, -2.707484483718872),\n",
       " ('정권교체', 0.29247206449508667, 772, -0.21583375334739685),\n",
       " ('특별위원회', 0.8776652216911316, 747, -1.1843980550765991),\n",
       " ('중도보수', 0.2692548632621765, 739, -1.6767679452896118),\n",
       " ('지역화폐', 0.43339720368385315, 661, -1.3352144956588745),\n",
       " ('세이브코리아', 0.6125831604003906, 624, -1.772891879081726),\n",
       " ('준비기일', 0.2593449652194977, 550, -1.7813440561294556),\n",
       " ('영장실질심사', 0.4861780107021332, 518, -0.6968547105789185),\n",
       " ('연금개혁', 0.2900122106075287, 509, -2.2618041038513184),\n",
       " ('1%포인트', 0.3588769733905792, 503, -2.180938720703125),\n",
       " ('윤석열즉각퇴진', 0.338580459356308, 495, -0.9766333699226379),\n",
       " ('방첩사령관', 0.31843388080596924, 495, -1.5147095918655396),\n",
       " ('(왼쪽)', 0.915370523929596, 447, -1.1926932334899902),\n",
       " ('공무집행방해', 0.6431721448898315, 432, -2.4297518730163574),\n",
       " ('중앙선거관리위원회', 0.5127607583999634, 405, -1.498630166053772),\n",
       " ('소상공인', 0.2980493903160095, 360, -1.8178606033325195),\n",
       " ('한미동맹', 0.36169201135635376, 357, -2.558734178543091),\n",
       " ('국가비상기도회', 0.3956534266471863, 351, 0.2262016087770462),\n",
       " ('특수전사령관', 0.3171103596687317, 320, -1.1386197805404663),\n",
       " ('00여명', 0.2548949420452118, 320, -1.0406572818756104),\n",
       " ('우리법연구회', 0.30466267466545105, 317, -2.8879261016845703),\n",
       " ('습니다.김', 0.38530346751213074, 310, -2.285778284072876),\n",
       " ('(오른쪽)', 1.4021106958389282, 309, -1.3924118280410767),\n",
       " ('비명(비이재명)계', 0.3466685712337494, 303, -1.896479606628418),\n",
       " ('반국가세력', 0.6581217050552368, 302, -1.255302906036377),\n",
       " ('대구·경북', 0.318490207195282, 290, -1.0782527923583984),\n",
       " ('특수공무집행방해', 0.47056683897972107, 277, -2.4940505027770996),\n",
       " ('시30분', 0.4382055103778839, 259, -0.5658746957778931),\n",
       " ('R&D', 0.2823198437690735, 253, -2.705909490585327),\n",
       " ('공조수사본부', 0.2730116546154022, 244, -0.4187271296977997),\n",
       " ('민생회복지원금', 0.6922468543052673, 232, -2.4994466304779053),\n",
       " ('/article', 0.35371002554893494, 232, -2.013704299926758),\n",
       " ('·성남FC', 0.3630351126194, 228, -2.8386425971984863),\n",
       " ('뉴스토마토', 0.4552876651287079, 224, -2.560185194015503),\n",
       " ('엠브레인퍼블릭', 1.292116403579712, 223, -0.604378879070282),\n",
       " ('비상입법기구', 0.5680156350135803, 219, -2.237210512161255),\n",
       " ('(비상행동)', 0.3907952904701233, 219, -2.2338802814483643),\n",
       " ('광주비상행동', 0.3351895809173584, 214, -1.9085500240325928),\n",
       " ('촛불행동', 0.4337199032306671, 213, -2.588554620742798),\n",
       " ('시민사회단체', 0.5133201479911804, 212, -0.2410314530134201),\n",
       " ('000억원', 0.46871477365493774, 212, -2.3359649181365967),\n",
       " ('민주파출소', 0.3952971398830414, 209, -0.6964328289031982),\n",
       " ('(가운데)', 1.0576881170272827, 206, -1.4045662879943848),\n",
       " ('더퍼블릭', 0.2568792402744293, 206, -2.532757043838501),\n",
       " ('국가비상사태', 0.27358487248420715, 198, -0.051258817315101624),\n",
       " ('노란봉투법', 0.8532158732414246, 193, -1.724912166595459),\n",
       " ('코리아리서치', 0.3313945233821869, 184, -0.4681096076965332),\n",
       " ('다.”“', 0.25341033935546875, 181, -1.523314118385315),\n",
       " ('국민변호인단', 0.32236766815185547, 175, -1.9907137155532837),\n",
       " ('케이스탯리서치', 0.3905567228794098, 170, -0.3513942360877991),\n",
       " ('흑묘백묘', 0.6292977333068848, 167, 2.3543314933776855),\n",
       " ('노동조합총연맹', 0.39803123474121094, 164, -0.8681389093399048),\n",
       " ('잘사니즘', 0.567198634147644, 159, -0.6422320008277893),\n",
       " ('총궐기대회', 0.32451751828193665, 159, 0.5590198040008545),\n",
       " ('윤석열정권퇴진', 0.26343846321105957, 152, -1.4088425636291504),\n",
       " ('흑묘백묘론', 1.2035506963729858, 143, -0.9648566246032715),\n",
       " ('먹사니즘', 0.8503275513648987, 137, -0.8046190738677979),\n",
       " ('삼권분립', 0.3964037597179413, 131, -1.9637424945831299),\n",
       " ('진상조사단', 0.32211580872535706, 131, -2.25957989692688),\n",
       " ('보험료율', 0.2687034606933594, 131, -2.7110934257507324),\n",
       " ('자동조정장치', 0.6378398537635803, 129, -1.1005027294158936),\n",
       " ('스카이데일리', 0.6545380353927612, 126, -0.8062258362770081),\n",
       " ('반(反)', 0.3131958246231079, 125, -1.284524917602539),\n",
       " ('소비쿠폰', 0.39235833287239075, 122, -2.031026601791382),\n",
       " ('다.헌법재판소', 0.5123397707939148, 119, -0.27725398540496826),\n",
       " ('운동본부(대국본)', 0.7289233207702637, 116, -1.347030520439148),\n",
       " ('운동본부', 0.7289233207702637, 116, -1.347030520439148),\n",
       " ('딥시크', 0.5108542442321777, 114, -1.012062430381775),\n",
       " ('친명(친이재명)계', 0.5282465219497681, 113, -0.9104430675506592),\n",
       " ('여론조사공정', 0.3425891697406769, 113, -0.1618042141199112),\n",
       " ('<오마이뉴스>', 0.4308050870895386, 111, -0.7685319185256958),\n",
       " ('방첩사령부', 0.26379209756851196, 111, -1.3535823822021484),\n",
       " ('고속버스터미널', 0.3388270437717438, 109, -0.5377283096313477),\n",
       " ('입니다.영상', 0.3994041383266449, 108, -1.2512108087539673),\n",
       " ('했습니다.국', 0.41822749376296997, 107, -0.6955745816230774),\n",
       " ('매불쇼', 0.25135698914527893, 106, -0.841925323009491),\n",
       " ('허위사실공표죄', 0.5049973130226135, 105, -0.1768309623003006),\n",
       " ('미래한국연구소', 0.40858104825019836, 99, -1.2604566812515259),\n",
       " ('\\u200b\\u200b', 0.38568106293678284, 99, -0.7413313388824463),\n",
       " ('한국여론평판연구소', 0.6589455008506775, 98, -0.04885996878147125),\n",
       " ('6%포인트', 0.2687627971172333, 96, -1.7910116910934448),\n",
       " ('모두의질문Q', 0.42742639780044556, 95, -0.44477587938308716),\n",
       " ('구속집행정지', 0.2857514023780823, 94, -1.1213481426239014),\n",
       " ('정치시그널', 0.2628060281276703, 93, -1.7692574262619019),\n",
       " ('한국경제인협회', 0.257904052734375, 92, -1.7845832109451294),\n",
       " ('친문(친문재인)', 0.617830216884613, 90, 0.17112427949905396),\n",
       " ('친문', 0.617830216884613, 90, 0.17112427949905396),\n",
       " ('내로남불', 0.3209894001483917, 89, -1.4794683456420898),\n",
       " ('니다.[앵커]', 0.3325907588005066, 88, -2.8278746604919434),\n",
       " ('시민총궐기대회', 0.28974366188049316, 87, 0.5456714034080505),\n",
       " ('<조선일보>', 0.44140779972076416, 84, -0.828336238861084),\n",
       " ('(대통령)', 0.2952829897403717, 82, -2.2062721252441406),\n",
       " ('셰셰', 0.3028514087200165, 80, -0.49527856707572937),\n",
       " ('AI(인공지능)', 0.526826024055481, 79, -1.95522940158844),\n",
       " ('수석비서관', 0.3318884074687958, 78, -1.722886323928833),\n",
       " ('육군참모총장', 0.2519684135913849, 78, -1.991591453552246),\n",
       " ('부산·울산·경남', 0.6624612808227539, 76, -2.6446120738983154),\n",
       " ('탈이념·탈진영', 0.4859526455402374, 76, -0.7752065658569336),\n",
       " ('지역사랑상품권', 0.4629880487918854, 73, -2.2507317066192627),\n",
       " ('\\u200b\\u200b\\u200b', 0.39185869693756104, 72, -0.4066397547721863),\n",
       " ('방송통신위원회', 0.3078189492225647, 70, -2.1067845821380615),\n",
       " ('국회증언감정법', 0.45238110423088074, 69, -1.2882602214813232),\n",
       " ('장(오른쪽)', 0.3229461908340454, 69, -0.9293153882026672),\n",
       " ('반공청년단', 0.5784549117088318, 68, -1.7197455167770386),\n",
       " ('(민주노총)', 0.26555734872817993, 68, -2.1864941120147705),\n",
       " ('오마이TV', 0.30695226788520813, 67, -2.037428855895996),\n",
       " ('707특수임무단장', 0.2550891935825348, 67, -1.6714279651641846),\n",
       " ('집권플랜본부', 0.29889580607414246, 66, -0.7433627843856812),\n",
       " ('(윤석열)', 0.40645384788513184, 65, -2.5886473655700684),\n",
       " ('(민주당)', 0.4365265369415283, 64, -2.1096456050872803),\n",
       " ('.류병수>', 1.3372772932052612, 61, -2.322693109512329),\n",
       " ('자치단체장', 0.26944488286972046, 61, -1.3950563669204712),\n",
       " ('챗GPT', 0.6214917898178101, 60, -0.273038774728775),\n",
       " ('완전국민경선', 0.42312735319137573, 60, -1.0727252960205078),\n",
       " ('습니다.[앵커]', 0.501372754573822, 58, -2.978445529937744),\n",
       " ('뉴스파이팅', 0.3763691484928131, 58, -0.7303811311721802),\n",
       " ('입니다.영상취재', 0.34932008385658264, 58, -1.7089571952819824),\n",
       " ('\\u200b\\u200b\\u200b\\u200b', 0.47282785177230835, 56, -0.44861117005348206),\n",
       " ('광주시민총궐기대회', 0.3920169472694397, 54, 0.67080157995224),\n",
       " ('습니다.공수처', 0.3075878620147705, 54, -0.4087054133415222),\n",
       " ('JK김동욱', 0.323869913816452, 49, -2.2186591625213623),\n",
       " ('(더불어민주당)', 1.1323840618133545, 48, -2.724459648132324),\n",
       " ('했습니다.최', 0.42127981781959534, 48, -1.6390442848205566),\n",
       " ('헌법재판소(헌재)', 0.3570139408111572, 46, -0.19318924844264984),\n",
       " ('삼부토건', 0.31586799025535583, 46, -2.954838752746582),\n",
       " ('안산촛불민주광장', 0.8968630433082581, 45, -0.8624075055122375),\n",
       " ('.6%포인트', 0.25357162952423096, 45, -1.5288487672805786),\n",
       " ('(38%)', 0.4234248101711273, 44, -1.779615044593811),\n",
       " ('삼프로TV', 0.4940820038318634, 43, -0.39541715383529663),\n",
       " ('국군방첩사령부', 0.29214468598365784, 43, -1.87550950050354),\n",
       " ('단장(대령)', 0.3329941928386688, 42, -0.24147002398967743),\n",
       " ('여의도초대석', 0.25817063450813293, 42, -1.0202209949493408),\n",
       " ('\\u200b\\u200b\\u200b\\u200b\\u200b',\n",
       "  0.5754247903823853,\n",
       "  41,\n",
       "  -0.4938065707683563),\n",
       " ('전봉준투쟁단', 0.5483459234237671, 41, -2.8735239505767822),\n",
       " ('(37%)', 0.4150061011314392, 41, -1.2262964248657227),\n",
       " ('입니다.영상편집', 0.38936588168144226, 41, -2.2140541076660156),\n",
       " ('(SSAFY)', 0.3125523626804352, 41, 0.7841633558273315),\n",
       " ('만5000명', 0.30005452036857605, 41, -0.8168167471885681),\n",
       " ('K-엔비디아', 0.30223244428634644, 40, -2.593096971511841),\n",
       " ('패스트트랙', 0.280836284160614, 40, -2.5529696941375732),\n",
       " ('했습니다.지난', 0.25257912278175354, 39, -2.9887404441833496),\n",
       " ('소상공인·자영업자', 0.3229562044143677, 38, -2.669891595840454),\n",
       " ('국가공무원법', 0.2611815631389618, 38, -2.027083396911621),\n",
       " ('중요임무종사자', 0.36219143867492676, 37, -0.8583728671073914),\n",
       " ('/society', 0.2954944372177124, 37, -1.5372953414916992),\n",
       " ('했습니다.여', 0.3430405855178833, 36, -0.5158843994140625),\n",
       " ('(41%)', 0.34263885021209717, 36, -1.2051230669021606),\n",
       " ('컨트롤타워', 0.32212284207344055, 36, -1.6669129133224487),\n",
       " ('사회대개혁비상행동', 0.3035975992679596, 36, -1.1512631177902222),\n",
       " ('(35%)', 0.30154502391815186, 36, -1.6800494194030762),\n",
       " ('정형식·조한창', 0.2750369608402252, 36, -2.903566837310791),\n",
       " ('여론조사꽃', 0.3613741397857666, 35, -1.5492265224456787),\n",
       " ('국토보유세', 0.3606930673122406, 35, -0.5426101088523865),\n",
       " ('헌정수호연대', 0.2866513133049011, 35, 0.26132458448410034),\n",
       " ('K엔비디아', 0.2789233922958374, 35, -1.9798203706741333),\n",
       " ('양두구육', 0.37804165482521057, 34, -0.7564307451248169),\n",
       " ('미디어토마토', 0.32655954360961914, 33, -0.1408800333738327),\n",
       " ('했습니다.[앵커]', 0.7858391404151917, 32, -2.967036008834839),\n",
       " ('펜앤드마이크', 0.517448902130127, 32, -1.5188078880310059),\n",
       " ('.5%포인트', 0.30238497257232666, 32, -1.8278496265411377),\n",
       " ('조세특례제한법', 0.3071207106113434, 30, -2.1754348278045654),\n",
       " ('장애인차별철폐연대', 0.3030521869659424, 30, -2.2032454013824463),\n",
       " ('경영자총협회', 0.2674272358417511, 30, -1.6202795505523682),\n",
       " ('꽃보다전한길', 0.26210159063339233, 30, -0.7316826581954956),\n",
       " ('진짜뉴스발굴단', 0.4187549948692322, 29, -0.8862894177436829),\n",
       " ('광주·전남북', 0.3573131859302521, 27, 0.2622087299823761),\n",
       " ('포린폴리시', 0.31313467025756836, 27, -0.9268516302108765),\n",
       " ('건조물침입', 0.28802919387817383, 27, -2.8299813270568848),\n",
       " ('했습니다.홍', 0.28407785296440125, 27, -2.007373332977295),\n",
       " ('티브이(TV)', 0.9603258371353149, 26, -0.7947086095809937),\n",
       " ('다.엠브레인퍼블릭', 0.555491030216217, 26, -0.6626366376876831),\n",
       " ('강원·제주', 0.31727734208106995, 26, -2.6157286167144775),\n",
       " ('고준위방폐장법', 0.2598830461502075, 26, -1.0226353406906128),\n",
       " ('차별금지법제정연대', 0.2518439292907715, 26, -2.369938373565674),\n",
       " ('완전국민경선제', 0.5366528630256653, 25, -1.2175685167312622),\n",
       " ('태스크포스(TF)', 0.2588498890399933, 25, -1.815383791923523),\n",
       " ('일곱번째나라LAB', 0.6279047727584839, 24, -2.3161070346832275),\n",
       " ('(45%)', 0.2544024884700775, 24, -1.1028659343719482),\n",
       " ('대전·세종·충남북', 0.5175157189369202, 23, 0.241012305021286),\n",
       " ('%포인트(P)', 0.45712026953697205, 23, -2.64623761177063),\n",
       " ('민주시민교육', 0.2658178210258484, 23, -2.688373565673828),\n",
       " ('친노(친노무현)', 0.5133265852928162, 22, 0.13505247235298157),\n",
       " ('습니다.헌법재판소', 0.47792086005210876, 22, 0.49728667736053467),\n",
       " ('제1공수특전여단장', 0.381742000579834, 22, -2.0389628410339355),\n",
       " ('조선하청지회', 0.28904643654823303, 22, -1.1036341190338135),\n",
       " ('.▲김두관', 0.2534540593624115, 22, -2.7499334812164307),\n",
       " ('조1000억원', 0.5086214542388916, 21, -1.52361261844635),\n",
       " ('조5000억원', 0.46468377113342285, 21, -1.9425408840179443),\n",
       " ('핵확산금지조약', 0.36782392859458923, 21, -0.2676392197608948),\n",
       " ('일)]\"<', 0.3143727481365204, 21, -1.2857264280319214),\n",
       " ('기독교총연합회', 0.3143603503704071, 21, -2.129673719406128),\n",
       " ('했습니다.대통령', 0.2746911346912384, 20, -1.7630150318145752),\n",
       " ('요?[기자]', 0.2552584707736969, 20, -1.4575486183166504),\n",
       " ('만5000여명', 0.3536044657230377, 19, -0.10683220624923706),\n",
       " ('고성국TV', 0.2778223156929016, 19, -1.0428274869918823),\n",
       " ('?[기자]네', 0.27417364716529846, 19, -2.841366767883301),\n",
       " ('친한동훈계', 0.2506580948829651, 19, -1.82698392868042),\n",
       " ('(CCTV)', 0.35252872109413147, 18, -1.7608418464660645),\n",
       " ('·엠브레인퍼블릭', 0.3064706027507782, 18, -2.686518430709839),\n",
       " ('광주민주화운동', 0.26511791348457336, 18, -2.6080820560455322),\n",
       " ('공병호TV', 0.353549987077713, 17, -1.249767780303955),\n",
       " ('주4.5일제', 0.3181343674659729, 17, -0.2184746116399765),\n",
       " ('(비상계엄)', 0.2931506931781769, 16, -2.6128649711608887),\n",
       " ('그라운드씨', 0.3489491641521454, 15, -0.5641946196556091),\n",
       " ('그라운드C', 0.27723419666290283, 15, -0.98680579662323),\n",
       " ('다.<오마이뉴스>', 0.400650292634964, 14, -1.1218571662902832),\n",
       " ('경제활력민생특위', 0.2964399755001068, 14, -1.6505813598632812),\n",
       " ('다.윤석열즉각퇴진', 0.2805842459201813, 14, -1.6008321046829224),\n",
       " ('만2000여명', 0.3255435824394226, 13, -0.7163026928901672),\n",
       " ('친(親)기업', 0.3027557134628296, 13, -2.1481916904449463),\n",
       " ('입니다.헌법재판소', 0.4451841115951538, 12, -0.32235807180404663),\n",
       " ('억7000만원', 0.37714627385139465, 12, -2.5603787899017334),\n",
       " ('.1%포인트(p)', 0.36790966987609863, 12, -2.638113021850586),\n",
       " ('.1%포인트', 0.36790966987609863, 12, -2.638113021850586),\n",
       " ('자유수호대학연대', 0.28834933042526245, 12, -0.5531769394874573),\n",
       " ('당(국민의힘)', 0.26701560616493225, 12, 0.09144507348537445),\n",
       " ('피청구인(대통령)', 0.3599226772785187, 11, -1.5332084894180298),\n",
       " ('KBS·한국리서치', 0.2774522304534912, 11, -2.6976490020751953),\n",
       " ('<뉴스타파>', 0.3132931888103485, 10, -0.07438600063323975),\n",
       " ('ⓒ프레시안', 0.28508979082107544, 10, -0.8084577322006226)]"
      ]
     },
     "execution_count": 60,
     "metadata": {},
     "output_type": "execute_result"
    }
   ],
   "source": [
    "sorted(unknoun_words, key=lambda x: x[2], reverse=True)"
   ]
  },
  {
   "cell_type": "code",
   "execution_count": null,
   "id": "9d5ce304",
   "metadata": {},
   "outputs": [],
   "source": []
  },
  {
   "cell_type": "markdown",
   "id": "f74341cb-9262-4408-8eb2-92de95900303",
   "metadata": {},
   "source": [
    "## 텍스트 고유명사 처리하기"
   ]
  },
  {
   "cell_type": "code",
   "execution_count": 184,
   "id": "945b19bf-baf4-40e1-aa48-df78d0d7dcb4",
   "metadata": {},
   "outputs": [],
   "source": [
    "mydict = {\n",
    "    '국민의힘': '국힘',\n",
    "    '국민의 힘': '국힘',\n",
    "}\n",
    "\n",
    "for i, row in df.iterrows():\n",
    "    text = row.text\n",
    "    for k, v in mydict.items():\n",
    "        text = text.replace(k, v)\n",
    "    df.loc[i, 'text'] = text"
   ]
  },
  {
   "cell_type": "code",
   "execution_count": null,
   "id": "d5c5be1a-d790-4197-9541-ee78da2ffe85",
   "metadata": {},
   "outputs": [],
   "source": []
  }
 ],
 "metadata": {
  "kernelspec": {
   "display_name": "Python 3 (ipykernel)",
   "language": "python",
   "name": "python3"
  },
  "language_info": {
   "codemirror_mode": {
    "name": "ipython",
    "version": 3
   },
   "file_extension": ".py",
   "mimetype": "text/x-python",
   "name": "python",
   "nbconvert_exporter": "python",
   "pygments_lexer": "ipython3",
   "version": "3.12.7"
  }
 },
 "nbformat": 4,
 "nbformat_minor": 5
}
