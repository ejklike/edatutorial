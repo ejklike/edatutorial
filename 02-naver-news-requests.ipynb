{
 "cells": [
  {
   "cell_type": "markdown",
   "id": "57368ead-763c-4740-a765-7974c5169736",
   "metadata": {},
   "source": [
    "# 네이버 뉴스에서 `비트코인` 관련 뉴스 수집하기 (`requests` 사용)"
   ]
  },
  {
   "cell_type": "code",
   "execution_count": null,
   "id": "7dd67129-6a0a-4a9d-bfc8-1d161b27cc2d",
   "metadata": {},
   "outputs": [],
   "source": [
    "import requests\n",
    "from bs4 import BeautifulSoup\n",
    "\n",
    "# 키워드, URL\n",
    "keyword = '비트코인'\n",
    "url = f'https://search.naver.com/search.naver?where=news&query={keyword}'\n",
    "\n",
    "# 웹 페이지 요청\n",
    "response = requests.get(url)"
   ]
  },
  {
   "cell_type": "code",
   "execution_count": null,
   "id": "5a2e0d84-8843-4ad8-9e00-e42e220b2ad6",
   "metadata": {
    "scrolled": true
   },
   "outputs": [],
   "source": [
    "# news_area 부분 필터링\n",
    "soup = BeautifulSoup(response.text, 'html.parser')\n",
    "articles = soup.select('.news_area') # class 이름으로 선택하려면 앞에 .을 붙여야 함\n",
    "len(articles) # 뉴스 개수"
   ]
  },
  {
   "cell_type": "markdown",
   "id": "b0ebf156-09bd-4288-ada4-41fa44ea2407",
   "metadata": {},
   "source": [
    "## 뉴스 제목, 내용, 언론사, url 데이터 추출"
   ]
  },
  {
   "cell_type": "code",
   "execution_count": null,
   "id": "24aad268-de69-4603-aa8c-651235718a03",
   "metadata": {},
   "outputs": [],
   "source": [
    "# 언론사\n",
    "articles[0].select_one('.press').text.replace('언론사 선정', '')"
   ]
  },
  {
   "cell_type": "code",
   "execution_count": null,
   "id": "0a2de2e4-03c7-4eee-a9f5-6e4b28703adb",
   "metadata": {},
   "outputs": [],
   "source": [
    "# 뉴스 제목\n",
    "articles[0].select_one('.news_tit').text"
   ]
  },
  {
   "cell_type": "code",
   "execution_count": null,
   "id": "c3cc098b-0c0f-4e1f-b809-067bd8dc3478",
   "metadata": {},
   "outputs": [],
   "source": [
    "# 뉴스 url\n",
    "articles[0].select_one('.news_tit').get('href')"
   ]
  },
  {
   "cell_type": "code",
   "execution_count": null,
   "id": "d94b51ec-c205-4de6-9378-586d93303669",
   "metadata": {},
   "outputs": [],
   "source": [
    "# 뉴스 내용\n",
    "articles[0].select_one('.api_txt_lines').text"
   ]
  },
  {
   "cell_type": "markdown",
   "id": "0b95cb4d-7700-4db0-aece-4ce7e589d6c6",
   "metadata": {},
   "source": [
    "## 데이터프레임에 저장하기"
   ]
  },
  {
   "cell_type": "code",
   "execution_count": null,
   "id": "a8cadf7f-b57e-4cc7-ab20-14ab9bd80261",
   "metadata": {},
   "outputs": [],
   "source": [
    "import pandas as pd\n",
    "\n",
    "# 뉴스 제목 데이터프레임 생성\n",
    "urls = [article.select_one('.news_tit').get('href')\n",
    "        for article in articles]\n",
    "titles = [article.select_one('.news_tit').text\n",
    "         for article in articles]\n",
    "presses = [article.select_one('.press').text.replace('언론사 선정', '')\n",
    "          for article in articles]\n",
    "\n",
    "df = pd.DataFrame({'url': urls,\n",
    "                   'press': presses,\n",
    "                   'title': titles})\n",
    "df"
   ]
  },
  {
   "cell_type": "markdown",
   "id": "8575ab02-b79b-4334-b55e-abe8d3b5fb58",
   "metadata": {},
   "source": [
    "# Q. 스크롤을 계속 내리면 뉴스가 계속 나오는데.. 모두 수집할 방법이 없을까?"
   ]
  },
  {
   "cell_type": "code",
   "execution_count": null,
   "id": "83208e17-3085-4451-9d7e-b69e75d33721",
   "metadata": {},
   "outputs": [],
   "source": []
  },
  {
   "cell_type": "code",
   "execution_count": null,
   "id": "7ab2acae-109b-4582-859b-215d9a75bcd4",
   "metadata": {},
   "outputs": [],
   "source": []
  }
 ],
 "metadata": {
  "kernelspec": {
   "display_name": "Python 3 (ipykernel)",
   "language": "python",
   "name": "python3"
  },
  "language_info": {
   "codemirror_mode": {
    "name": "ipython",
    "version": 3
   },
   "file_extension": ".py",
   "mimetype": "text/x-python",
   "name": "python",
   "nbconvert_exporter": "python",
   "pygments_lexer": "ipython3",
   "version": "3.12.2"
  }
 },
 "nbformat": 4,
 "nbformat_minor": 5
}
