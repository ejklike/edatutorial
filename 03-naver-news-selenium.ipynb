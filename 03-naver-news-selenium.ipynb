{
 "cells": [
  {
   "cell_type": "markdown",
   "id": "6e3e4a1f-9273-41f6-be12-fd8ba6ddd37a",
   "metadata": {},
   "source": [
    "# 네이버 뉴스에서 `비트코인` 관련 뉴스 수집하기 (`selenium` 사용)"
   ]
  },
  {
   "cell_type": "markdown",
   "id": "3de8db67-e588-446f-bdb8-9d3d9de61803",
   "metadata": {},
   "source": [
    "시작하기 전.. Anaconda prompt에서 아래와 같이 입력하여 `selenium`을 설치하자.\n",
    "\n",
    "```\n",
    "conda install selenium\n",
    "```"
   ]
  },
  {
   "cell_type": "markdown",
   "id": "2790ea01-9585-4335-87a1-62818062218c",
   "metadata": {},
   "source": [
    "# `requests` 패키지 대신 `selenium`으로 네이버 뉴스 수집하기"
   ]
  },
  {
   "cell_type": "code",
   "execution_count": null,
   "id": "a14b85a2-a5d8-416c-99b3-0d50b886bb1e",
   "metadata": {},
   "outputs": [],
   "source": [
    "from selenium import webdriver\n",
    "\n",
    "driver = webdriver.Chrome()\n",
    "\n",
    "# 키워드, URL\n",
    "keyword = '비트코인'\n",
    "url = f'https://search.naver.com/search.naver?where=news&query={keyword}'\n",
    "\n",
    "# url 접속\n",
    "driver.get(url)\n",
    "driver.implicitly_wait(2) # 2초 안에 웹페이지를 load하면 바로 넘어가거나, 2초를 기다림\n",
    "\n",
    "elements = driver.find_elements('css selector', 'div.news_wrap.api_ani_send')\n",
    "for x in elements:\n",
    "    # title, url\n",
    "    #sp_nws1 > div.news_wrap.api_ani_send > div > div.news_contents > a.news_tit\n",
    "    title = x.find_element(\"css selector\", 'div > div.news_contents > a.news_tit').text\n",
    "    url = x.find_element(\"css selector\", 'div > div.news_contents > a.news_tit').get_attribute(\"href\")\n",
    "    # publisher\n",
    "    # #sp_nws1 > div.news_wrap.api_ani_send > div > div.news_info > div.info_group > a.info.press\n",
    "    pub = x.find_element(\"css selector\", 'div > div.news_info > div.info_group > a.info.press').text.replace('언론사 선정', '')\n",
    "\n",
    "    print(title)\n",
    "    print(url)\n",
    "    print(pub)\n",
    "    print()\n",
    "\n",
    "# don't forget to close the driver\n",
    "driver.close()"
   ]
  },
  {
   "cell_type": "markdown",
   "id": "1eeffe94-0969-4722-8329-10314ba5fcb2",
   "metadata": {},
   "source": [
    "# 동적 스크롤 도입"
   ]
  },
  {
   "cell_type": "code",
   "execution_count": null,
   "id": "d0ce5dae-ae8b-4269-ae22-5d64b31bbea0",
   "metadata": {},
   "outputs": [],
   "source": [
    "from selenium import webdriver\n",
    "from selenium.webdriver.common.keys import Keys\n",
    "import time\n",
    "\n",
    "# driver\n",
    "driver = webdriver.Chrome()\n",
    "\n",
    "# 키워드, URL\n",
    "keyword = '비트코인'\n",
    "url = f'https://search.naver.com/search.naver?where=news&query={keyword}'\n",
    "\n",
    "# get page\n",
    "driver.get(url)\n",
    "driver.implicitly_wait(2) # 2초 안에 웹페이지를 load하면 바로 넘어가거나, 2초를 기다림\n",
    "\n",
    "# scroller\n",
    "actions = driver.find_element('css selector', 'body')\n",
    "\n",
    "actions.send_keys(Keys.END)\n",
    "time.sleep(2)\n",
    "\n",
    "actions.send_keys(Keys.END)\n",
    "time.sleep(2)\n",
    "\n",
    "actions.send_keys(Keys.END)\n",
    "time.sleep(2)"
   ]
  },
  {
   "cell_type": "markdown",
   "id": "c3c1bc73-d8bd-4a91-9e37-c86b266d123b",
   "metadata": {},
   "source": [
    "# 스크롤 수만큼 페이지 로딩 후 뉴스 스크랩"
   ]
  },
  {
   "cell_type": "code",
   "execution_count": null,
   "id": "56bf6f73-165f-4ca8-b7e5-6b9dfbbab298",
   "metadata": {},
   "outputs": [],
   "source": [
    "from selenium import webdriver\n",
    "from selenium.webdriver.common.keys import Keys\n",
    "import time\n",
    "\n",
    "\n",
    "# 키워드, URL\n",
    "keyword = '비트코인'\n",
    "url = f'https://search.naver.com/search.naver?where=news&query={keyword}'\n",
    "\n",
    "# driver\n",
    "driver = webdriver.Chrome()\n",
    "\n",
    "# get page\n",
    "driver.get(url)\n",
    "driver.implicitly_wait(2) # 2초 안에 웹페이지를 load하면 바로 넘어가거나, 2초를 기다림\n",
    "\n",
    "# scroller\n",
    "actions = driver.find_element('css selector', 'body')\n",
    "\n",
    "def crawling(num_scroll):\n",
    "    \n",
    "    for _ in range(num_scroll):\n",
    "        actions.send_keys(Keys.END)\n",
    "        time.sleep(2)\n",
    "    \n",
    "    titles, presses, links = [], [], []\n",
    "    title_selector = 'div.news_wrap.api_ani_send > div > div.news_contents > a.news_tit'\n",
    "    press_selector = 'div.news_wrap.api_ani_send > div > div.news_info > div.info_group > a.info.press'\n",
    "\n",
    "    for i in driver.find_elements('css selector', title_selector):\n",
    "        presses.append(i.text.replace('언론사 선정', ''))\n",
    "    \n",
    "    for i in driver.find_elements('css selector', title_selector):\n",
    "        titles.append(i.text)\n",
    "        links.append(i.get_attribute(\"href\"))\n",
    "    \n",
    "    return titles, presses, links\n",
    "\n",
    "\n",
    "num_scroll = 2\n",
    "titles, presses, links = crawling(num_scroll)\n",
    "\n",
    "print(\"가져온 뉴스 수: \", len(titles))\n",
    "print('')\n",
    "\n",
    "for title, press, link in zip(titles, presses, links):\n",
    "    print(\"제목: \", title)\n",
    "    print(\"언론사: \", press)\n",
    "    print(\"주소: \", link)\n",
    "    print()\n",
    "\n",
    "# don't forget to close the driver!\n",
    "driver.close()"
   ]
  },
  {
   "cell_type": "code",
   "execution_count": null,
   "id": "70c9669a-65eb-4e30-ad56-7435c4b52ad7",
   "metadata": {},
   "outputs": [],
   "source": []
  },
  {
   "cell_type": "code",
   "execution_count": null,
   "id": "0d26b3fc-d823-414c-adf0-ece14d885bc4",
   "metadata": {},
   "outputs": [],
   "source": [
    "import pandas as pd\n",
    "\n",
    "# 뉴스 제목 데이터프레임 생성\n",
    "df = pd.DataFrame({'url': links,\n",
    "                   'press': presses,\n",
    "                   'title': titles})\n",
    "df"
   ]
  },
  {
   "cell_type": "markdown",
   "id": "ddce5748-3c3f-4ad4-9f7f-181ca023b0a1",
   "metadata": {},
   "source": [
    "# 뉴스 내용까지 수집하기\n",
    "\n",
    "아래와 같이 `newspaper3k` 패키지를 설치하자\n",
    "```\n",
    "pip install newspaper3k\n",
    "```\n",
    "\n",
    "- documentation: https://newspaper.readthedocs.io/en/latest/"
   ]
  },
  {
   "cell_type": "code",
   "execution_count": null,
   "id": "cf257fe9-8e58-4585-8470-6dd97bc20988",
   "metadata": {},
   "outputs": [],
   "source": [
    "from newspaper import Article\n",
    "\n",
    "texts = []\n",
    "\n",
    "for link in links:\n",
    "    # 언어를 한국어로 설정하고 URL을 전달해 Article 클래스의 객체 생성\n",
    "    article = Article(link, language='ko')\n",
    "    # 지정된 웹 페이지를 다운로드\n",
    "    article.download()\n",
    "    # 다운로드한 웹 페이지를 분석하고 필요한 정보를 추출\n",
    "    article.parse()\n",
    "    \n",
    "    # 기사 제목 출력\n",
    "    print('기사 제목 :', article.title)\n",
    "    # 기사 내용 출력 \n",
    "    print('기사 내용 :', article.text[:20])\n",
    "    print('')\n",
    "\n",
    "    texts.append(article.text)\n",
    "    \n",
    "    time.sleep(1)"
   ]
  },
  {
   "cell_type": "code",
   "execution_count": null,
   "id": "0bd6c8a4-6237-41cb-aacb-1ea1e18f23a5",
   "metadata": {},
   "outputs": [],
   "source": [
    "df['text'] = texts\n",
    "\n",
    "df"
   ]
  },
  {
   "cell_type": "code",
   "execution_count": null,
   "id": "2a4648fa-999d-49a7-84b0-423242bc12f2",
   "metadata": {},
   "outputs": [],
   "source": []
  }
 ],
 "metadata": {
  "kernelspec": {
   "display_name": "Python 3 (ipykernel)",
   "language": "python",
   "name": "python3"
  },
  "language_info": {
   "codemirror_mode": {
    "name": "ipython",
    "version": 3
   },
   "file_extension": ".py",
   "mimetype": "text/x-python",
   "name": "python",
   "nbconvert_exporter": "python",
   "pygments_lexer": "ipython3",
   "version": "3.12.2"
  }
 },
 "nbformat": 4,
 "nbformat_minor": 5
}
