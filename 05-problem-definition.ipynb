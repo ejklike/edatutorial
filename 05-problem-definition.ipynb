{
 "cells": [
  {
   "cell_type": "markdown",
   "metadata": {},
   "source": [
    "# 0. problem definition\n",
    "\n",
    "A vs. B\n",
    "\n",
    "주어진 뉴스가 A와 B 중 어느 키워드에 관한 뉴스인지 분류하고, 더 나아가 A와 B를 가르는 주요 단어가 무엇인지 알아보자.\n",
    "\n",
    "예시: 삼성 vs. 애플, 윤석열 vs. 이재명, ...\n",
    "\n",
    "\n",
    "### 1. labels: A, B\n",
    "\n",
    "A와 B\n",
    "\n",
    "### 2. features: 단어\n",
    "\n",
    "단어의 뉴스 등장여부 (binary)\n",
    "\n",
    "### 3. data: 뉴스\n",
    "\n",
    "네이버 뉴스포털에서 키워드로 조회되는 최근 3개월 뉴스\n"
   ]
  },
  {
   "cell_type": "markdown",
   "metadata": {},
   "source": [
    "### 문제 정의도, 데이터 수집도 됐으니, 그다음은..?"
   ]
  },
  {
   "cell_type": "markdown",
   "metadata": {},
   "source": [
    "# 1. 데이터 탐색"
   ]
  },
  {
   "cell_type": "markdown",
   "metadata": {},
   "source": [
    "- 탐색 과정에서 데이터를 이해하여 데이터 전처리, 변환, 분석 방향을 구체화함\n",
    "- 굳이 모델링을 하지 않아도, 탐색만으로 여러 인사이트를 도출하는 경우도 매우 많음"
   ]
  },
  {
   "cell_type": "markdown",
   "metadata": {},
   "source": [
    "# 2. 데이터 전처리"
   ]
  },
  {
   "cell_type": "markdown",
   "metadata": {},
   "source": [
    "- 결측치 대치, 이상치 제거, ...\n",
    "- 향후 모델링 결과의 질을 높일 수 있음\n",
    "- 특히, 텍스트 데이터이기 때문에 stopword removal, pos tagging, synonym 등 전처리할 요소가 많음"
   ]
  },
  {
   "cell_type": "markdown",
   "metadata": {},
   "source": [
    "# 3. 데이터 변환"
   ]
  },
  {
   "cell_type": "markdown",
   "metadata": {},
   "source": [
    "- 데이터를 분석 모델에 입력할 수 있는 형태로 가공\n",
    "- 변수 생성, 변환, 유도변수 도출"
   ]
  },
  {
   "cell_type": "markdown",
   "metadata": {},
   "source": [
    "# 위 과정이 순차적으로 진행될 것 같지만, 막상 해보면 그렇지 않다..."
   ]
  },
  {
   "cell_type": "markdown",
   "metadata": {},
   "source": [
    "뒤죽박죽 왔다갔다 우왕좌왕...."
   ]
  }
 ],
 "metadata": {
  "kernelspec": {
   "display_name": "Python [conda root]",
   "language": "python",
   "name": "conda-root-py"
  },
  "language_info": {
   "codemirror_mode": {
    "name": "ipython",
    "version": 3
   },
   "file_extension": ".py",
   "mimetype": "text/x-python",
   "name": "python",
   "nbconvert_exporter": "python",
   "pygments_lexer": "ipython3",
   "version": "3.5.2"
  }
 },
 "nbformat": 4,
 "nbformat_minor": 2
}
