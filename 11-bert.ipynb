{
 "cells": [
  {
   "cell_type": "markdown",
   "id": "0e25f182-7849-4948-987f-d71c3ffdaf68",
   "metadata": {},
   "source": [
    "# BERT를 사용한 문서 분류"
   ]
  },
  {
   "cell_type": "markdown",
   "id": "121652ce-3565-42e6-a7e6-56c1b1e7ea52",
   "metadata": {},
   "source": [
    "https://situdy.tistory.com/70"
   ]
  },
  {
   "cell_type": "code",
   "execution_count": 1,
   "id": "25dec7fd-d653-460b-ae4c-4b7bbaa513e6",
   "metadata": {
    "scrolled": true
   },
   "outputs": [
    {
     "name": "stdout",
     "output_type": "stream",
     "text": [
      "WARNING:tensorflow:From C:\\Users\\dmlab\\anaconda3\\Lib\\site-packages\\tf_keras\\src\\losses.py:2976: The name tf.losses.sparse_softmax_cross_entropy is deprecated. Please use tf.compat.v1.losses.sparse_softmax_cross_entropy instead.\n",
      "\n"
     ]
    }
   ],
   "source": [
    "import pandas as pd\n",
    "import numpy as np\n",
    "import random\n",
    "import time\n",
    "import datetime\n",
    "from tqdm import tqdm\n",
    "\n",
    "import csv\n",
    "import os\n",
    "\n",
    "import tensorflow as tf\n",
    "import torch\n",
    "\n",
    "# BERT 사용을 위함\n",
    "from transformers import BertTokenizer\n",
    "from transformers import BertForSequenceClassification, BertConfig, AdamWeightDecay\n",
    "from transformers import get_linear_schedule_with_warmup\n",
    "\n",
    "from torch.utils.data import TensorDataset, DataLoader, RandomSampler, SequentialSampler\n",
    "\n",
    "# for padding\n",
    "from tensorflow.keras.preprocessing.sequence import pad_sequences \n",
    "\n",
    "# 전처리 및 평가 지표\n",
    "from sklearn.model_selection import train_test_split\n",
    "from sklearn.metrics import f1_score, roc_auc_score, accuracy_score, hamming_loss"
   ]
  },
  {
   "cell_type": "code",
   "execution_count": 2,
   "id": "5e9d7cc9-1323-4e54-90a1-380ce4cdc7a5",
   "metadata": {},
   "outputs": [
    {
     "data": {
      "text/html": [
       "<div>\n",
       "<style scoped>\n",
       "    .dataframe tbody tr th:only-of-type {\n",
       "        vertical-align: middle;\n",
       "    }\n",
       "\n",
       "    .dataframe tbody tr th {\n",
       "        vertical-align: top;\n",
       "    }\n",
       "\n",
       "    .dataframe thead th {\n",
       "        text-align: right;\n",
       "    }\n",
       "</style>\n",
       "<table border=\"1\" class=\"dataframe\">\n",
       "  <thead>\n",
       "    <tr style=\"text-align: right;\">\n",
       "      <th></th>\n",
       "      <th>url</th>\n",
       "      <th>press</th>\n",
       "      <th>title</th>\n",
       "      <th>datetime</th>\n",
       "      <th>text</th>\n",
       "      <th>label</th>\n",
       "      <th>nouns</th>\n",
       "    </tr>\n",
       "  </thead>\n",
       "  <tbody>\n",
       "    <tr>\n",
       "      <th>0</th>\n",
       "      <td>https://www.yna.co.kr/view/AKR2025010104210000...</td>\n",
       "      <td>연합뉴스</td>\n",
       "      <td>이재명, 대권주자 적합도 30%대 '독주'…與후보들은 한 자릿수</td>\n",
       "      <td>2025-01-01 16:38:15+09:00</td>\n",
       "      <td>설승은기자 구독 구독중 이전 다음\\n\\n언론사 세 곳 신년 여론조사…홍준표·오세훈·...</td>\n",
       "      <td>이재명</td>\n",
       "      <td>['설', '승', '기자', '구독', '구독', '중', '다음', '언론사',...</td>\n",
       "    </tr>\n",
       "    <tr>\n",
       "      <th>1</th>\n",
       "      <td>https://www.hani.co.kr/arti/politics/politics_...</td>\n",
       "      <td>한겨레</td>\n",
       "      <td>국민 10명 중 7명 “윤석열 파면해야”…차기 대선주자 이재명 1위</td>\n",
       "      <td>NaN</td>\n",
       "      <td>본문\\n\\n기사를 읽어드립니다 Your browser does not support...</td>\n",
       "      <td>이재명</td>\n",
       "      <td>['본문', '기사', '일', '서울', '종로구', '헌법재판소', '헌재', ...</td>\n",
       "    </tr>\n",
       "    <tr>\n",
       "      <th>2</th>\n",
       "      <td>https://www.seoul.co.kr/news/society/2025/01/0...</td>\n",
       "      <td>서울신문</td>\n",
       "      <td>“바쁘실 텐데 1분만”…이재명 붙잡은 유족, 눈물 흘리며 전한 말은</td>\n",
       "      <td>2025-01-01 00:00:00</td>\n",
       "      <td>이미지 확대 유가족 요구사항 메모하는 이재명 대표 더불어민주당 이재명 대표가 31일...</td>\n",
       "      <td>이재명</td>\n",
       "      <td>['이미지', '확대', '유가족', '요구사항', '메모', '이재명', '대표'...</td>\n",
       "    </tr>\n",
       "    <tr>\n",
       "      <th>3</th>\n",
       "      <td>https://news.tvchosun.com/site/data/html_dir/2...</td>\n",
       "      <td>TV조선</td>\n",
       "      <td>이재명 \"절망의 늪에 빠진 국민의 삶에 함께하겠다\"</td>\n",
       "      <td>2025-01-01 00:00:00</td>\n",
       "      <td>이재명 더불어민주당 대표 /연합뉴스\\n\\n이재명 더불어민주당 대표는 1일 신년을 맞...</td>\n",
       "      <td>이재명</td>\n",
       "      <td>['이재명', '더불어민주당', '대표', '연합뉴스', '이재명', '더불어민주당...</td>\n",
       "    </tr>\n",
       "    <tr>\n",
       "      <th>4</th>\n",
       "      <td>http://mbn.mk.co.kr/pages/news/newsView.php?ca...</td>\n",
       "      <td>MBN</td>\n",
       "      <td>이재명 신년사 \"어둠 깊을수록 '새로운 나라' 소망 선명해져\"</td>\n",
       "      <td>2025-01-01 10:01:00+09:00</td>\n",
       "      <td>\"절망의 늪 빠진 국민의 삶 함께 하겠다\"\\n\\n\"우리 앞의 비극·고난 극복하고 새...</td>\n",
       "      <td>이재명</td>\n",
       "      <td>['절망', '늪', '국민', '삶', '우리', '앞', '비극', '고난', ...</td>\n",
       "    </tr>\n",
       "  </tbody>\n",
       "</table>\n",
       "</div>"
      ],
      "text/plain": [
       "                                                 url press  \\\n",
       "0  https://www.yna.co.kr/view/AKR2025010104210000...  연합뉴스   \n",
       "1  https://www.hani.co.kr/arti/politics/politics_...   한겨레   \n",
       "2  https://www.seoul.co.kr/news/society/2025/01/0...  서울신문   \n",
       "3  https://news.tvchosun.com/site/data/html_dir/2...  TV조선   \n",
       "4  http://mbn.mk.co.kr/pages/news/newsView.php?ca...   MBN   \n",
       "\n",
       "                                   title                   datetime  \\\n",
       "0    이재명, 대권주자 적합도 30%대 '독주'…與후보들은 한 자릿수  2025-01-01 16:38:15+09:00   \n",
       "1  국민 10명 중 7명 “윤석열 파면해야”…차기 대선주자 이재명 1위                        NaN   \n",
       "2  “바쁘실 텐데 1분만”…이재명 붙잡은 유족, 눈물 흘리며 전한 말은        2025-01-01 00:00:00   \n",
       "3           이재명 \"절망의 늪에 빠진 국민의 삶에 함께하겠다\"        2025-01-01 00:00:00   \n",
       "4     이재명 신년사 \"어둠 깊을수록 '새로운 나라' 소망 선명해져\"  2025-01-01 10:01:00+09:00   \n",
       "\n",
       "                                                text label  \\\n",
       "0  설승은기자 구독 구독중 이전 다음\\n\\n언론사 세 곳 신년 여론조사…홍준표·오세훈·...   이재명   \n",
       "1  본문\\n\\n기사를 읽어드립니다 Your browser does not support...   이재명   \n",
       "2  이미지 확대 유가족 요구사항 메모하는 이재명 대표 더불어민주당 이재명 대표가 31일...   이재명   \n",
       "3  이재명 더불어민주당 대표 /연합뉴스\\n\\n이재명 더불어민주당 대표는 1일 신년을 맞...   이재명   \n",
       "4  \"절망의 늪 빠진 국민의 삶 함께 하겠다\"\\n\\n\"우리 앞의 비극·고난 극복하고 새...   이재명   \n",
       "\n",
       "                                               nouns  \n",
       "0  ['설', '승', '기자', '구독', '구독', '중', '다음', '언론사',...  \n",
       "1  ['본문', '기사', '일', '서울', '종로구', '헌법재판소', '헌재', ...  \n",
       "2  ['이미지', '확대', '유가족', '요구사항', '메모', '이재명', '대표'...  \n",
       "3  ['이재명', '더불어민주당', '대표', '연합뉴스', '이재명', '더불어민주당...  \n",
       "4  ['절망', '늪', '국민', '삶', '우리', '앞', '비극', '고난', ...  "
      ]
     },
     "execution_count": 2,
     "metadata": {},
     "output_type": "execute_result"
    }
   ],
   "source": [
    "import pandas as pd\n",
    "df = pd.read_csv('./data/df_all_preprocessed_noun.csv')\n",
    "df.head()"
   ]
  },
  {
   "cell_type": "code",
   "execution_count": 3,
   "id": "f3813855-891e-4f5d-bcd2-620c6e76b148",
   "metadata": {},
   "outputs": [
    {
     "name": "stderr",
     "output_type": "stream",
     "text": [
      "C:\\Users\\dmlab\\AppData\\Local\\Temp\\ipykernel_19620\\539941490.py:1: FutureWarning: Downcasting behavior in `replace` is deprecated and will be removed in a future version. To retain the old behavior, explicitly call `result.infer_objects(copy=False)`. To opt-in to the future behavior, set `pd.set_option('future.no_silent_downcasting', True)`\n",
      "  df['label'] = df['label'].replace(['윤석열', '이재명'],[0, 1])\n"
     ]
    },
    {
     "data": {
      "text/html": [
       "<div>\n",
       "<style scoped>\n",
       "    .dataframe tbody tr th:only-of-type {\n",
       "        vertical-align: middle;\n",
       "    }\n",
       "\n",
       "    .dataframe tbody tr th {\n",
       "        vertical-align: top;\n",
       "    }\n",
       "\n",
       "    .dataframe thead th {\n",
       "        text-align: right;\n",
       "    }\n",
       "</style>\n",
       "<table border=\"1\" class=\"dataframe\">\n",
       "  <thead>\n",
       "    <tr style=\"text-align: right;\">\n",
       "      <th></th>\n",
       "      <th>url</th>\n",
       "      <th>press</th>\n",
       "      <th>title</th>\n",
       "      <th>datetime</th>\n",
       "      <th>text</th>\n",
       "      <th>label</th>\n",
       "      <th>nouns</th>\n",
       "    </tr>\n",
       "  </thead>\n",
       "  <tbody>\n",
       "    <tr>\n",
       "      <th>0</th>\n",
       "      <td>https://www.yna.co.kr/view/AKR2025010104210000...</td>\n",
       "      <td>연합뉴스</td>\n",
       "      <td>이재명, 대권주자 적합도 30%대 '독주'…與후보들은 한 자릿수</td>\n",
       "      <td>2025-01-01 16:38:15+09:00</td>\n",
       "      <td>설승은기자 구독 구독중 이전 다음\\n\\n언론사 세 곳 신년 여론조사…홍준표·오세훈·...</td>\n",
       "      <td>1</td>\n",
       "      <td>['설', '승', '기자', '구독', '구독', '중', '다음', '언론사',...</td>\n",
       "    </tr>\n",
       "    <tr>\n",
       "      <th>1</th>\n",
       "      <td>https://www.hani.co.kr/arti/politics/politics_...</td>\n",
       "      <td>한겨레</td>\n",
       "      <td>국민 10명 중 7명 “윤석열 파면해야”…차기 대선주자 이재명 1위</td>\n",
       "      <td>NaN</td>\n",
       "      <td>본문\\n\\n기사를 읽어드립니다 Your browser does not support...</td>\n",
       "      <td>1</td>\n",
       "      <td>['본문', '기사', '일', '서울', '종로구', '헌법재판소', '헌재', ...</td>\n",
       "    </tr>\n",
       "    <tr>\n",
       "      <th>2</th>\n",
       "      <td>https://www.seoul.co.kr/news/society/2025/01/0...</td>\n",
       "      <td>서울신문</td>\n",
       "      <td>“바쁘실 텐데 1분만”…이재명 붙잡은 유족, 눈물 흘리며 전한 말은</td>\n",
       "      <td>2025-01-01 00:00:00</td>\n",
       "      <td>이미지 확대 유가족 요구사항 메모하는 이재명 대표 더불어민주당 이재명 대표가 31일...</td>\n",
       "      <td>1</td>\n",
       "      <td>['이미지', '확대', '유가족', '요구사항', '메모', '이재명', '대표'...</td>\n",
       "    </tr>\n",
       "    <tr>\n",
       "      <th>3</th>\n",
       "      <td>https://news.tvchosun.com/site/data/html_dir/2...</td>\n",
       "      <td>TV조선</td>\n",
       "      <td>이재명 \"절망의 늪에 빠진 국민의 삶에 함께하겠다\"</td>\n",
       "      <td>2025-01-01 00:00:00</td>\n",
       "      <td>이재명 더불어민주당 대표 /연합뉴스\\n\\n이재명 더불어민주당 대표는 1일 신년을 맞...</td>\n",
       "      <td>1</td>\n",
       "      <td>['이재명', '더불어민주당', '대표', '연합뉴스', '이재명', '더불어민주당...</td>\n",
       "    </tr>\n",
       "    <tr>\n",
       "      <th>4</th>\n",
       "      <td>http://mbn.mk.co.kr/pages/news/newsView.php?ca...</td>\n",
       "      <td>MBN</td>\n",
       "      <td>이재명 신년사 \"어둠 깊을수록 '새로운 나라' 소망 선명해져\"</td>\n",
       "      <td>2025-01-01 10:01:00+09:00</td>\n",
       "      <td>\"절망의 늪 빠진 국민의 삶 함께 하겠다\"\\n\\n\"우리 앞의 비극·고난 극복하고 새...</td>\n",
       "      <td>1</td>\n",
       "      <td>['절망', '늪', '국민', '삶', '우리', '앞', '비극', '고난', ...</td>\n",
       "    </tr>\n",
       "  </tbody>\n",
       "</table>\n",
       "</div>"
      ],
      "text/plain": [
       "                                                 url press  \\\n",
       "0  https://www.yna.co.kr/view/AKR2025010104210000...  연합뉴스   \n",
       "1  https://www.hani.co.kr/arti/politics/politics_...   한겨레   \n",
       "2  https://www.seoul.co.kr/news/society/2025/01/0...  서울신문   \n",
       "3  https://news.tvchosun.com/site/data/html_dir/2...  TV조선   \n",
       "4  http://mbn.mk.co.kr/pages/news/newsView.php?ca...   MBN   \n",
       "\n",
       "                                   title                   datetime  \\\n",
       "0    이재명, 대권주자 적합도 30%대 '독주'…與후보들은 한 자릿수  2025-01-01 16:38:15+09:00   \n",
       "1  국민 10명 중 7명 “윤석열 파면해야”…차기 대선주자 이재명 1위                        NaN   \n",
       "2  “바쁘실 텐데 1분만”…이재명 붙잡은 유족, 눈물 흘리며 전한 말은        2025-01-01 00:00:00   \n",
       "3           이재명 \"절망의 늪에 빠진 국민의 삶에 함께하겠다\"        2025-01-01 00:00:00   \n",
       "4     이재명 신년사 \"어둠 깊을수록 '새로운 나라' 소망 선명해져\"  2025-01-01 10:01:00+09:00   \n",
       "\n",
       "                                                text  label  \\\n",
       "0  설승은기자 구독 구독중 이전 다음\\n\\n언론사 세 곳 신년 여론조사…홍준표·오세훈·...      1   \n",
       "1  본문\\n\\n기사를 읽어드립니다 Your browser does not support...      1   \n",
       "2  이미지 확대 유가족 요구사항 메모하는 이재명 대표 더불어민주당 이재명 대표가 31일...      1   \n",
       "3  이재명 더불어민주당 대표 /연합뉴스\\n\\n이재명 더불어민주당 대표는 1일 신년을 맞...      1   \n",
       "4  \"절망의 늪 빠진 국민의 삶 함께 하겠다\"\\n\\n\"우리 앞의 비극·고난 극복하고 새...      1   \n",
       "\n",
       "                                               nouns  \n",
       "0  ['설', '승', '기자', '구독', '구독', '중', '다음', '언론사',...  \n",
       "1  ['본문', '기사', '일', '서울', '종로구', '헌법재판소', '헌재', ...  \n",
       "2  ['이미지', '확대', '유가족', '요구사항', '메모', '이재명', '대표'...  \n",
       "3  ['이재명', '더불어민주당', '대표', '연합뉴스', '이재명', '더불어민주당...  \n",
       "4  ['절망', '늪', '국민', '삶', '우리', '앞', '비극', '고난', ...  "
      ]
     },
     "execution_count": 3,
     "metadata": {},
     "output_type": "execute_result"
    }
   ],
   "source": [
    "df['label'] = df['label'].replace(['윤석열', '이재명'],[0, 1])\n",
    "df.head()"
   ]
  },
  {
   "cell_type": "code",
   "execution_count": 4,
   "id": "9ea94cf7-0825-4f07-bf72-001d8f3b06eb",
   "metadata": {},
   "outputs": [],
   "source": [
    "del df['url'], df['datetime'], df['nouns']"
   ]
  },
  {
   "cell_type": "code",
   "execution_count": 5,
   "id": "e991aa2e-af8a-4188-922b-0b82457954c1",
   "metadata": {},
   "outputs": [],
   "source": [
    "df.to_csv('news_data.csv', index=False, encoding='utf-8-sig')"
   ]
  },
  {
   "cell_type": "code",
   "execution_count": 6,
   "id": "88d74617-58c3-4705-9327-c870c45627bc",
   "metadata": {},
   "outputs": [
    {
     "data": {
      "application/vnd.jupyter.widget-view+json": {
       "model_id": "b90c6534851a4017b42e0b44bbe4df91",
       "version_major": 2,
       "version_minor": 0
      },
      "text/plain": [
       "Generating train split: 0 examples [00:00, ? examples/s]"
      ]
     },
     "metadata": {},
     "output_type": "display_data"
    }
   ],
   "source": [
    "from datasets import load_dataset\n",
    "\n",
    "all_data = load_dataset(\n",
    "        \"csv\",\n",
    "        data_files={\n",
    "            \"train\": \"news_data.csv\",\n",
    "        },\n",
    "    )\n"
   ]
  },
  {
   "cell_type": "code",
   "execution_count": 7,
   "id": "5bdb7918-6833-455d-9252-3e1f8ad9d301",
   "metadata": {},
   "outputs": [
    {
     "data": {
      "text/plain": [
       "DatasetDict({\n",
       "    train: Dataset({\n",
       "        features: ['press', 'title', 'text', 'label'],\n",
       "        num_rows: 15662\n",
       "    })\n",
       "})"
      ]
     },
     "execution_count": 7,
     "metadata": {},
     "output_type": "execute_result"
    }
   ],
   "source": [
    "all_data"
   ]
  },
  {
   "cell_type": "code",
   "execution_count": 8,
   "id": "e2f34dbf-efb1-4671-bf64-fd2117f52985",
   "metadata": {},
   "outputs": [],
   "source": [
    "cs = all_data['train'].train_test_split(0.2)\n",
    "train_cs = cs[\"train\"]\n",
    "test_cs = cs[\"test\"]"
   ]
  },
  {
   "cell_type": "code",
   "execution_count": 9,
   "id": "671cba1d-a7fd-40d5-bb9d-fbeb35d35a08",
   "metadata": {},
   "outputs": [],
   "source": [
    "# 훈련 데이터를 다시 8:2로 분리 후 훈련 데이터와 검증 데이터로 저장\n",
    "cs = train_cs.train_test_split(0.2)\n",
    "train_cs = cs[\"train\"]\n",
    "valid_cs = cs[\"test\"]"
   ]
  },
  {
   "cell_type": "code",
   "execution_count": 10,
   "id": "b5c85c21-b21f-457f-bbef-06ea0c5ae3a5",
   "metadata": {},
   "outputs": [
    {
     "name": "stdout",
     "output_type": "stream",
     "text": [
      "두번째 샘플 출력 : [서울=뉴시스] 조성봉 기자= 우원식 국회의장이 17일 오후 서울 여의도 국회에서 열린 제421회 국회(임시회) 제1차 본회의에서 윤석열 정부의 내란ㆍ외환 행위의 진상규명을 위한 특별검사 임명 등에 관한 법률안에 대한 수정안 가결을 선언하자 국민의힘 의원들이 자리에서 일어나 밖으로 나서고 있다. 2025.01.17. [email protected]\n",
      "두번째 샘플의 레이블 출력 : 1\n"
     ]
    }
   ],
   "source": [
    "print('두번째 샘플 출력 :', train_cs['text'][1])\n",
    "print('두번째 샘플의 레이블 출력 :', train_cs['label'][1])"
   ]
  },
  {
   "cell_type": "code",
   "execution_count": 11,
   "id": "4c654207-632b-412b-914e-2f744a016c36",
   "metadata": {},
   "outputs": [],
   "source": [
    "# 훈련 데이터, 검증 데이터, 테스트 데이터에 대해서 `[CLS] 문장 [SEP]` 구조를 만듭니다.\n",
    "\n",
    "train_sentences = list(map(lambda x: '[CLS] ' + str(x) + ' [SEP]', train_cs['text']))\n",
    "validation_sentences = list(map(lambda x: '[CLS] ' + str(x) + ' [SEP]', valid_cs['text']))\n",
    "test_sentences = list(map(lambda x: '[CLS] ' + str(x) + ' [SEP]', test_cs['text']))"
   ]
  },
  {
   "cell_type": "code",
   "execution_count": 12,
   "id": "8e0daf2d-2355-4dde-8205-16398ec456a0",
   "metadata": {},
   "outputs": [],
   "source": [
    "train_labels = train_cs['label']\n",
    "validation_labels = valid_cs['label']\n",
    "test_labels = test_cs['label']"
   ]
  },
  {
   "cell_type": "code",
   "execution_count": 13,
   "id": "180c531f-8c1d-418f-9d3d-df34b04d9e2a",
   "metadata": {},
   "outputs": [
    {
     "data": {
      "text/plain": [
       "\"[CLS] 탄핵 반대 집회/사진 이용우 기자\\n\\n헌법재판소가 윤석열 대통령 탄핵심판 선고일 통보를 앞두고 있는 가운데 서울 도심 곳곳에서 찬반 집회가 열릴 예정이다.\\n\\n서울경찰청은 29일 오후 서울 도심권에서 퇴진비상행동과 자유통일당 등 수만 명이 주최하는 집회와 행진이 개최된다고 밝혔다.\\n\\n윤석열 즉각 퇴진·사회대개혁 비상행동은 이날 오후 5시 광화문 동십자각에서 '제17차 범시민 대행진'을 연다. 경찰 신고 인원은 10만명이다. 이들은 종로구 사직로, 율곡로 일대에서 집회를 열고, 종로방향으로 행진할 예정이다.\\n\\n보수단체 세이브코리아는 이날 오후 1시부터 서울 영등포구 여의대로에서 '국가비상기도회'를 진행한다. 전광훈 사랑제일교회 목사가 이끄는 자유통일당과 대한민국바로세우기운동본부도 종로구 동화면세점 앞에서 윤 대통령 탄핵 반대 집회를 연다.\\n\\n두 단체 신고 인원은 22만 명이다.\\n\\n경찰은 집회·행진 구간 주변에 교통경찰 220여 명을 배치한다. 시민 불편을 최소화하기 위해 차량 우회 등 교통소통 관리에 나선다. [SEP]\""
      ]
     },
     "execution_count": 13,
     "metadata": {},
     "output_type": "execute_result"
    }
   ],
   "source": [
    "test_sentences[0]\n"
   ]
  },
  {
   "cell_type": "code",
   "execution_count": 14,
   "id": "dda0683f-dc1f-4803-8ffe-69cae2ff15ed",
   "metadata": {},
   "outputs": [],
   "source": [
    "# 한국어 BERT 중 하나인 'klue/bert-base'를 사용.\n",
    "tokenizer = BertTokenizer.from_pretrained('klue/bert-base')"
   ]
  },
  {
   "cell_type": "code",
   "execution_count": 15,
   "id": "6cd3732b-da71-4b57-b6c7-7992366d41a9",
   "metadata": {},
   "outputs": [],
   "source": [
    "MAX_LEN = 128\n",
    "\n",
    "def data_to_tensor (sentences, labels):\n",
    "  # 정수 인코딩 과정. 각 텍스트를 토큰화한 후에 Vocabulary에 맵핑되는 정수 시퀀스로 변환한다.\n",
    "  # ex) ['안녕하세요'] ==> ['안', '녕', '하세요'] ==> [231, 52, 45]\n",
    "  tokenized_texts = [tokenizer.tokenize(sent) for sent in sentences]\n",
    "  input_ids = [tokenizer.convert_tokens_to_ids(x) for x in tokenized_texts]\n",
    "\n",
    "  # pad_sequences는 패딩을 위한 모듈. 주어진 최대 길이를 위해서 뒤에서 0으로 채워준다.\n",
    "  # ex) [231, 52, 45] ==> [231, 52, 45, 0, 0, 0]\n",
    "  input_ids = pad_sequences(input_ids, maxlen=MAX_LEN, dtype=\"long\", truncating=\"post\", padding=\"post\") \n",
    "\n",
    "  attention_masks = []\n",
    "\n",
    "  for seq in input_ids:\n",
    "      seq_mask = [float(i > 0) for i in seq]\n",
    "      attention_masks.append(seq_mask)\n",
    "\n",
    "  tensor_inputs = torch.tensor(input_ids)\n",
    "  tensor_labels = torch.tensor(labels)\n",
    "  tensor_masks = torch.tensor(attention_masks)\n",
    "\n",
    "  return tensor_inputs, tensor_labels, tensor_masks"
   ]
  },
  {
   "cell_type": "code",
   "execution_count": 16,
   "id": "30d9c814-2e77-4724-a5ba-e3717d795c3e",
   "metadata": {},
   "outputs": [],
   "source": [
    "train_inputs, train_labels, train_masks = data_to_tensor(train_sentences, train_labels)\n",
    "validation_inputs, validation_labels, validation_masks = data_to_tensor(validation_sentences, validation_labels)\n",
    "test_inputs, test_labels, test_masks = data_to_tensor(test_sentences, test_labels)"
   ]
  },
  {
   "cell_type": "code",
   "execution_count": 17,
   "id": "26af1368-c59d-4422-8620-54ee9936e874",
   "metadata": {},
   "outputs": [
    {
     "name": "stdout",
     "output_type": "stream",
     "text": [
      "tensor([    2,  1865,  2115,  2557,    12,    83, 24728, 31415,    13,  4989,\n",
      "         4133, 11187,  3951,  3669,  2154,  6283,  2530,  6233,  2525, 11059,\n",
      "         2125,  7734,  2069,  3923,  2205,  2259,   842,  2170,  1513,  2051,\n",
      "         4389,  2897,  4228,  2069,  1331,  2051,  2223,  2259,   575,  2069,\n",
      "        16519,    18,    37, 23548,  3611,  2052,    38,  2170,  2318,  1865,\n",
      "         2115,  2557,  6283,  2069,  3644, 16246,  2371,  4683,  1902,  2069,\n",
      "          904,    16,    37,  2079,  1041,  2154,   881,  2088,  3748,  2470,\n",
      "         4150,  2069,  5740,  4795,  4045,  2145,  4991,  3656,  3731,  2138,\n",
      "        20736, 11295,    38,  2259,    37,  2170,  2318,  8221,  2085,   575,\n",
      "        28674,    18,  3696,  5107,    37,  2116,  6441,  4555,  2073,  1198,\n",
      "         2205,  2062,    18,   636,  2116, 22122,  2470,  3611,  2052, 19669,\n",
      "          116,   717,  2259,  5352,  2069,  1041,  2371,  2051,     5,   117,\n",
      "         3609,  1892,   575, 28674,    18,  5738,  3629,  2079],\n",
      "       dtype=torch.int32)\n",
      "tensor([1., 1., 1., 1., 1., 1., 1., 1., 1., 1., 1., 1., 1., 1., 1., 1., 1., 1.,\n",
      "        1., 1., 1., 1., 1., 1., 1., 1., 1., 1., 1., 1., 1., 1., 1., 1., 1., 1.,\n",
      "        1., 1., 1., 1., 1., 1., 1., 1., 1., 1., 1., 1., 1., 1., 1., 1., 1., 1.,\n",
      "        1., 1., 1., 1., 1., 1., 1., 1., 1., 1., 1., 1., 1., 1., 1., 1., 1., 1.,\n",
      "        1., 1., 1., 1., 1., 1., 1., 1., 1., 1., 1., 1., 1., 1., 1., 1., 1., 1.,\n",
      "        1., 1., 1., 1., 1., 1., 1., 1., 1., 1., 1., 1., 1., 1., 1., 1., 1., 1.,\n",
      "        1., 1., 1., 1., 1., 1., 1., 1., 1., 1., 1., 1., 1., 1., 1., 1., 1., 1.,\n",
      "        1., 1.])\n"
     ]
    }
   ],
   "source": [
    "print(train_inputs[0])\n",
    "print(train_masks[0])"
   ]
  },
  {
   "cell_type": "code",
   "execution_count": 18,
   "id": "561878d0-b4cd-4e47-a635-e38a6036e01f",
   "metadata": {},
   "outputs": [],
   "source": [
    "batch_size = 32\n",
    "\n",
    "train_data = TensorDataset(train_inputs, train_masks, train_labels)\n",
    "train_sampler = RandomSampler(train_data)\n",
    "train_dataloader = DataLoader(train_data, sampler=train_sampler, batch_size=batch_size)\n",
    "\n",
    "validation_data = TensorDataset(validation_inputs, validation_masks, validation_labels)\n",
    "validation_sampler = SequentialSampler(validation_data)\n",
    "validation_dataloader = DataLoader(validation_data, sampler=validation_sampler, batch_size=batch_size)\n",
    "\n",
    "test_data = TensorDataset(test_inputs, test_masks, test_labels)\n",
    "test_sampler = RandomSampler(test_data)\n",
    "test_dataloader = DataLoader(test_data, sampler=test_sampler, batch_size=batch_size)"
   ]
  },
  {
   "cell_type": "code",
   "execution_count": 19,
   "id": "99d7b1a4-d6c7-4ab0-9c3f-52a7af46f27d",
   "metadata": {},
   "outputs": [
    {
     "name": "stdout",
     "output_type": "stream",
     "text": [
      "훈련 데이터의 크기: 10023\n",
      "검증 데이터의 크기: 2506\n",
      "테스트 데이터의 크기: 3133\n"
     ]
    }
   ],
   "source": [
    "print('훈련 데이터의 크기:', len(train_labels))\n",
    "print('검증 데이터의 크기:', len(validation_labels))\n",
    "print('테스트 데이터의 크기:', len(test_labels))"
   ]
  },
  {
   "cell_type": "code",
   "execution_count": 20,
   "id": "105d7dc8-fc7c-43c9-9a72-96c8c89f59fc",
   "metadata": {},
   "outputs": [
    {
     "name": "stdout",
     "output_type": "stream",
     "text": [
      "No GPU available, using the CPU instead.\n"
     ]
    }
   ],
   "source": [
    "if torch.cuda.is_available():    \n",
    "    device = torch.device(\"cuda\")\n",
    "    print('There are %d GPU(s) available.' % torch.cuda.device_count())\n",
    "    print('We will use the GPU:', torch.cuda.get_device_name(0))\n",
    "else:\n",
    "    device = torch.device(\"cpu\")\n",
    "    print('No GPU available, using the CPU instead.')"
   ]
  },
  {
   "cell_type": "code",
   "execution_count": 21,
   "id": "d05f5478-1be4-4102-a727-c2fa3ab0e6b0",
   "metadata": {},
   "outputs": [
    {
     "name": "stderr",
     "output_type": "stream",
     "text": [
      "Some weights of BertForSequenceClassification were not initialized from the model checkpoint at klue/bert-base and are newly initialized: ['classifier.bias', 'classifier.weight']\n",
      "You should probably TRAIN this model on a down-stream task to be able to use it for predictions and inference.\n"
     ]
    }
   ],
   "source": [
    "num_labels = 2\n",
    "\n",
    "model = BertForSequenceClassification.from_pretrained(\"klue/bert-base\", num_labels=num_labels)\n",
    "# model.cuda()"
   ]
  },
  {
   "cell_type": "code",
   "execution_count": 22,
   "id": "10e22dd3-7e4b-4b25-8f50-bae9679fbf01",
   "metadata": {},
   "outputs": [],
   "source": [
    "# 옵티마이저 선택\n",
    "optimizer = torch.optim.AdamW(model.parameters(),\n",
    "                  lr = 2e-5,\n",
    "                  eps = 1e-8\n",
    "                )"
   ]
  },
  {
   "cell_type": "code",
   "execution_count": 23,
   "id": "53750c6c-b051-443e-a939-dd7ca40bd607",
   "metadata": {},
   "outputs": [],
   "source": [
    "# 몇 번의 에포크(전체 데이터에 대한 학습 횟수)를 할 것인지 선택\n",
    "epochs = 2\n",
    "total_steps = len(train_dataloader) * epochs\n",
    "scheduler = get_linear_schedule_with_warmup(optimizer, \n",
    "                                            num_warmup_steps = 0,\n",
    "                                            num_training_steps = total_steps)"
   ]
  },
  {
   "cell_type": "code",
   "execution_count": 24,
   "id": "5d81e8fc-f1ad-45af-8fa2-2bbc92c80a97",
   "metadata": {},
   "outputs": [],
   "source": [
    "def format_time(elapsed):\n",
    "    elapsed_rounded = int(round((elapsed)))\n",
    "    return str(datetime.timedelta(seconds=elapsed_rounded))  # hh:mm:ss"
   ]
  },
  {
   "cell_type": "code",
   "execution_count": 25,
   "id": "e9f377ac-0fb2-4f61-ad2a-d8f70c0b475a",
   "metadata": {},
   "outputs": [],
   "source": [
    "def metrics(predictions, labels):\n",
    "    y_pred = predictions\n",
    "    y_true = labels\n",
    "\n",
    "    # 사용 가능한 메트릭들을 사용한다.\n",
    "    accuracy = accuracy_score(y_true, y_pred)\n",
    "    f1_macro_average = f1_score(y_true=y_true, y_pred=y_pred, average='macro', zero_division=0)\n",
    "    f1_micro_average = f1_score(y_true=y_true, y_pred=y_pred, average='micro', zero_division=0)\n",
    "    f1_weighted_average = f1_score(y_true=y_true, y_pred=y_pred, average='weighted', zero_division=0)\n",
    "\n",
    "    # 메트릭 결과에 대해서 리턴\n",
    "    metrics = {'accuracy': accuracy,\n",
    "               'f1_macro': f1_macro_average,\n",
    "               'f1_micro': f1_micro_average,\n",
    "               'f1_weighted': f1_weighted_average}\n",
    "\n",
    "    return metrics"
   ]
  },
  {
   "cell_type": "code",
   "execution_count": 26,
   "id": "a0412e3d-2304-4ec8-988d-889ee580c554",
   "metadata": {},
   "outputs": [
    {
     "name": "stdout",
     "output_type": "stream",
     "text": [
      "======== Epoch 1 / 2 ========\n"
     ]
    },
    {
     "name": "stderr",
     "output_type": "stream",
     "text": [
      "314it [40:56,  7.82s/it]\n"
     ]
    },
    {
     "name": "stdout",
     "output_type": "stream",
     "text": [
      "\n",
      "  Average training loss: 0.2670\n",
      "  Training epcoh took: 0:40:56\n",
      "======== Epoch 2 / 2 ========\n"
     ]
    },
    {
     "name": "stderr",
     "output_type": "stream",
     "text": [
      "314it [41:12,  7.87s/it]"
     ]
    },
    {
     "name": "stdout",
     "output_type": "stream",
     "text": [
      "\n",
      "  Average training loss: 0.1906\n",
      "  Training epcoh took: 0:41:13\n"
     ]
    },
    {
     "name": "stderr",
     "output_type": "stream",
     "text": [
      "\n"
     ]
    }
   ],
   "source": [
    "# 랜덤 시드값.\n",
    "seed_val = 777\n",
    "random.seed(seed_val)\n",
    "np.random.seed(seed_val)\n",
    "torch.manual_seed(seed_val)\n",
    "torch.cuda.manual_seed_all(seed_val)\n",
    "\n",
    "model.zero_grad()\n",
    "for epoch_i in range(0, epochs):\n",
    "    print('======== Epoch {:} / {:} ========'.format(epoch_i + 1, epochs))\n",
    "    t0 = time.time()\n",
    "    total_loss = 0\n",
    "\n",
    "    model.train()\n",
    "\n",
    "    for step, batch in tqdm(enumerate(train_dataloader)):\n",
    "        if step % 500 == 0 and not step == 0:\n",
    "            elapsed = format_time(time.time() - t0)\n",
    "            print('  Batch {:>5,}  of  {:>5,}.    Elapsed: {:}.'.format(step, len(train_dataloader), elapsed))\n",
    "\n",
    "        batch = tuple(t.to(device) for t in batch)\n",
    "        b_input_ids, b_input_mask, b_labels = batch\n",
    "\n",
    "        outputs = model(b_input_ids, \n",
    "                        token_type_ids=None, \n",
    "                        attention_mask=b_input_mask, \n",
    "                        labels=b_labels)\n",
    "        \n",
    "        loss = outputs[0]\n",
    "        total_loss += loss.item()\n",
    "        loss.backward()\n",
    "\n",
    "        torch.nn.utils.clip_grad_norm_(model.parameters(), 1.0)  # gradient clipping if it is over a threshold\n",
    "        optimizer.step()\n",
    "        scheduler.step()\n",
    "\n",
    "        model.zero_grad()\n",
    "\n",
    "    avg_train_loss = total_loss / len(train_dataloader)            \n",
    "\n",
    "    print(\"\")\n",
    "    print(\"  Average training loss: {0:.4f}\".format(avg_train_loss))\n",
    "    print(\"  Training epcoh took: {:}\".format(format_time(time.time() - t0)))"
   ]
  },
  {
   "cell_type": "code",
   "execution_count": 27,
   "id": "b64ee91d-e8b8-4035-b4a6-20123409c3d2",
   "metadata": {},
   "outputs": [
    {
     "name": "stdout",
     "output_type": "stream",
     "text": [
      "Accuracy: 0.9210\n",
      "F1 (Macro) Score: 0.9209\n",
      "F1 (Micro) Score: 0.9210\n",
      "F1 (Weighted) Score: 0.9210\n"
     ]
    }
   ],
   "source": [
    "t0 = time.time()\n",
    "model.eval()\n",
    "accum_logits, accum_label_ids = [], []\n",
    "\n",
    "for batch in validation_dataloader:\n",
    "    batch = tuple(t.to(device) for t in batch)\n",
    "    b_input_ids, b_input_mask, b_labels = batch\n",
    "\n",
    "    with torch.no_grad():\n",
    "        outputs = model(b_input_ids, \n",
    "                        token_type_ids=None, \n",
    "                        attention_mask=b_input_mask)\n",
    "\n",
    "    logits = outputs[0]\n",
    "    logits = logits.detach().cpu().numpy()\n",
    "    label_ids = b_labels.to('cpu').numpy()\n",
    "\n",
    "    for b in logits:\n",
    "        # 3개의 값 중 가장 큰 값을 예측한 인덱스로 결정\n",
    "        # ex) [ 3.5134246  -0.30875662 -2.111316  ] ==> 0\n",
    "        accum_logits.append(np.argmax(b))\n",
    "\n",
    "    for b in label_ids:\n",
    "        accum_label_ids.append(b)\n",
    "\n",
    "accum_logits = np.array(accum_logits)\n",
    "accum_label_ids = np.array(accum_label_ids)\n",
    "results = metrics(accum_logits, accum_label_ids)\n",
    "\n",
    "print(\"Accuracy: {0:.4f}\".format(results['accuracy']))\n",
    "print(\"F1 (Macro) Score: {0:.4f}\".format(results['f1_macro']))\n",
    "print(\"F1 (Micro) Score: {0:.4f}\".format(results['f1_micro']))\n",
    "print(\"F1 (Weighted) Score: {0:.4f}\".format(results['f1_weighted']))"
   ]
  },
  {
   "cell_type": "code",
   "execution_count": 28,
   "id": "92aec96e-62dd-4fb4-a106-5c0e9c257c20",
   "metadata": {},
   "outputs": [
    {
     "name": "stderr",
     "output_type": "stream",
     "text": [
      "98it [03:25,  2.10s/it]"
     ]
    },
    {
     "name": "stdout",
     "output_type": "stream",
     "text": [
      "Accuracy: 0.9167\n",
      "F1 (Macro) Score: 0.9166\n",
      "F1 (Micro) Score: 0.9167\n",
      "F1 (Weighted) Score: 0.9167\n"
     ]
    },
    {
     "name": "stderr",
     "output_type": "stream",
     "text": [
      "\n"
     ]
    }
   ],
   "source": [
    "t0 = time.time()\n",
    "model.eval()\n",
    "accum_logits, accum_label_ids = [], []\n",
    "\n",
    "for step, batch in tqdm(enumerate(test_dataloader)):\n",
    "    if step % 100 == 0 and not step == 0:\n",
    "        elapsed = format_time(time.time() - t0)\n",
    "        print('  Batch {:>5,}  of  {:>5,}.    Elapsed: {:}.'.format(step, len(test_dataloader), elapsed))\n",
    "\n",
    "    batch = tuple(t.to(device) for t in batch)\n",
    "    b_input_ids, b_input_mask, b_labels = batch\n",
    "\n",
    "    with torch.no_grad():\n",
    "        outputs = model(b_input_ids, \n",
    "                        token_type_ids=None, \n",
    "                        attention_mask=b_input_mask)\n",
    "\n",
    "    logits = outputs[0]\n",
    "    logits = logits.detach().cpu().numpy()\n",
    "    label_ids = b_labels.to('cpu').numpy()\n",
    "    \n",
    "    for b in logits:\n",
    "        # 3개의 값 중 가장 큰 값을 예측한 인덱스로 결정\n",
    "        # ex) [ 3.5134246  -0.30875662 -2.111316  ] ==> 0\n",
    "        accum_logits.append(np.argmax(b))\n",
    "\n",
    "    for b in label_ids:\n",
    "        accum_label_ids.append(b)\n",
    "\n",
    "accum_logits = np.array(accum_logits)\n",
    "accum_label_ids = np.array(accum_label_ids)\n",
    "results = metrics(accum_logits, accum_label_ids)\n",
    "\n",
    "print(\"Accuracy: {0:.4f}\".format(results['accuracy']))\n",
    "print(\"F1 (Macro) Score: {0:.4f}\".format(results['f1_macro']))\n",
    "print(\"F1 (Micro) Score: {0:.4f}\".format(results['f1_micro']))\n",
    "print(\"F1 (Weighted) Score: {0:.4f}\".format(results['f1_weighted']))"
   ]
  },
  {
   "cell_type": "code",
   "execution_count": 29,
   "id": "1d1f74df-463d-4100-a41c-6c6e2655514f",
   "metadata": {},
   "outputs": [],
   "source": [
    "from transformers import pipeline"
   ]
  },
  {
   "cell_type": "code",
   "execution_count": 30,
   "id": "ee9f5e4d-4b4a-49eb-b2b9-aa077400621a",
   "metadata": {},
   "outputs": [
    {
     "name": "stderr",
     "output_type": "stream",
     "text": [
      "Device set to use cpu\n",
      "C:\\Users\\dmlab\\anaconda3\\Lib\\site-packages\\transformers\\pipelines\\text_classification.py:106: UserWarning: `return_all_scores` is now deprecated,  if want a similar functionality use `top_k=None` instead of `return_all_scores=True` or `top_k=1` instead of `return_all_scores=False`.\n",
      "  warnings.warn(\n"
     ]
    }
   ],
   "source": [
    "pipe = pipeline(\"text-classification\", model=model, tokenizer=tokenizer, device=0, max_length=512, #model=model.cuda(), \n",
    "                return_all_scores=True, function_to_apply='softmax')"
   ]
  },
  {
   "cell_type": "code",
   "execution_count": 31,
   "id": "a18820c3-617f-40bf-9839-d7cdaabd3791",
   "metadata": {},
   "outputs": [
    {
     "name": "stderr",
     "output_type": "stream",
     "text": [
      "Truncation was not explicitly activated but `max_length` is provided a specific value, please use `truncation=True` to explicitly truncate examples to max length. Defaulting to 'longest_first' truncation strategy. If you encode pairs of sequences (GLUE-style) with the tokenizer you can select this strategy more precisely by providing a specific strategy to `truncation`.\n"
     ]
    },
    {
     "name": "stdout",
     "output_type": "stream",
     "text": [
      "[[{'label': 'LABEL_0', 'score': 0.9185092449188232}, {'label': 'LABEL_1', 'score': 0.08149071782827377}]]\n"
     ]
    }
   ],
   "source": [
    "text = '윤석열 대통령이 탄핵될 것인가?'\n",
    "\n",
    "result = pipe(text)\n",
    "print(result)"
   ]
  }
 ],
 "metadata": {
  "kernelspec": {
   "display_name": "Python 3 (ipykernel)",
   "language": "python",
   "name": "python3"
  },
  "language_info": {
   "codemirror_mode": {
    "name": "ipython",
    "version": 3
   },
   "file_extension": ".py",
   "mimetype": "text/x-python",
   "name": "python",
   "nbconvert_exporter": "python",
   "pygments_lexer": "ipython3",
   "version": "3.12.7"
  }
 },
 "nbformat": 4,
 "nbformat_minor": 5
}
